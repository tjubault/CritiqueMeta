{
 "cells": [
  {
   "cell_type": "code",
   "execution_count": 28,
   "metadata": {
    "collapsed": true
   },
   "outputs": [],
   "source": [
    "import numpy as np, pandas as pd\n",
    "from datetime import datetime"
   ]
  },
  {
   "attachments": {},
   "cell_type": "markdown",
   "metadata": {},
   "source": [
    "At this moment we have 3 .csv files for EACH platform:\n",
    "\n",
    "- Games information\n",
    "- Critics reviews\n",
    "- Users reviews\n",
    "\n",
    "The objective is to have just 3 cleaned .csv files in total: \n",
    "1. Games information for all platforms\n",
    "2. Meta Reviews for all platforms\n",
    "3. User Reviews for all platforms"
   ]
  },
  {
   "cell_type": "code",
   "execution_count": 29,
   "metadata": {},
   "outputs": [],
   "source": [
    "# Small helper function\n",
    "\n",
    "def obj_to_numeric(df, cols):\n",
    "    for col in cols:\n",
    "        df[col] = pd.to_numeric(df[col], errors='coerce')\n",
    "        df.loc[df[col].isnull(), col] = 0"
   ]
  },
  {
   "cell_type": "markdown",
   "metadata": {},
   "source": [
    "## Games info"
   ]
  },
  {
   "attachments": {},
   "cell_type": "markdown",
   "metadata": {},
   "source": [
    "This code loads the csv for each platform that we obtained.\n",
    "- fills up meta score and user scores with \"no score yet\" in case there is none.\n",
    "- fixes the dates and drop rows with no release date\n",
    "- removes the _summary_ column which was not used (the extract script should be fixed to take that into account) "
   ]
  },
  {
   "cell_type": "code",
   "execution_count": 30,
   "metadata": {},
   "outputs": [
    {
     "name": "stdout",
     "output_type": "stream",
     "text": [
      "wii-u\n",
      "ps4\n",
      "xbox-series-x\n",
      "ps5\n",
      "switch\n",
      "3DS\n",
      "xboxone\n"
     ]
    }
   ],
   "source": [
    "platforms = ['wii-u','ps4','xbox-series-x','ps5','switch','3DS','xboxone']\n",
    "\n",
    "\n",
    "\n",
    "for platform in platforms:\n",
    "    \n",
    "    # reading the CSV\n",
    "    df = pd.read_csv('raw_data/'+ platform + '_games.csv', lineterminator='\\n')\n",
    "    \n",
    "    # Removing the summary column - it is already non-existent in the new version of the scraper\n",
    "    #df=df.drop(['summary'],axis=1)\n",
    "    \n",
    "    # Converting scores anc counts\n",
    "    obj_to_numeric(df, ['user_score', 'user_pos', 'user_mixed', 'user_neg'])\n",
    "    df.loc[df['meta_overview'].isnull(), 'meta_overview'] = 'No score yet'\n",
    "    df.loc[df['user_overview'].isnull(), 'user_overview'] = 'No user score yet'\n",
    "    df['n_user_score'] = df['user_score'] * 10\n",
    "    \n",
    "    # Converting dates to actual time objects\n",
    "    df['real_date'] = pd.to_datetime(df['release_date'],format=\"%b %d, %Y\", errors='coerce')\n",
    "    df = df.dropna(subset=['real_date'])\n",
    "    \n",
    "    # Saving the file\n",
    "    df.to_csv('raw_data/'+ platform + '_games_cleaned.csv', index=False, encoding = 'utf-8')\n",
    "\n",
    "    print(platform)\n",
    "    #print(df.describe().loc[['min', 'max','count'], ['meta_score', 'user_score']])"
   ]
  },
  {
   "attachments": {},
   "cell_type": "markdown",
   "metadata": {},
   "source": [
    "And we save the resulting dataframe into **games.csv**"
   ]
  },
  {
   "cell_type": "code",
   "execution_count": 31,
   "metadata": {
    "collapsed": true,
    "hidden": true
   },
   "outputs": [],
   "source": [
    "tables = [pd.read_csv(f'raw_data/{c}_games_cleaned.csv', lineterminator='\\n') for c in platforms]\n",
    "df = pd.concat(tables)\n",
    "df.to_csv('data/games.csv', index=False, encoding = 'utf-8')"
   ]
  },
  {
   "cell_type": "markdown",
   "metadata": {},
   "source": [
    "## Reviews"
   ]
  },
  {
   "cell_type": "markdown",
   "metadata": {
    "heading_collapsed": true
   },
   "source": [
    "#### Meta reviews"
   ]
  },
  {
   "cell_type": "markdown",
   "metadata": {
    "hidden": true
   },
   "source": [
    "Load critics reviews of each platform"
   ]
  },
  {
   "cell_type": "code",
   "execution_count": 32,
   "metadata": {
    "collapsed": true,
    "hidden": true
   },
   "outputs": [],
   "source": [
    "meta_reviews = [pd.read_csv(f'raw_data/{c}_meta_reviews.csv', lineterminator='\\n') for c in platforms]"
   ]
  },
  {
   "cell_type": "code",
   "execution_count": 33,
   "metadata": {
    "hidden": true
   },
   "outputs": [
    {
     "name": "stdout",
     "output_type": "stream",
     "text": [
      "(5930, 5)\n",
      "(60727, 5)\n",
      "(5869, 5)\n",
      "(11230, 5)\n",
      "(39972, 5)\n",
      "(12872, 5)\n",
      "(27095, 5)\n"
     ]
    }
   ],
   "source": [
    "for t in meta_reviews: \n",
    "    print(t.shape)"
   ]
  },
  {
   "attachments": {},
   "cell_type": "markdown",
   "metadata": {},
   "source": [
    "Removing rows with missing values"
   ]
  },
  {
   "cell_type": "code",
   "execution_count": 34,
   "metadata": {},
   "outputs": [],
   "source": [
    "df = pd.concat(meta_reviews)\n",
    "df = df.dropna()"
   ]
  },
  {
   "attachments": {},
   "cell_type": "markdown",
   "metadata": {
    "hidden": true
   },
   "source": [
    "Fixing date"
   ]
  },
  {
   "cell_type": "code",
   "execution_count": 35,
   "metadata": {},
   "outputs": [],
   "source": [
    "df['real_date'] = pd.to_datetime(df['date'],format=\"%b %d, %Y\", errors='coerce')\n",
    "df = df.dropna(subset=['real_date'])\n"
   ]
  },
  {
   "attachments": {},
   "cell_type": "markdown",
   "metadata": {
    "hidden": true
   },
   "source": [
    "Saving"
   ]
  },
  {
   "cell_type": "code",
   "execution_count": 36,
   "metadata": {
    "collapsed": true,
    "hidden": true
   },
   "outputs": [],
   "source": [
    "df.to_csv('data/meta_reviews.csv', index=False, encoding = 'utf-8')"
   ]
  },
  {
   "cell_type": "markdown",
   "metadata": {
    "heading_collapsed": true
   },
   "source": [
    "#### User reviews"
   ]
  },
  {
   "cell_type": "code",
   "execution_count": 37,
   "metadata": {
    "collapsed": true,
    "hidden": true
   },
   "outputs": [],
   "source": [
    "user_reviews = [pd.read_csv(f'raw_data/{c}_user_reviews.csv', lineterminator='\\n') for c in platforms]\n",
    "# for t in user_reviews: print(t.shape)\n",
    "\n",
    "df = pd.concat(user_reviews)\n",
    "df = df.dropna()\n",
    "df['real_date'] = pd.to_datetime(df['date'],format=\"%b %d, %Y\", errors='coerce')\n",
    "df = df.dropna(subset=['real_date'])\n",
    "\n",
    "# Fixing the scores to put them on the same scale as the Meta reviews\n",
    "df['score']=df['score']*10\n",
    "\n",
    "# Saving into a CSV\n",
    "df.to_csv('data/user_reviews.csv', index=False, encoding = 'utf-8')"
   ]
  }
 ],
 "metadata": {
  "kernelspec": {
   "display_name": "base",
   "language": "python",
   "name": "python3"
  },
  "language_info": {
   "codemirror_mode": {
    "name": "ipython",
    "version": 3
   },
   "file_extension": ".py",
   "mimetype": "text/x-python",
   "name": "python",
   "nbconvert_exporter": "python",
   "pygments_lexer": "ipython3",
   "version": "3.9.7"
  },
  "vscode": {
   "interpreter": {
    "hash": "3067ead486e059ec00ffe7555bdb889e6e264a24dc711bf108106cc7baee8d5d"
   }
  }
 },
 "nbformat": 4,
 "nbformat_minor": 2
}
