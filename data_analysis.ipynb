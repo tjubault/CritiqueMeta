{
 "cells": [
  {
   "cell_type": "code",
   "execution_count": 65,
   "metadata": {
    "collapsed": true
   },
   "outputs": [],
   "source": [
    "%matplotlib inline\n",
    "import numpy as np, pandas as pd\n",
    "import matplotlib.pyplot as plt, seaborn as sns\n",
    "import plotly.express as px\n"
   ]
  },
  {
   "cell_type": "code",
   "execution_count": 66,
   "metadata": {
    "collapsed": true
   },
   "outputs": [],
   "source": [
    "df_games = pd.read_csv('data/games.csv', lineterminator='\\n')\n",
    "df_meta=pd.read_csv('data/meta_reviews.csv',lineterminator='\\n')\n",
    "df_users=pd.read_csv('data/user_reviews.csv',lineterminator='\\n')"
   ]
  },
  {
   "cell_type": "code",
   "execution_count": 69,
   "metadata": {},
   "outputs": [
    {
     "data": {
      "text/plain": [
       "((31149, 18), (163580, 6), (176913, 6))"
      ]
     },
     "execution_count": 69,
     "metadata": {},
     "output_type": "execute_result"
    }
   ],
   "source": [
    "df_games.shape, df_meta.shape, df_users.shape\n"
   ]
  },
  {
   "cell_type": "code",
   "execution_count": 70,
   "metadata": {},
   "outputs": [
    {
     "data": {
      "text/html": [
       "<div>\n",
       "<style scoped>\n",
       "    .dataframe tbody tr th:only-of-type {\n",
       "        vertical-align: middle;\n",
       "    }\n",
       "\n",
       "    .dataframe tbody tr th {\n",
       "        vertical-align: top;\n",
       "    }\n",
       "\n",
       "    .dataframe thead th {\n",
       "        text-align: right;\n",
       "    }\n",
       "</style>\n",
       "<table border=\"1\" class=\"dataframe\">\n",
       "  <thead>\n",
       "    <tr style=\"text-align: right;\">\n",
       "      <th></th>\n",
       "      <th>0</th>\n",
       "      <th>1</th>\n",
       "      <th>2</th>\n",
       "      <th>3</th>\n",
       "      <th>4</th>\n",
       "    </tr>\n",
       "  </thead>\n",
       "  <tbody>\n",
       "    <tr>\n",
       "      <th>score</th>\n",
       "      <td>42.0</td>\n",
       "      <td>40.0</td>\n",
       "      <td>40.0</td>\n",
       "      <td>95.0</td>\n",
       "      <td>90.0</td>\n",
       "    </tr>\n",
       "    <tr>\n",
       "      <th>critic</th>\n",
       "      <td>IGN</td>\n",
       "      <td>Official Nintendo Magazine UK</td>\n",
       "      <td>Nintendo Life</td>\n",
       "      <td>Destructoid</td>\n",
       "      <td>FNintendo</td>\n",
       "    </tr>\n",
       "    <tr>\n",
       "      <th>date</th>\n",
       "      <td>Jan 14, 2013</td>\n",
       "      <td>Jan 27, 2013</td>\n",
       "      <td>Dec 17, 2012</td>\n",
       "      <td>Jun  8, 2014</td>\n",
       "      <td>Nov  5, 2015</td>\n",
       "    </tr>\n",
       "    <tr>\n",
       "      <th>title</th>\n",
       "      <td>007 Legends</td>\n",
       "      <td>007 Legends</td>\n",
       "      <td>007 Legends</td>\n",
       "      <td>1001 Spikes</td>\n",
       "      <td>1001 Spikes</td>\n",
       "    </tr>\n",
       "    <tr>\n",
       "      <th>platform</th>\n",
       "      <td>Wii U</td>\n",
       "      <td>Wii U</td>\n",
       "      <td>Wii U</td>\n",
       "      <td>Wii U</td>\n",
       "      <td>Wii U</td>\n",
       "    </tr>\n",
       "    <tr>\n",
       "      <th>real_date</th>\n",
       "      <td>2013-01-14</td>\n",
       "      <td>2013-01-27</td>\n",
       "      <td>2012-12-17</td>\n",
       "      <td>2014-06-08</td>\n",
       "      <td>2015-11-05</td>\n",
       "    </tr>\n",
       "  </tbody>\n",
       "</table>\n",
       "</div>"
      ],
      "text/plain": [
       "                      0                              1              2  \\\n",
       "score              42.0                           40.0           40.0   \n",
       "critic              IGN  Official Nintendo Magazine UK  Nintendo Life   \n",
       "date       Jan 14, 2013                   Jan 27, 2013   Dec 17, 2012   \n",
       "title       007 Legends                    007 Legends    007 Legends   \n",
       "platform          Wii U                          Wii U          Wii U   \n",
       "real_date    2013-01-14                     2013-01-27     2012-12-17   \n",
       "\n",
       "                      3             4  \n",
       "score              95.0          90.0  \n",
       "critic      Destructoid     FNintendo  \n",
       "date       Jun  8, 2014  Nov  5, 2015  \n",
       "title       1001 Spikes   1001 Spikes  \n",
       "platform          Wii U         Wii U  \n",
       "real_date    2014-06-08    2015-11-05  "
      ]
     },
     "execution_count": 70,
     "metadata": {},
     "output_type": "execute_result"
    }
   ],
   "source": [
    "df_meta.head().transpose()"
   ]
  },
  {
   "cell_type": "code",
   "execution_count": 5,
   "metadata": {
    "collapsed": true
   },
   "outputs": [],
   "source": [
    "# si j'utilisais pyplot\n",
    "plt.rc('xtick', labelsize=14)\n",
    "plt.rc('ytick', labelsize=14)\n",
    "sns.set_style(style='whitegrid')"
   ]
  },
  {
   "cell_type": "markdown",
   "metadata": {},
   "source": [
    "### General"
   ]
  },
  {
   "cell_type": "markdown",
   "metadata": {},
   "source": [
    "__Which console has more games titles ?__"
   ]
  },
  {
   "cell_type": "code",
   "execution_count": 72,
   "metadata": {},
   "outputs": [
    {
     "data": {
      "image/png": "[encoded data removed]",
      "text/plain": [
       "<Figure size 720x432 with 1 Axes>"
      ]
     },
     "metadata": {
      "needs_background": "light"
     },
     "output_type": "display_data"
    }
   ],
   "source": [
    "df_games.groupby('platform')['title'].count().sort_values(ascending=False).plot.bar(figsize=(10, 6), rot=0);"
   ]
  },
  {
   "attachments": {},
   "cell_type": "markdown",
   "metadata": {},
   "source": [
    "Je regarde combien de critiques sont faites par chaque organe identifié dans Metacritique. \n",
    "On comprend ici que TheXboxHub a produit 3923 critiques, Nintendo Life 3864... "
   ]
  },
  {
   "cell_type": "code",
   "execution_count": 77,
   "metadata": {},
   "outputs": [
    {
     "data": {
      "text/plain": [
       "critic\n",
       "TheXboxHub              3923\n",
       "Nintendo Life           3864\n",
       "NintendoWorldReport     2947\n",
       "God is a Geek           2514\n",
       "COGconnected            2496\n",
       "Video Chums             2477\n",
       "Cubed3                  2397\n",
       "Push Square             2299\n",
       "Digitally Downloaded    2297\n",
       "Vandal                  2281\n",
       "Multiplayer.it          2169\n",
       "Everyeye.it             2129\n",
       "PlayStation Universe    2054\n",
       "GameSpew                1990\n",
       "TheSixthAxis            1912\n",
       "Gaming Age              1822\n",
       "IGN                     1822\n",
       "Switch Player           1806\n",
       "4Players.de             1770\n",
       "SpazioGames             1758\n",
       "Jeuxvideo.com           1703\n",
       "ZTGD                    1702\n",
       "Xbox Tavern             1700\n",
       "Metro GameCentral       1655\n",
       "Destructoid             1654\n",
       "Name: score, dtype: int64"
      ]
     },
     "execution_count": 77,
     "metadata": {},
     "output_type": "execute_result"
    }
   ],
   "source": [
    "df_meta.groupby('critic')['score'].count().sort_values(ascending=False)[:25]\n",
    "#.plot.bar(figsize=(10, 6), rot=0);"
   ]
  },
  {
   "cell_type": "markdown",
   "metadata": {},
   "source": [
    "Given release date let's add two columns with year and month information"
   ]
  },
  {
   "cell_type": "code",
   "execution_count": 8,
   "metadata": {
    "collapsed": true
   },
   "outputs": [],
   "source": [
    "df['release_date'] = pd.to_datetime(df['release_date'])\n",
    "df['month'] = df['release_date'].dt.month\n",
    "df['year'] = df['release_date'].dt.year"
   ]
  },
  {
   "cell_type": "markdown",
   "metadata": {},
   "source": [
    "EA Sports appears also as 'EA Sports, EA Vancouver' and 'EA Vancouver'. Let's unify the names"
   ]
  },
  {
   "cell_type": "code",
   "execution_count": 9,
   "metadata": {
    "collapsed": true
   },
   "outputs": [],
   "source": [
    "df.loc[df['developer'] == 'EA Sports, EA Vancouver', 'developer'] = 'EA Sports'\n",
    "df.loc[df['developer'] == 'EA Vancouver', 'developer'] = 'EA Sports'"
   ]
  },
  {
   "cell_type": "markdown",
   "metadata": {},
   "source": [
    "In order to perform analysis related to scores, we need to use those games with reviews"
   ]
  },
  {
   "cell_type": "code",
   "execution_count": 10,
   "metadata": {
    "collapsed": true
   },
   "outputs": [],
   "source": [
    "tmp = df.loc[(df['meta_overview'] != 'No score yet') & (df['user_overview'] != 'No user score yet')].copy()"
   ]
  },
  {
   "cell_type": "markdown",
   "metadata": {},
   "source": [
    "__Which console has best average scores ?__"
   ]
  },
  {
   "cell_type": "code",
   "execution_count": 11,
   "metadata": {},
   "outputs": [
    {
     "name": "stderr",
     "output_type": "stream",
     "text": [
      "/var/folders/2h/pylp0hzn5td4mz63q7r0cz0h0000gn/T/ipykernel_30894/3120562876.py:1: FutureWarning: Indexing with multiple keys (implicitly converted to a tuple of keys) will be deprecated, use a list instead.\n",
      "  tmp.groupby('platform')['meta_score', 'n_user_score'].mean().sort_values('meta_score', ascending=False).plot.bar(figsize=(10, 6), rot=0);\n"
     ]
    },
    {
     "data": {
      "image/png": "[encoded data removed]",
      "text/plain": [
       "<Figure size 720x432 with 1 Axes>"
      ]
     },
     "metadata": {},
     "output_type": "display_data"
    }
   ],
   "source": [
    "tmp.groupby('platform')['meta_score', 'n_user_score'].mean().sort_values('meta_score', ascending=False).plot.bar(figsize=(10, 6), rot=0);"
   ]
  },
  {
   "cell_type": "markdown",
   "metadata": {},
   "source": [
    "Let's compare metacritics scores vs user scores. (metacritics scores are made by specialized critics sites while user scores by people registered on metacritic.com)"
   ]
  },
  {
   "cell_type": "code",
   "execution_count": 16,
   "metadata": {},
   "outputs": [
    {
     "data": {
      "image/png": "[encoded data removed]",
      "text/plain": [
       "<Figure size 864x432 with 1 Axes>"
      ]
     },
     "metadata": {},
     "output_type": "display_data"
    }
   ],
   "source": [
    "tmp[['meta_score']].plot.hist(bins=90, figsize=(12, 6));"
   ]
  },
  {
   "cell_type": "code",
   "execution_count": 17,
   "metadata": {},
   "outputs": [
    {
     "data": {
      "image/png": "[encoded data removed]",
      "text/plain": [
       "<Figure size 864x432 with 1 Axes>"
      ]
     },
     "metadata": {},
     "output_type": "display_data"
    }
   ],
   "source": [
    "tmp[['n_user_score']].plot.hist(bins=25, figsize=(12, 6));"
   ]
  },
  {
   "cell_type": "markdown",
   "metadata": {},
   "source": [
    "Meta scores tend to be higher than user scores"
   ]
  },
  {
   "cell_type": "code",
   "execution_count": 18,
   "metadata": {},
   "outputs": [
    {
     "data": {
      "image/png": "[encoded data removed]",
      "text/plain": [
       "<Figure size 864x576 with 1 Axes>"
      ]
     },
     "metadata": {},
     "output_type": "display_data"
    }
   ],
   "source": [
    "fig, ax = plt.subplots(figsize=(12, 8))\n",
    "ax.plot([0, 100], [0, 100])\n",
    "tmp.plot.scatter(x='n_user_score', y='meta_score', ax=ax, alpha=0.25);"
   ]
  },
  {
   "cell_type": "code",
   "execution_count": 19,
   "metadata": {},
   "outputs": [
    {
     "data": {
      "image/png": "[encoded data removed]",
      "text/plain": [
       "<Figure size 864x432 with 1 Axes>"
      ]
     },
     "metadata": {},
     "output_type": "display_data"
    }
   ],
   "source": [
    "mo = tmp.groupby('meta_overview')['title'].count()\n",
    "mo.name = 'meta_overview'\n",
    "uo = tmp.groupby('user_overview')['title'].count()\n",
    "uo.name = 'user_overview'\n",
    "pd.concat([mo, uo], axis=1).sort_values('meta_overview', ascending=False).plot.bar(figsize=(12, 6));"
   ]
  },
  {
   "cell_type": "markdown",
   "metadata": {},
   "source": [
    "We confirm that there are more 'Generally favorable reviews' in meta scores and more 'Generally unfavorable reviews' in user scores. <br>Users tend to be more critic in their reviews than specialized sites (paid reviews ?)"
   ]
  },
  {
   "cell_type": "markdown",
   "metadata": {},
   "source": [
    "__How many new titles were released since 2014 ?__"
   ]
  },
  {
   "cell_type": "markdown",
   "metadata": {},
   "source": [
    "Here we compare just PlayStation 4 and Xbox One because both platforms were announced the same year (2013). On the other hand Nintendo Switch in 2016"
   ]
  },
  {
   "cell_type": "code",
   "execution_count": 25,
   "metadata": {},
   "outputs": [
    {
     "data": {
      "image/png": "[encoded data removed]",
      "text/plain": [
       "<Figure size 1080x432 with 1 Axes>"
      ]
     },
     "metadata": {},
     "output_type": "display_data"
    }
   ],
   "source": [
    "# df.loc[(df['year'] > 2013) & (df['year'] < 2023) & (df['platform'] != 'Switch')].groupby(['year', 'platform'])['title'].count().unstack().plot.bar(figsize=(10, 6));\n",
    "df.loc[(df['year'] > 2011) & (df['year'] < 2023)].groupby(['year', 'platform'])['title'].count().unstack().plot.line(figsize=(15, 6));"
   ]
  },
  {
   "cell_type": "markdown",
   "metadata": {},
   "source": [
    "__When are new titles released ?__"
   ]
  },
  {
   "cell_type": "code",
   "execution_count": 29,
   "metadata": {},
   "outputs": [
    {
     "data": {
      "image/png": "[encoded data removed]",
      "text/plain": [
       "<Figure size 864x432 with 1 Axes>"
      ]
     },
     "metadata": {},
     "output_type": "display_data"
    }
   ],
   "source": [
    "df.groupby(['year', 'month'])['title'].count().groupby('month').mean().plot(figsize=(12, 6));"
   ]
  },
  {
   "cell_type": "markdown",
   "metadata": {},
   "source": [
    "There's a peak between August and November (anticipating christmas sales?)"
   ]
  },
  {
   "cell_type": "markdown",
   "metadata": {},
   "source": [
    "__How did average scores evolve since 2014 ?__"
   ]
  },
  {
   "cell_type": "code",
   "execution_count": 31,
   "metadata": {},
   "outputs": [
    {
     "data": {
      "image/png": "[encoded data removed]",
      "text/plain": [
       "<Figure size 1080x432 with 1 Axes>"
      ]
     },
     "metadata": {},
     "output_type": "display_data"
    }
   ],
   "source": [
    "fig = plt.figure(figsize = (15,6))\n",
    "ax = fig.add_subplot(1, 1, 1)\n",
    "tmp.loc[(tmp['year'] > 2012) & (tmp['year'] < 2023), ('meta_score', 'year')].groupby('year').mean().plot(ax = ax, xticks=np.arange(2012, 2022, 1))\n",
    "tmp.loc[(tmp['year'] > 2012) & (tmp['year'] < 2023), ('n_user_score', 'year')].groupby('year').mean().plot(ax = ax, xticks=np.arange(2012, 2022, 1));"
   ]
  },
  {
   "cell_type": "markdown",
   "metadata": {},
   "source": [
    "No big changes"
   ]
  },
  {
   "cell_type": "markdown",
   "metadata": {
    "heading_collapsed": true
   },
   "source": [
    "### Best games"
   ]
  },
  {
   "cell_type": "markdown",
   "metadata": {
    "hidden": true
   },
   "source": [
    "__How many titles per console have metacritic score greater than 85?__"
   ]
  },
  {
   "cell_type": "code",
   "execution_count": 32,
   "metadata": {
    "hidden": true
   },
   "outputs": [
    {
     "data": {
      "text/plain": [
       "platform\n",
       "PlayStation 4    188\n",
       "Switch           172\n",
       "Xbox One         158\n",
       "PlayStation 5     52\n",
       "Xbox Series X     52\n",
       "3DS               40\n",
       "Wii U             31\n",
       "Name: title, dtype: int64"
      ]
     },
     "execution_count": 32,
     "metadata": {},
     "output_type": "execute_result"
    }
   ],
   "source": [
    "tmp.loc[tmp['meta_score'] >= 85].groupby('platform')['title'].count().sort_values(ascending=False)"
   ]
  },
  {
   "cell_type": "markdown",
   "metadata": {
    "hidden": true
   },
   "source": [
    "__How many titles per console have user score greater than 85?__"
   ]
  },
  {
   "cell_type": "code",
   "execution_count": 33,
   "metadata": {
    "hidden": true
   },
   "outputs": [
    {
     "data": {
      "text/plain": [
       "platform\n",
       "PlayStation 4    86\n",
       "Switch           73\n",
       "Xbox One         47\n",
       "Xbox Series X    33\n",
       "Wii U            23\n",
       "3DS              20\n",
       "PlayStation 5    16\n",
       "Name: title, dtype: int64"
      ]
     },
     "execution_count": 33,
     "metadata": {},
     "output_type": "execute_result"
    }
   ],
   "source": [
    "tmp.loc[tmp['n_user_score'] >= 85].groupby('platform')['title'].count().sort_values(ascending=False)"
   ]
  },
  {
   "cell_type": "markdown",
   "metadata": {
    "hidden": true
   },
   "source": [
    "Let's add a column with the difference between meta and user score"
   ]
  },
  {
   "cell_type": "code",
   "execution_count": 34,
   "metadata": {
    "collapsed": true,
    "hidden": true
   },
   "outputs": [],
   "source": [
    "tmp['dif'] = tmp['meta_score'] - tmp['n_user_score']"
   ]
  },
  {
   "cell_type": "code",
   "execution_count": 35,
   "metadata": {
    "collapsed": true,
    "hidden": true
   },
   "outputs": [],
   "source": [
    "ps4 = tmp.loc[tmp['platform'] == 'PlayStation 4']\n",
    "xone = tmp.loc[tmp['platform'] == 'Xbox One']\n",
    "switch = tmp.loc[tmp['platform'] == 'Switch']"
   ]
  },
  {
   "cell_type": "markdown",
   "metadata": {
    "heading_collapsed": true,
    "hidden": true
   },
   "source": [
    "#### PlayStation 4"
   ]
  },
  {
   "cell_type": "markdown",
   "metadata": {
    "hidden": true
   },
   "source": [
    "__What are the best 20 titles according to metacritic score?__"
   ]
  },
  {
   "cell_type": "code",
   "execution_count": 36,
   "metadata": {
    "hidden": true
   },
   "outputs": [
    {
     "data": {
      "text/html": [
       "<div>\n",
       "<style scoped>\n",
       "    .dataframe tbody tr th:only-of-type {\n",
       "        vertical-align: middle;\n",
       "    }\n",
       "\n",
       "    .dataframe tbody tr th {\n",
       "        vertical-align: top;\n",
       "    }\n",
       "\n",
       "    .dataframe thead th {\n",
       "        text-align: right;\n",
       "    }\n",
       "</style>\n",
       "<table border=\"1\" class=\"dataframe\">\n",
       "  <thead>\n",
       "    <tr style=\"text-align: right;\">\n",
       "      <th></th>\n",
       "      <th>title</th>\n",
       "      <th>meta_score</th>\n",
       "      <th>n_user_score</th>\n",
       "      <th>dif</th>\n",
       "    </tr>\n",
       "  </thead>\n",
       "  <tbody>\n",
       "    <tr>\n",
       "      <th>0</th>\n",
       "      <td>Grand Theft Auto V</td>\n",
       "      <td>97</td>\n",
       "      <td>83.0</td>\n",
       "      <td>14.0</td>\n",
       "    </tr>\n",
       "    <tr>\n",
       "      <th>1</th>\n",
       "      <td>Red Dead Redemption 2</td>\n",
       "      <td>97</td>\n",
       "      <td>87.0</td>\n",
       "      <td>10.0</td>\n",
       "    </tr>\n",
       "    <tr>\n",
       "      <th>2</th>\n",
       "      <td>Persona 5 Royal</td>\n",
       "      <td>95</td>\n",
       "      <td>85.0</td>\n",
       "      <td>10.0</td>\n",
       "    </tr>\n",
       "    <tr>\n",
       "      <th>3</th>\n",
       "      <td>The Last of Us Remastered</td>\n",
       "      <td>95</td>\n",
       "      <td>92.0</td>\n",
       "      <td>3.0</td>\n",
       "    </tr>\n",
       "    <tr>\n",
       "      <th>4</th>\n",
       "      <td>God of War</td>\n",
       "      <td>94</td>\n",
       "      <td>91.0</td>\n",
       "      <td>3.0</td>\n",
       "    </tr>\n",
       "    <tr>\n",
       "      <th>5</th>\n",
       "      <td>The Last of Us Part II</td>\n",
       "      <td>93</td>\n",
       "      <td>58.0</td>\n",
       "      <td>35.0</td>\n",
       "    </tr>\n",
       "    <tr>\n",
       "      <th>6</th>\n",
       "      <td>Metal Gear Solid V: The Phantom Pain</td>\n",
       "      <td>93</td>\n",
       "      <td>82.0</td>\n",
       "      <td>11.0</td>\n",
       "    </tr>\n",
       "    <tr>\n",
       "      <th>7</th>\n",
       "      <td>Persona 5</td>\n",
       "      <td>93</td>\n",
       "      <td>87.0</td>\n",
       "      <td>6.0</td>\n",
       "    </tr>\n",
       "    <tr>\n",
       "      <th>8</th>\n",
       "      <td>XCOM 2: War of the Chosen</td>\n",
       "      <td>93</td>\n",
       "      <td>69.0</td>\n",
       "      <td>24.0</td>\n",
       "    </tr>\n",
       "    <tr>\n",
       "      <th>9</th>\n",
       "      <td>Uncharted 4: A Thief's End</td>\n",
       "      <td>93</td>\n",
       "      <td>88.0</td>\n",
       "      <td>5.0</td>\n",
       "    </tr>\n",
       "    <tr>\n",
       "      <th>10</th>\n",
       "      <td>Journey</td>\n",
       "      <td>92</td>\n",
       "      <td>83.0</td>\n",
       "      <td>9.0</td>\n",
       "    </tr>\n",
       "    <tr>\n",
       "      <th>11</th>\n",
       "      <td>Divinity: Original Sin II - Definitive Edition</td>\n",
       "      <td>92</td>\n",
       "      <td>80.0</td>\n",
       "      <td>12.0</td>\n",
       "    </tr>\n",
       "    <tr>\n",
       "      <th>12</th>\n",
       "      <td>Undertale</td>\n",
       "      <td>92</td>\n",
       "      <td>73.0</td>\n",
       "      <td>19.0</td>\n",
       "    </tr>\n",
       "    <tr>\n",
       "      <th>13</th>\n",
       "      <td>Bloodborne</td>\n",
       "      <td>92</td>\n",
       "      <td>89.0</td>\n",
       "      <td>3.0</td>\n",
       "    </tr>\n",
       "    <tr>\n",
       "      <th>14</th>\n",
       "      <td>The Witcher 3: Wild Hunt</td>\n",
       "      <td>92</td>\n",
       "      <td>92.0</td>\n",
       "      <td>0.0</td>\n",
       "    </tr>\n",
       "    <tr>\n",
       "      <th>15</th>\n",
       "      <td>The Witcher 3: Wild Hunt - Blood and Wine</td>\n",
       "      <td>91</td>\n",
       "      <td>92.0</td>\n",
       "      <td>-1.0</td>\n",
       "    </tr>\n",
       "    <tr>\n",
       "      <th>16</th>\n",
       "      <td>Dragon Quest XI S: Echoes of an Elusive Age - ...</td>\n",
       "      <td>91</td>\n",
       "      <td>80.0</td>\n",
       "      <td>11.0</td>\n",
       "    </tr>\n",
       "    <tr>\n",
       "      <th>17</th>\n",
       "      <td>Resident Evil 2</td>\n",
       "      <td>91</td>\n",
       "      <td>90.0</td>\n",
       "      <td>1.0</td>\n",
       "    </tr>\n",
       "    <tr>\n",
       "      <th>18</th>\n",
       "      <td>Shadow of the Colossus</td>\n",
       "      <td>91</td>\n",
       "      <td>78.0</td>\n",
       "      <td>13.0</td>\n",
       "    </tr>\n",
       "    <tr>\n",
       "      <th>19</th>\n",
       "      <td>Final Fantasy XIV: Shadowbringers</td>\n",
       "      <td>91</td>\n",
       "      <td>87.0</td>\n",
       "      <td>4.0</td>\n",
       "    </tr>\n",
       "  </tbody>\n",
       "</table>\n",
       "</div>"
      ],
      "text/plain": [
       "                                                title  meta_score  \\\n",
       "0                                  Grand Theft Auto V          97   \n",
       "1                               Red Dead Redemption 2          97   \n",
       "2                                     Persona 5 Royal          95   \n",
       "3                           The Last of Us Remastered          95   \n",
       "4                                          God of War          94   \n",
       "5                              The Last of Us Part II          93   \n",
       "6                Metal Gear Solid V: The Phantom Pain          93   \n",
       "7                                           Persona 5          93   \n",
       "8                           XCOM 2: War of the Chosen          93   \n",
       "9                          Uncharted 4: A Thief's End          93   \n",
       "10                                            Journey          92   \n",
       "11     Divinity: Original Sin II - Definitive Edition          92   \n",
       "12                                          Undertale          92   \n",
       "13                                         Bloodborne          92   \n",
       "14                           The Witcher 3: Wild Hunt          92   \n",
       "15          The Witcher 3: Wild Hunt - Blood and Wine          91   \n",
       "16  Dragon Quest XI S: Echoes of an Elusive Age - ...          91   \n",
       "17                                    Resident Evil 2          91   \n",
       "18                             Shadow of the Colossus          91   \n",
       "19                  Final Fantasy XIV: Shadowbringers          91   \n",
       "\n",
       "    n_user_score   dif  \n",
       "0           83.0  14.0  \n",
       "1           87.0  10.0  \n",
       "2           85.0  10.0  \n",
       "3           92.0   3.0  \n",
       "4           91.0   3.0  \n",
       "5           58.0  35.0  \n",
       "6           82.0  11.0  \n",
       "7           87.0   6.0  \n",
       "8           69.0  24.0  \n",
       "9           88.0   5.0  \n",
       "10          83.0   9.0  \n",
       "11          80.0  12.0  \n",
       "12          73.0  19.0  \n",
       "13          89.0   3.0  \n",
       "14          92.0   0.0  \n",
       "15          92.0  -1.0  \n",
       "16          80.0  11.0  \n",
       "17          90.0   1.0  \n",
       "18          78.0  13.0  \n",
       "19          87.0   4.0  "
      ]
     },
     "execution_count": 36,
     "metadata": {},
     "output_type": "execute_result"
    }
   ],
   "source": [
    "ps4.sort_values('meta_score', ascending=False).reset_index(drop=True)[['title', 'meta_score', 'n_user_score', 'dif']][:20]"
   ]
  },
  {
   "cell_type": "markdown",
   "metadata": {
    "hidden": true
   },
   "source": [
    "For a lot of those titles there's a big difference between what meta critics and users think"
   ]
  },
  {
   "cell_type": "markdown",
   "metadata": {
    "hidden": true
   },
   "source": [
    "__What are the best 20 titles according to user score?__"
   ]
  },
  {
   "cell_type": "code",
   "execution_count": 37,
   "metadata": {
    "hidden": true
   },
   "outputs": [
    {
     "data": {
      "text/html": [
       "<div>\n",
       "<style scoped>\n",
       "    .dataframe tbody tr th:only-of-type {\n",
       "        vertical-align: middle;\n",
       "    }\n",
       "\n",
       "    .dataframe tbody tr th {\n",
       "        vertical-align: top;\n",
       "    }\n",
       "\n",
       "    .dataframe thead th {\n",
       "        text-align: right;\n",
       "    }\n",
       "</style>\n",
       "<table border=\"1\" class=\"dataframe\">\n",
       "  <thead>\n",
       "    <tr style=\"text-align: right;\">\n",
       "      <th></th>\n",
       "      <th>title</th>\n",
       "      <th>n_user_score</th>\n",
       "      <th>meta_score</th>\n",
       "      <th>dif</th>\n",
       "    </tr>\n",
       "  </thead>\n",
       "  <tbody>\n",
       "    <tr>\n",
       "      <th>0</th>\n",
       "      <td>Wanderer</td>\n",
       "      <td>98.0</td>\n",
       "      <td>72</td>\n",
       "      <td>-26.0</td>\n",
       "    </tr>\n",
       "    <tr>\n",
       "      <th>1</th>\n",
       "      <td>Dynasty Warriors 9 Empires</td>\n",
       "      <td>96.0</td>\n",
       "      <td>58</td>\n",
       "      <td>-38.0</td>\n",
       "    </tr>\n",
       "    <tr>\n",
       "      <th>2</th>\n",
       "      <td>Crystar</td>\n",
       "      <td>96.0</td>\n",
       "      <td>67</td>\n",
       "      <td>-29.0</td>\n",
       "    </tr>\n",
       "    <tr>\n",
       "      <th>3</th>\n",
       "      <td>Bayonetta &amp; Vanquish</td>\n",
       "      <td>93.0</td>\n",
       "      <td>85</td>\n",
       "      <td>-8.0</td>\n",
       "    </tr>\n",
       "    <tr>\n",
       "      <th>4</th>\n",
       "      <td>Star Renegades</td>\n",
       "      <td>93.0</td>\n",
       "      <td>78</td>\n",
       "      <td>-15.0</td>\n",
       "    </tr>\n",
       "    <tr>\n",
       "      <th>5</th>\n",
       "      <td>Fatal Frame: Maiden of Black Water</td>\n",
       "      <td>93.0</td>\n",
       "      <td>71</td>\n",
       "      <td>-22.0</td>\n",
       "    </tr>\n",
       "    <tr>\n",
       "      <th>6</th>\n",
       "      <td>The Witcher 3: Wild Hunt</td>\n",
       "      <td>92.0</td>\n",
       "      <td>92</td>\n",
       "      <td>0.0</td>\n",
       "    </tr>\n",
       "    <tr>\n",
       "      <th>7</th>\n",
       "      <td>The Witcher 3: Wild Hunt - Blood and Wine</td>\n",
       "      <td>92.0</td>\n",
       "      <td>91</td>\n",
       "      <td>-1.0</td>\n",
       "    </tr>\n",
       "    <tr>\n",
       "      <th>8</th>\n",
       "      <td>Infinifactory</td>\n",
       "      <td>92.0</td>\n",
       "      <td>70</td>\n",
       "      <td>-22.0</td>\n",
       "    </tr>\n",
       "    <tr>\n",
       "      <th>9</th>\n",
       "      <td>The Evil Within: The Assignment</td>\n",
       "      <td>92.0</td>\n",
       "      <td>80</td>\n",
       "      <td>-12.0</td>\n",
       "    </tr>\n",
       "    <tr>\n",
       "      <th>10</th>\n",
       "      <td>The Last of Us Remastered</td>\n",
       "      <td>92.0</td>\n",
       "      <td>95</td>\n",
       "      <td>3.0</td>\n",
       "    </tr>\n",
       "    <tr>\n",
       "      <th>11</th>\n",
       "      <td>God of War</td>\n",
       "      <td>91.0</td>\n",
       "      <td>94</td>\n",
       "      <td>3.0</td>\n",
       "    </tr>\n",
       "    <tr>\n",
       "      <th>12</th>\n",
       "      <td>Ghost of Tsushima</td>\n",
       "      <td>91.0</td>\n",
       "      <td>83</td>\n",
       "      <td>-8.0</td>\n",
       "    </tr>\n",
       "    <tr>\n",
       "      <th>13</th>\n",
       "      <td>The Evil Within: The Consequence</td>\n",
       "      <td>91.0</td>\n",
       "      <td>75</td>\n",
       "      <td>-16.0</td>\n",
       "    </tr>\n",
       "    <tr>\n",
       "      <th>14</th>\n",
       "      <td>Vanquish</td>\n",
       "      <td>91.0</td>\n",
       "      <td>77</td>\n",
       "      <td>-14.0</td>\n",
       "    </tr>\n",
       "    <tr>\n",
       "      <th>15</th>\n",
       "      <td>Dark Souls III</td>\n",
       "      <td>90.0</td>\n",
       "      <td>89</td>\n",
       "      <td>-1.0</td>\n",
       "    </tr>\n",
       "    <tr>\n",
       "      <th>16</th>\n",
       "      <td>Astro Bot: Rescue Mission</td>\n",
       "      <td>90.0</td>\n",
       "      <td>90</td>\n",
       "      <td>0.0</td>\n",
       "    </tr>\n",
       "    <tr>\n",
       "      <th>17</th>\n",
       "      <td>Atelier Sophie 2: The Alchemist of the Mysteri...</td>\n",
       "      <td>90.0</td>\n",
       "      <td>82</td>\n",
       "      <td>-8.0</td>\n",
       "    </tr>\n",
       "    <tr>\n",
       "      <th>18</th>\n",
       "      <td>Rise of the Third Power</td>\n",
       "      <td>90.0</td>\n",
       "      <td>79</td>\n",
       "      <td>-11.0</td>\n",
       "    </tr>\n",
       "    <tr>\n",
       "      <th>19</th>\n",
       "      <td>The Witcher 3: Wild Hunt - Hearts of Stone</td>\n",
       "      <td>90.0</td>\n",
       "      <td>90</td>\n",
       "      <td>0.0</td>\n",
       "    </tr>\n",
       "  </tbody>\n",
       "</table>\n",
       "</div>"
      ],
      "text/plain": [
       "                                                title  n_user_score  \\\n",
       "0                                            Wanderer          98.0   \n",
       "1                          Dynasty Warriors 9 Empires          96.0   \n",
       "2                                             Crystar          96.0   \n",
       "3                                Bayonetta & Vanquish          93.0   \n",
       "4                                      Star Renegades          93.0   \n",
       "5                  Fatal Frame: Maiden of Black Water          93.0   \n",
       "6                            The Witcher 3: Wild Hunt          92.0   \n",
       "7           The Witcher 3: Wild Hunt - Blood and Wine          92.0   \n",
       "8                                       Infinifactory          92.0   \n",
       "9                     The Evil Within: The Assignment          92.0   \n",
       "10                          The Last of Us Remastered          92.0   \n",
       "11                                         God of War          91.0   \n",
       "12                                  Ghost of Tsushima          91.0   \n",
       "13                   The Evil Within: The Consequence          91.0   \n",
       "14                                           Vanquish          91.0   \n",
       "15                                     Dark Souls III          90.0   \n",
       "16                          Astro Bot: Rescue Mission          90.0   \n",
       "17  Atelier Sophie 2: The Alchemist of the Mysteri...          90.0   \n",
       "18                            Rise of the Third Power          90.0   \n",
       "19         The Witcher 3: Wild Hunt - Hearts of Stone          90.0   \n",
       "\n",
       "    meta_score   dif  \n",
       "0           72 -26.0  \n",
       "1           58 -38.0  \n",
       "2           67 -29.0  \n",
       "3           85  -8.0  \n",
       "4           78 -15.0  \n",
       "5           71 -22.0  \n",
       "6           92   0.0  \n",
       "7           91  -1.0  \n",
       "8           70 -22.0  \n",
       "9           80 -12.0  \n",
       "10          95   3.0  \n",
       "11          94   3.0  \n",
       "12          83  -8.0  \n",
       "13          75 -16.0  \n",
       "14          77 -14.0  \n",
       "15          89  -1.0  \n",
       "16          90   0.0  \n",
       "17          82  -8.0  \n",
       "18          79 -11.0  \n",
       "19          90   0.0  "
      ]
     },
     "execution_count": 37,
     "metadata": {},
     "output_type": "execute_result"
    }
   ],
   "source": [
    "ps4.sort_values('n_user_score', ascending=False).reset_index(drop=True)[['title', 'n_user_score', 'meta_score', 'dif']][:20]"
   ]
  },
  {
   "cell_type": "markdown",
   "metadata": {
    "hidden": true
   },
   "source": [
    "With exception of AO Tennis, meta critics and users scores seem to be similar"
   ]
  },
  {
   "cell_type": "markdown",
   "metadata": {
    "hidden": true
   },
   "source": [
    "__What are the top 10 titles most overrated by metacritic? (user point of view)__"
   ]
  },
  {
   "cell_type": "code",
   "execution_count": 39,
   "metadata": {
    "hidden": true
   },
   "outputs": [
    {
     "data": {
      "text/html": [
       "<div>\n",
       "<style scoped>\n",
       "    .dataframe tbody tr th:only-of-type {\n",
       "        vertical-align: middle;\n",
       "    }\n",
       "\n",
       "    .dataframe tbody tr th {\n",
       "        vertical-align: top;\n",
       "    }\n",
       "\n",
       "    .dataframe thead th {\n",
       "        text-align: right;\n",
       "    }\n",
       "</style>\n",
       "<table border=\"1\" class=\"dataframe\">\n",
       "  <thead>\n",
       "    <tr style=\"text-align: right;\">\n",
       "      <th></th>\n",
       "      <th>title</th>\n",
       "      <th>meta_score</th>\n",
       "      <th>n_user_score</th>\n",
       "      <th>dif</th>\n",
       "    </tr>\n",
       "  </thead>\n",
       "  <tbody>\n",
       "    <tr>\n",
       "      <th>0</th>\n",
       "      <td>ZEN Pinball 2: Ant-Man Pinball</td>\n",
       "      <td>81</td>\n",
       "      <td>12.0</td>\n",
       "      <td>69.0</td>\n",
       "    </tr>\n",
       "    <tr>\n",
       "      <th>1</th>\n",
       "      <td>FIFA 20</td>\n",
       "      <td>79</td>\n",
       "      <td>13.0</td>\n",
       "      <td>66.0</td>\n",
       "    </tr>\n",
       "    <tr>\n",
       "      <th>2</th>\n",
       "      <td>NBA 2K20</td>\n",
       "      <td>78</td>\n",
       "      <td>14.0</td>\n",
       "      <td>64.0</td>\n",
       "    </tr>\n",
       "    <tr>\n",
       "      <th>3</th>\n",
       "      <td>FIFA 21</td>\n",
       "      <td>72</td>\n",
       "      <td>9.0</td>\n",
       "      <td>63.0</td>\n",
       "    </tr>\n",
       "    <tr>\n",
       "      <th>4</th>\n",
       "      <td>Tom Clancy's The Division 2: Warlords of New York</td>\n",
       "      <td>74</td>\n",
       "      <td>11.0</td>\n",
       "      <td>63.0</td>\n",
       "    </tr>\n",
       "    <tr>\n",
       "      <th>5</th>\n",
       "      <td>Madden NFL 20</td>\n",
       "      <td>76</td>\n",
       "      <td>14.0</td>\n",
       "      <td>62.0</td>\n",
       "    </tr>\n",
       "    <tr>\n",
       "      <th>6</th>\n",
       "      <td>NBA 2K18</td>\n",
       "      <td>80</td>\n",
       "      <td>18.0</td>\n",
       "      <td>62.0</td>\n",
       "    </tr>\n",
       "    <tr>\n",
       "      <th>7</th>\n",
       "      <td>Tales of Symphonia Remastered</td>\n",
       "      <td>70</td>\n",
       "      <td>8.0</td>\n",
       "      <td>62.0</td>\n",
       "    </tr>\n",
       "    <tr>\n",
       "      <th>8</th>\n",
       "      <td>Megaquarium</td>\n",
       "      <td>78</td>\n",
       "      <td>16.0</td>\n",
       "      <td>62.0</td>\n",
       "    </tr>\n",
       "    <tr>\n",
       "      <th>9</th>\n",
       "      <td>FIFA 19</td>\n",
       "      <td>83</td>\n",
       "      <td>22.0</td>\n",
       "      <td>61.0</td>\n",
       "    </tr>\n",
       "    <tr>\n",
       "      <th>10</th>\n",
       "      <td>Madden NFL 21</td>\n",
       "      <td>63</td>\n",
       "      <td>3.0</td>\n",
       "      <td>60.0</td>\n",
       "    </tr>\n",
       "    <tr>\n",
       "      <th>11</th>\n",
       "      <td>EA SPORTS UFC 4</td>\n",
       "      <td>78</td>\n",
       "      <td>18.0</td>\n",
       "      <td>60.0</td>\n",
       "    </tr>\n",
       "    <tr>\n",
       "      <th>12</th>\n",
       "      <td>Madden NFL 19</td>\n",
       "      <td>80</td>\n",
       "      <td>20.0</td>\n",
       "      <td>60.0</td>\n",
       "    </tr>\n",
       "    <tr>\n",
       "      <th>13</th>\n",
       "      <td>Call of Duty: Infinite Warfare - Sabotage</td>\n",
       "      <td>76</td>\n",
       "      <td>17.0</td>\n",
       "      <td>59.0</td>\n",
       "    </tr>\n",
       "    <tr>\n",
       "      <th>14</th>\n",
       "      <td>NBA 2K21</td>\n",
       "      <td>68</td>\n",
       "      <td>9.0</td>\n",
       "      <td>59.0</td>\n",
       "    </tr>\n",
       "    <tr>\n",
       "      <th>15</th>\n",
       "      <td>Gran Turismo 7</td>\n",
       "      <td>82</td>\n",
       "      <td>26.0</td>\n",
       "      <td>56.0</td>\n",
       "    </tr>\n",
       "    <tr>\n",
       "      <th>16</th>\n",
       "      <td>Call of Duty: WWII - The War Machine</td>\n",
       "      <td>73</td>\n",
       "      <td>17.0</td>\n",
       "      <td>56.0</td>\n",
       "    </tr>\n",
       "    <tr>\n",
       "      <th>17</th>\n",
       "      <td>NBA 2K19</td>\n",
       "      <td>82</td>\n",
       "      <td>28.0</td>\n",
       "      <td>54.0</td>\n",
       "    </tr>\n",
       "    <tr>\n",
       "      <th>18</th>\n",
       "      <td>Call of Duty: Black Ops III - Salvation</td>\n",
       "      <td>74</td>\n",
       "      <td>21.0</td>\n",
       "      <td>53.0</td>\n",
       "    </tr>\n",
       "    <tr>\n",
       "      <th>19</th>\n",
       "      <td>Call of Duty: Infinite Warfare - Continuum</td>\n",
       "      <td>75</td>\n",
       "      <td>22.0</td>\n",
       "      <td>53.0</td>\n",
       "    </tr>\n",
       "  </tbody>\n",
       "</table>\n",
       "</div>"
      ],
      "text/plain": [
       "                                                title  meta_score  \\\n",
       "0                      ZEN Pinball 2: Ant-Man Pinball          81   \n",
       "1                                             FIFA 20          79   \n",
       "2                                            NBA 2K20          78   \n",
       "3                                             FIFA 21          72   \n",
       "4   Tom Clancy's The Division 2: Warlords of New York          74   \n",
       "5                                       Madden NFL 20          76   \n",
       "6                                            NBA 2K18          80   \n",
       "7                       Tales of Symphonia Remastered          70   \n",
       "8                                         Megaquarium          78   \n",
       "9                                             FIFA 19          83   \n",
       "10                                      Madden NFL 21          63   \n",
       "11                                    EA SPORTS UFC 4          78   \n",
       "12                                      Madden NFL 19          80   \n",
       "13          Call of Duty: Infinite Warfare - Sabotage          76   \n",
       "14                                           NBA 2K21          68   \n",
       "15                                     Gran Turismo 7          82   \n",
       "16               Call of Duty: WWII - The War Machine          73   \n",
       "17                                           NBA 2K19          82   \n",
       "18            Call of Duty: Black Ops III - Salvation          74   \n",
       "19         Call of Duty: Infinite Warfare - Continuum          75   \n",
       "\n",
       "    n_user_score   dif  \n",
       "0           12.0  69.0  \n",
       "1           13.0  66.0  \n",
       "2           14.0  64.0  \n",
       "3            9.0  63.0  \n",
       "4           11.0  63.0  \n",
       "5           14.0  62.0  \n",
       "6           18.0  62.0  \n",
       "7            8.0  62.0  \n",
       "8           16.0  62.0  \n",
       "9           22.0  61.0  \n",
       "10           3.0  60.0  \n",
       "11          18.0  60.0  \n",
       "12          20.0  60.0  \n",
       "13          17.0  59.0  \n",
       "14           9.0  59.0  \n",
       "15          26.0  56.0  \n",
       "16          17.0  56.0  \n",
       "17          28.0  54.0  \n",
       "18          21.0  53.0  \n",
       "19          22.0  53.0  "
      ]
     },
     "execution_count": 39,
     "metadata": {},
     "output_type": "execute_result"
    }
   ],
   "source": [
    "ps4.sort_values('dif', ascending=False)[:20][['title', 'meta_score', 'n_user_score', 'dif']].reset_index(drop=True)"
   ]
  },
  {
   "cell_type": "markdown",
   "metadata": {
    "hidden": true
   },
   "source": [
    "__What are the top 10 titles most underrated by metacritic? (user point of view)__"
   ]
  },
  {
   "cell_type": "code",
   "execution_count": 40,
   "metadata": {
    "hidden": true
   },
   "outputs": [
    {
     "data": {
      "text/html": [
       "<div>\n",
       "<style scoped>\n",
       "    .dataframe tbody tr th:only-of-type {\n",
       "        vertical-align: middle;\n",
       "    }\n",
       "\n",
       "    .dataframe tbody tr th {\n",
       "        vertical-align: top;\n",
       "    }\n",
       "\n",
       "    .dataframe thead th {\n",
       "        text-align: right;\n",
       "    }\n",
       "</style>\n",
       "<table border=\"1\" class=\"dataframe\">\n",
       "  <thead>\n",
       "    <tr style=\"text-align: right;\">\n",
       "      <th></th>\n",
       "      <th>title</th>\n",
       "      <th>meta_score</th>\n",
       "      <th>n_user_score</th>\n",
       "      <th>dif</th>\n",
       "    </tr>\n",
       "  </thead>\n",
       "  <tbody>\n",
       "    <tr>\n",
       "      <th>0</th>\n",
       "      <td>Left Alive</td>\n",
       "      <td>37</td>\n",
       "      <td>82.0</td>\n",
       "      <td>-45.0</td>\n",
       "    </tr>\n",
       "    <tr>\n",
       "      <th>1</th>\n",
       "      <td>Dynasty Warriors 9 Empires</td>\n",
       "      <td>58</td>\n",
       "      <td>96.0</td>\n",
       "      <td>-38.0</td>\n",
       "    </tr>\n",
       "    <tr>\n",
       "      <th>2</th>\n",
       "      <td>Dead or Alive Xtreme 3: Fortune</td>\n",
       "      <td>43</td>\n",
       "      <td>75.0</td>\n",
       "      <td>-32.0</td>\n",
       "    </tr>\n",
       "    <tr>\n",
       "      <th>3</th>\n",
       "      <td>Crystal Rift</td>\n",
       "      <td>37</td>\n",
       "      <td>66.0</td>\n",
       "      <td>-29.0</td>\n",
       "    </tr>\n",
       "    <tr>\n",
       "      <th>4</th>\n",
       "      <td>Crystar</td>\n",
       "      <td>67</td>\n",
       "      <td>96.0</td>\n",
       "      <td>-29.0</td>\n",
       "    </tr>\n",
       "    <tr>\n",
       "      <th>5</th>\n",
       "      <td>AO Tennis</td>\n",
       "      <td>44</td>\n",
       "      <td>73.0</td>\n",
       "      <td>-29.0</td>\n",
       "    </tr>\n",
       "    <tr>\n",
       "      <th>6</th>\n",
       "      <td>Big Bash Boom</td>\n",
       "      <td>55</td>\n",
       "      <td>83.0</td>\n",
       "      <td>-28.0</td>\n",
       "    </tr>\n",
       "    <tr>\n",
       "      <th>7</th>\n",
       "      <td>Terminator: Resistance</td>\n",
       "      <td>47</td>\n",
       "      <td>75.0</td>\n",
       "      <td>-28.0</td>\n",
       "    </tr>\n",
       "    <tr>\n",
       "      <th>8</th>\n",
       "      <td>Energy Hook</td>\n",
       "      <td>22</td>\n",
       "      <td>49.0</td>\n",
       "      <td>-27.0</td>\n",
       "    </tr>\n",
       "    <tr>\n",
       "      <th>9</th>\n",
       "      <td>Spuds Unearthed</td>\n",
       "      <td>43</td>\n",
       "      <td>70.0</td>\n",
       "      <td>-27.0</td>\n",
       "    </tr>\n",
       "  </tbody>\n",
       "</table>\n",
       "</div>"
      ],
      "text/plain": [
       "                             title  meta_score  n_user_score   dif\n",
       "0                       Left Alive          37          82.0 -45.0\n",
       "1       Dynasty Warriors 9 Empires          58          96.0 -38.0\n",
       "2  Dead or Alive Xtreme 3: Fortune          43          75.0 -32.0\n",
       "3                     Crystal Rift          37          66.0 -29.0\n",
       "4                          Crystar          67          96.0 -29.0\n",
       "5                        AO Tennis          44          73.0 -29.0\n",
       "6                    Big Bash Boom          55          83.0 -28.0\n",
       "7           Terminator: Resistance          47          75.0 -28.0\n",
       "8                      Energy Hook          22          49.0 -27.0\n",
       "9                  Spuds Unearthed          43          70.0 -27.0"
      ]
     },
     "execution_count": 40,
     "metadata": {},
     "output_type": "execute_result"
    }
   ],
   "source": [
    "ps4.sort_values('dif')[:10][['title', 'meta_score', 'n_user_score', 'dif']].reset_index(drop=True)"
   ]
  },
  {
   "cell_type": "markdown",
   "metadata": {
    "hidden": true
   },
   "source": [
    "Let's see more information about AO Tennis"
   ]
  },
  {
   "cell_type": "code",
   "execution_count": 41,
   "metadata": {
    "hidden": true
   },
   "outputs": [
    {
     "data": {
      "text/html": [
       "<div>\n",
       "<style scoped>\n",
       "    .dataframe tbody tr th:only-of-type {\n",
       "        vertical-align: middle;\n",
       "    }\n",
       "\n",
       "    .dataframe tbody tr th {\n",
       "        vertical-align: top;\n",
       "    }\n",
       "\n",
       "    .dataframe thead th {\n",
       "        text-align: right;\n",
       "    }\n",
       "</style>\n",
       "<table border=\"1\" class=\"dataframe\">\n",
       "  <thead>\n",
       "    <tr style=\"text-align: right;\">\n",
       "      <th></th>\n",
       "      <th>1242</th>\n",
       "    </tr>\n",
       "  </thead>\n",
       "  <tbody>\n",
       "    <tr>\n",
       "      <th>title</th>\n",
       "      <td>AO Tennis</td>\n",
       "    </tr>\n",
       "    <tr>\n",
       "      <th>platform</th>\n",
       "      <td>PlayStation 4</td>\n",
       "    </tr>\n",
       "    <tr>\n",
       "      <th>developer</th>\n",
       "      <td>Big Ant Studios</td>\n",
       "    </tr>\n",
       "    <tr>\n",
       "      <th>genre</th>\n",
       "      <td>['Sports', 'Individual', 'Tennis']</td>\n",
       "    </tr>\n",
       "    <tr>\n",
       "      <th>rating</th>\n",
       "      <td>NaN</td>\n",
       "    </tr>\n",
       "    <tr>\n",
       "      <th>release_date</th>\n",
       "      <td>2018-01-16 00:00:00</td>\n",
       "    </tr>\n",
       "    <tr>\n",
       "      <th>meta_score</th>\n",
       "      <td>44</td>\n",
       "    </tr>\n",
       "    <tr>\n",
       "      <th>meta_overview</th>\n",
       "      <td>Generally unfavorable reviews</td>\n",
       "    </tr>\n",
       "    <tr>\n",
       "      <th>meta_pos</th>\n",
       "      <td>0</td>\n",
       "    </tr>\n",
       "    <tr>\n",
       "      <th>meta_mixed</th>\n",
       "      <td>2</td>\n",
       "    </tr>\n",
       "    <tr>\n",
       "      <th>meta_neg</th>\n",
       "      <td>2</td>\n",
       "    </tr>\n",
       "    <tr>\n",
       "      <th>user_score</th>\n",
       "      <td>7.3</td>\n",
       "    </tr>\n",
       "    <tr>\n",
       "      <th>user_overview</th>\n",
       "      <td>Mixed or average reviews</td>\n",
       "    </tr>\n",
       "    <tr>\n",
       "      <th>user_pos</th>\n",
       "      <td>28.0</td>\n",
       "    </tr>\n",
       "    <tr>\n",
       "      <th>user_mixed</th>\n",
       "      <td>1.0</td>\n",
       "    </tr>\n",
       "    <tr>\n",
       "      <th>user_neg</th>\n",
       "      <td>11.0</td>\n",
       "    </tr>\n",
       "    <tr>\n",
       "      <th>n_user_score</th>\n",
       "      <td>73.0</td>\n",
       "    </tr>\n",
       "    <tr>\n",
       "      <th>real_date</th>\n",
       "      <td>2018-01-16</td>\n",
       "    </tr>\n",
       "    <tr>\n",
       "      <th>month</th>\n",
       "      <td>1</td>\n",
       "    </tr>\n",
       "    <tr>\n",
       "      <th>year</th>\n",
       "      <td>2018</td>\n",
       "    </tr>\n",
       "    <tr>\n",
       "      <th>dif</th>\n",
       "      <td>-29.0</td>\n",
       "    </tr>\n",
       "  </tbody>\n",
       "</table>\n",
       "</div>"
      ],
      "text/plain": [
       "                                             1242\n",
       "title                                   AO Tennis\n",
       "platform                            PlayStation 4\n",
       "developer                         Big Ant Studios\n",
       "genre          ['Sports', 'Individual', 'Tennis']\n",
       "rating                                        NaN\n",
       "release_date                  2018-01-16 00:00:00\n",
       "meta_score                                     44\n",
       "meta_overview       Generally unfavorable reviews\n",
       "meta_pos                                        0\n",
       "meta_mixed                                      2\n",
       "meta_neg                                        2\n",
       "user_score                                    7.3\n",
       "user_overview            Mixed or average reviews\n",
       "user_pos                                     28.0\n",
       "user_mixed                                    1.0\n",
       "user_neg                                     11.0\n",
       "n_user_score                                 73.0\n",
       "real_date                              2018-01-16\n",
       "month                                           1\n",
       "year                                         2018\n",
       "dif                                         -29.0"
      ]
     },
     "execution_count": 41,
     "metadata": {},
     "output_type": "execute_result"
    }
   ],
   "source": [
    "ps4.loc[ps4['title'] == 'AO Tennis'].transpose()"
   ]
  },
  {
   "cell_type": "markdown",
   "metadata": {
    "hidden": true
   },
   "source": [
    "It's a new game with few critics reviews"
   ]
  },
  {
   "cell_type": "markdown",
   "metadata": {
    "heading_collapsed": true
   },
   "source": [
    "### Exclusive games"
   ]
  },
  {
   "cell_type": "code",
   "execution_count": 42,
   "metadata": {
    "collapsed": true,
    "hidden": true
   },
   "outputs": [],
   "source": [
    "ps4_list = set(df.loc[df['platform'] == 'PlayStation 4', 'title'])\n",
    "xone_list = set(df.loc[df['platform'] == 'Xbox One', 'title'])\n",
    "switch_list = set(df.loc[df['platform'] == 'Switch', 'title'])"
   ]
  },
  {
   "cell_type": "markdown",
   "metadata": {
    "hidden": true
   },
   "source": [
    "#### PlayStation 4"
   ]
  },
  {
   "cell_type": "markdown",
   "metadata": {
    "hidden": true
   },
   "source": [
    "__How many exclusive games PlayStation 4 got?__"
   ]
  },
  {
   "cell_type": "code",
   "execution_count": 43,
   "metadata": {
    "hidden": true
   },
   "outputs": [
    {
     "data": {
      "text/plain": [
       "700"
      ]
     },
     "execution_count": 43,
     "metadata": {},
     "output_type": "execute_result"
    }
   ],
   "source": [
    "ps4_exclusives = tmp.loc[tmp['title'].isin(list(ps4_list.difference(xone_list).difference(switch_list))), ('title', 'n_user_score', 'meta_score')].sort_values('n_user_score', ascending=False).reset_index(drop=True)\n",
    "len(ps4_exclusives)"
   ]
  },
  {
   "cell_type": "markdown",
   "metadata": {
    "hidden": true
   },
   "source": [
    "__What are the top 25 exclusives PlayStation 4 games?__"
   ]
  },
  {
   "cell_type": "code",
   "execution_count": 44,
   "metadata": {
    "hidden": true
   },
   "outputs": [
    {
     "data": {
      "text/html": [
       "<div>\n",
       "<style scoped>\n",
       "    .dataframe tbody tr th:only-of-type {\n",
       "        vertical-align: middle;\n",
       "    }\n",
       "\n",
       "    .dataframe tbody tr th {\n",
       "        vertical-align: top;\n",
       "    }\n",
       "\n",
       "    .dataframe thead th {\n",
       "        text-align: right;\n",
       "    }\n",
       "</style>\n",
       "<table border=\"1\" class=\"dataframe\">\n",
       "  <thead>\n",
       "    <tr style=\"text-align: right;\">\n",
       "      <th></th>\n",
       "      <th>title</th>\n",
       "      <th>n_user_score</th>\n",
       "      <th>meta_score</th>\n",
       "    </tr>\n",
       "  </thead>\n",
       "  <tbody>\n",
       "    <tr>\n",
       "      <th>0</th>\n",
       "      <td>Wanderer</td>\n",
       "      <td>98.0</td>\n",
       "      <td>72</td>\n",
       "    </tr>\n",
       "    <tr>\n",
       "      <th>1</th>\n",
       "      <td>Infinifactory</td>\n",
       "      <td>92.0</td>\n",
       "      <td>70</td>\n",
       "    </tr>\n",
       "    <tr>\n",
       "      <th>2</th>\n",
       "      <td>The Last of Us Remastered</td>\n",
       "      <td>92.0</td>\n",
       "      <td>95</td>\n",
       "    </tr>\n",
       "    <tr>\n",
       "      <th>3</th>\n",
       "      <td>Ghost of Tsushima</td>\n",
       "      <td>91.0</td>\n",
       "      <td>83</td>\n",
       "    </tr>\n",
       "    <tr>\n",
       "      <th>4</th>\n",
       "      <td>God of War</td>\n",
       "      <td>91.0</td>\n",
       "      <td>94</td>\n",
       "    </tr>\n",
       "    <tr>\n",
       "      <th>5</th>\n",
       "      <td>Astro Bot: Rescue Mission</td>\n",
       "      <td>90.0</td>\n",
       "      <td>90</td>\n",
       "    </tr>\n",
       "    <tr>\n",
       "      <th>6</th>\n",
       "      <td>NieR: Automata</td>\n",
       "      <td>89.0</td>\n",
       "      <td>88</td>\n",
       "    </tr>\n",
       "    <tr>\n",
       "      <th>7</th>\n",
       "      <td>Bloodborne: The Old Hunters</td>\n",
       "      <td>89.0</td>\n",
       "      <td>87</td>\n",
       "    </tr>\n",
       "    <tr>\n",
       "      <th>8</th>\n",
       "      <td>Bloodborne</td>\n",
       "      <td>89.0</td>\n",
       "      <td>92</td>\n",
       "    </tr>\n",
       "    <tr>\n",
       "      <th>9</th>\n",
       "      <td>NieR: Automata - Game of the YoRHa Edition</td>\n",
       "      <td>89.0</td>\n",
       "      <td>91</td>\n",
       "    </tr>\n",
       "    <tr>\n",
       "      <th>10</th>\n",
       "      <td>Detroit: Become Human</td>\n",
       "      <td>88.0</td>\n",
       "      <td>78</td>\n",
       "    </tr>\n",
       "    <tr>\n",
       "      <th>11</th>\n",
       "      <td>Uncharted 4: A Thief's End</td>\n",
       "      <td>88.0</td>\n",
       "      <td>93</td>\n",
       "    </tr>\n",
       "    <tr>\n",
       "      <th>12</th>\n",
       "      <td>Utawarerumono: Mask of Truth</td>\n",
       "      <td>88.0</td>\n",
       "      <td>75</td>\n",
       "    </tr>\n",
       "    <tr>\n",
       "      <th>13</th>\n",
       "      <td>Final Fantasy XIV: Stormblood</td>\n",
       "      <td>88.0</td>\n",
       "      <td>89</td>\n",
       "    </tr>\n",
       "    <tr>\n",
       "      <th>14</th>\n",
       "      <td>Final Fantasy XIV: Endwalker</td>\n",
       "      <td>87.0</td>\n",
       "      <td>90</td>\n",
       "    </tr>\n",
       "    <tr>\n",
       "      <th>15</th>\n",
       "      <td>Marvel's Spider-Man</td>\n",
       "      <td>87.0</td>\n",
       "      <td>87</td>\n",
       "    </tr>\n",
       "    <tr>\n",
       "      <th>16</th>\n",
       "      <td>Persona 5</td>\n",
       "      <td>87.0</td>\n",
       "      <td>93</td>\n",
       "    </tr>\n",
       "    <tr>\n",
       "      <th>17</th>\n",
       "      <td>Dreams</td>\n",
       "      <td>87.0</td>\n",
       "      <td>89</td>\n",
       "    </tr>\n",
       "    <tr>\n",
       "      <th>18</th>\n",
       "      <td>Final Fantasy XIV: Shadowbringers</td>\n",
       "      <td>87.0</td>\n",
       "      <td>91</td>\n",
       "    </tr>\n",
       "    <tr>\n",
       "      <th>19</th>\n",
       "      <td>Monster of the Deep: Final Fantasy XV</td>\n",
       "      <td>87.0</td>\n",
       "      <td>62</td>\n",
       "    </tr>\n",
       "    <tr>\n",
       "      <th>20</th>\n",
       "      <td>Uncharted: The Nathan Drake Collection</td>\n",
       "      <td>86.0</td>\n",
       "      <td>86</td>\n",
       "    </tr>\n",
       "    <tr>\n",
       "      <th>21</th>\n",
       "      <td>The Legend of Heroes: Trails of Cold Steel</td>\n",
       "      <td>86.0</td>\n",
       "      <td>80</td>\n",
       "    </tr>\n",
       "    <tr>\n",
       "      <th>22</th>\n",
       "      <td>Sackboy: A Big Adventure</td>\n",
       "      <td>86.0</td>\n",
       "      <td>79</td>\n",
       "    </tr>\n",
       "    <tr>\n",
       "      <th>23</th>\n",
       "      <td>Dragon Quest XI: Echoes of an Elusive Age</td>\n",
       "      <td>86.0</td>\n",
       "      <td>86</td>\n",
       "    </tr>\n",
       "    <tr>\n",
       "      <th>24</th>\n",
       "      <td>Heavy Rain &amp; Beyond: Two Souls Collection</td>\n",
       "      <td>85.0</td>\n",
       "      <td>78</td>\n",
       "    </tr>\n",
       "  </tbody>\n",
       "</table>\n",
       "</div>"
      ],
      "text/plain": [
       "                                         title  n_user_score  meta_score\n",
       "0                                     Wanderer          98.0          72\n",
       "1                                Infinifactory          92.0          70\n",
       "2                    The Last of Us Remastered          92.0          95\n",
       "3                            Ghost of Tsushima          91.0          83\n",
       "4                                   God of War          91.0          94\n",
       "5                    Astro Bot: Rescue Mission          90.0          90\n",
       "6                               NieR: Automata          89.0          88\n",
       "7                  Bloodborne: The Old Hunters          89.0          87\n",
       "8                                   Bloodborne          89.0          92\n",
       "9   NieR: Automata - Game of the YoRHa Edition          89.0          91\n",
       "10                       Detroit: Become Human          88.0          78\n",
       "11                  Uncharted 4: A Thief's End          88.0          93\n",
       "12                Utawarerumono: Mask of Truth          88.0          75\n",
       "13               Final Fantasy XIV: Stormblood          88.0          89\n",
       "14                Final Fantasy XIV: Endwalker          87.0          90\n",
       "15                         Marvel's Spider-Man          87.0          87\n",
       "16                                   Persona 5          87.0          93\n",
       "17                                      Dreams          87.0          89\n",
       "18           Final Fantasy XIV: Shadowbringers          87.0          91\n",
       "19       Monster of the Deep: Final Fantasy XV          87.0          62\n",
       "20      Uncharted: The Nathan Drake Collection          86.0          86\n",
       "21  The Legend of Heroes: Trails of Cold Steel          86.0          80\n",
       "22                    Sackboy: A Big Adventure          86.0          79\n",
       "23   Dragon Quest XI: Echoes of an Elusive Age          86.0          86\n",
       "24   Heavy Rain & Beyond: Two Souls Collection          85.0          78"
      ]
     },
     "execution_count": 44,
     "metadata": {},
     "output_type": "execute_result"
    }
   ],
   "source": [
    "ps4_exclusives[:25]"
   ]
  },
  {
   "cell_type": "markdown",
   "metadata": {
    "hidden": true
   },
   "source": [
    "__How many exlusive PlayStation 4 games have user score equal or greater than 80 ?__"
   ]
  },
  {
   "cell_type": "code",
   "execution_count": 45,
   "metadata": {
    "hidden": true
   },
   "outputs": [
    {
     "data": {
      "text/plain": [
       "87"
      ]
     },
     "execution_count": 45,
     "metadata": {},
     "output_type": "execute_result"
    }
   ],
   "source": [
    "len(ps4_exclusives.loc[ps4_exclusives['n_user_score'] >= 80])"
   ]
  },
  {
   "cell_type": "markdown",
   "metadata": {
    "heading_collapsed": true,
    "hidden": true
   },
   "source": [
    "#### Xbox One"
   ]
  },
  {
   "cell_type": "markdown",
   "metadata": {
    "hidden": true
   },
   "source": [
    "__How many exclusive games Xbox One got?__"
   ]
  },
  {
   "cell_type": "code",
   "execution_count": 46,
   "metadata": {
    "hidden": true
   },
   "outputs": [
    {
     "data": {
      "text/plain": [
       "325"
      ]
     },
     "execution_count": 46,
     "metadata": {},
     "output_type": "execute_result"
    }
   ],
   "source": [
    "xone_exclusives = tmp.loc[tmp['title'].isin(list(xone_list.difference(ps4_list).difference(switch))), ('title', 'n_user_score', 'meta_score')].sort_values('n_user_score', ascending=False).reset_index(drop=True)\n",
    "len(xone_exclusives)"
   ]
  },
  {
   "cell_type": "markdown",
   "metadata": {
    "hidden": true
   },
   "source": [
    "__What are the top 25 exclusives Xbox One games?__"
   ]
  },
  {
   "cell_type": "code",
   "execution_count": 47,
   "metadata": {
    "hidden": true
   },
   "outputs": [
    {
     "data": {
      "text/html": [
       "<div>\n",
       "<style scoped>\n",
       "    .dataframe tbody tr th:only-of-type {\n",
       "        vertical-align: middle;\n",
       "    }\n",
       "\n",
       "    .dataframe tbody tr th {\n",
       "        vertical-align: top;\n",
       "    }\n",
       "\n",
       "    .dataframe thead th {\n",
       "        text-align: right;\n",
       "    }\n",
       "</style>\n",
       "<table border=\"1\" class=\"dataframe\">\n",
       "  <thead>\n",
       "    <tr style=\"text-align: right;\">\n",
       "      <th></th>\n",
       "      <th>title</th>\n",
       "      <th>n_user_score</th>\n",
       "      <th>meta_score</th>\n",
       "    </tr>\n",
       "  </thead>\n",
       "  <tbody>\n",
       "    <tr>\n",
       "      <th>0</th>\n",
       "      <td>NieR: Automata - Become as Gods Edition</td>\n",
       "      <td>91.0</td>\n",
       "      <td>90</td>\n",
       "    </tr>\n",
       "    <tr>\n",
       "      <th>1</th>\n",
       "      <td>Ori and the Will of the Wisps</td>\n",
       "      <td>89.0</td>\n",
       "      <td>90</td>\n",
       "    </tr>\n",
       "    <tr>\n",
       "      <th>2</th>\n",
       "      <td>Syberia: The World Before</td>\n",
       "      <td>88.0</td>\n",
       "      <td>82</td>\n",
       "    </tr>\n",
       "    <tr>\n",
       "      <th>3</th>\n",
       "      <td>Ori and the Will of the Wisps</td>\n",
       "      <td>87.0</td>\n",
       "      <td>92</td>\n",
       "    </tr>\n",
       "    <tr>\n",
       "      <th>4</th>\n",
       "      <td>Ori and the Will of the Wisps</td>\n",
       "      <td>87.0</td>\n",
       "      <td>93</td>\n",
       "    </tr>\n",
       "    <tr>\n",
       "      <th>5</th>\n",
       "      <td>Ori and the Blind Forest</td>\n",
       "      <td>86.0</td>\n",
       "      <td>88</td>\n",
       "    </tr>\n",
       "    <tr>\n",
       "      <th>6</th>\n",
       "      <td>Age of Empires II: Definitive Edition</td>\n",
       "      <td>86.0</td>\n",
       "      <td>86</td>\n",
       "    </tr>\n",
       "    <tr>\n",
       "      <th>7</th>\n",
       "      <td>Katana ZERO</td>\n",
       "      <td>85.0</td>\n",
       "      <td>83</td>\n",
       "    </tr>\n",
       "    <tr>\n",
       "      <th>8</th>\n",
       "      <td>Ori and the Blind Forest: Definitive Edition</td>\n",
       "      <td>85.0</td>\n",
       "      <td>90</td>\n",
       "    </tr>\n",
       "    <tr>\n",
       "      <th>9</th>\n",
       "      <td>Floppy Knights</td>\n",
       "      <td>85.0</td>\n",
       "      <td>69</td>\n",
       "    </tr>\n",
       "    <tr>\n",
       "      <th>10</th>\n",
       "      <td>Vampire Survivors</td>\n",
       "      <td>85.0</td>\n",
       "      <td>95</td>\n",
       "    </tr>\n",
       "    <tr>\n",
       "      <th>11</th>\n",
       "      <td>Octopath Traveler</td>\n",
       "      <td>84.0</td>\n",
       "      <td>83</td>\n",
       "    </tr>\n",
       "    <tr>\n",
       "      <th>12</th>\n",
       "      <td>Enter The Gungeon</td>\n",
       "      <td>83.0</td>\n",
       "      <td>85</td>\n",
       "    </tr>\n",
       "    <tr>\n",
       "      <th>13</th>\n",
       "      <td>Omensight: Definitive Edition</td>\n",
       "      <td>83.0</td>\n",
       "      <td>81</td>\n",
       "    </tr>\n",
       "    <tr>\n",
       "      <th>14</th>\n",
       "      <td>Syberia: The World Before</td>\n",
       "      <td>83.0</td>\n",
       "      <td>77</td>\n",
       "    </tr>\n",
       "    <tr>\n",
       "      <th>15</th>\n",
       "      <td>Tunic</td>\n",
       "      <td>83.0</td>\n",
       "      <td>88</td>\n",
       "    </tr>\n",
       "    <tr>\n",
       "      <th>16</th>\n",
       "      <td>Dying Light: Platinum Edition</td>\n",
       "      <td>83.0</td>\n",
       "      <td>78</td>\n",
       "    </tr>\n",
       "    <tr>\n",
       "      <th>17</th>\n",
       "      <td>Forza Horizon 4</td>\n",
       "      <td>83.0</td>\n",
       "      <td>92</td>\n",
       "    </tr>\n",
       "    <tr>\n",
       "      <th>18</th>\n",
       "      <td>Forza Horizon 2</td>\n",
       "      <td>83.0</td>\n",
       "      <td>86</td>\n",
       "    </tr>\n",
       "    <tr>\n",
       "      <th>19</th>\n",
       "      <td>Tunche</td>\n",
       "      <td>82.0</td>\n",
       "      <td>71</td>\n",
       "    </tr>\n",
       "    <tr>\n",
       "      <th>20</th>\n",
       "      <td>MouseCraft</td>\n",
       "      <td>82.0</td>\n",
       "      <td>77</td>\n",
       "    </tr>\n",
       "    <tr>\n",
       "      <th>21</th>\n",
       "      <td>The Binding of Isaac: Afterbirth +</td>\n",
       "      <td>82.0</td>\n",
       "      <td>85</td>\n",
       "    </tr>\n",
       "    <tr>\n",
       "      <th>22</th>\n",
       "      <td>Turok 2: Seeds of Evil Remaster</td>\n",
       "      <td>82.0</td>\n",
       "      <td>78</td>\n",
       "    </tr>\n",
       "    <tr>\n",
       "      <th>23</th>\n",
       "      <td>The Last Oricru</td>\n",
       "      <td>82.0</td>\n",
       "      <td>57</td>\n",
       "    </tr>\n",
       "    <tr>\n",
       "      <th>24</th>\n",
       "      <td>Forza Horizon 5</td>\n",
       "      <td>82.0</td>\n",
       "      <td>92</td>\n",
       "    </tr>\n",
       "  </tbody>\n",
       "</table>\n",
       "</div>"
      ],
      "text/plain": [
       "                                           title  n_user_score  meta_score\n",
       "0        NieR: Automata - Become as Gods Edition          91.0          90\n",
       "1                  Ori and the Will of the Wisps          89.0          90\n",
       "2                      Syberia: The World Before          88.0          82\n",
       "3                  Ori and the Will of the Wisps          87.0          92\n",
       "4                  Ori and the Will of the Wisps          87.0          93\n",
       "5                       Ori and the Blind Forest          86.0          88\n",
       "6          Age of Empires II: Definitive Edition          86.0          86\n",
       "7                                    Katana ZERO          85.0          83\n",
       "8   Ori and the Blind Forest: Definitive Edition          85.0          90\n",
       "9                                 Floppy Knights          85.0          69\n",
       "10                             Vampire Survivors          85.0          95\n",
       "11                             Octopath Traveler          84.0          83\n",
       "12                             Enter The Gungeon          83.0          85\n",
       "13                 Omensight: Definitive Edition          83.0          81\n",
       "14                     Syberia: The World Before          83.0          77\n",
       "15                                         Tunic          83.0          88\n",
       "16                 Dying Light: Platinum Edition          83.0          78\n",
       "17                               Forza Horizon 4          83.0          92\n",
       "18                               Forza Horizon 2          83.0          86\n",
       "19                                        Tunche          82.0          71\n",
       "20                                    MouseCraft          82.0          77\n",
       "21            The Binding of Isaac: Afterbirth +          82.0          85\n",
       "22               Turok 2: Seeds of Evil Remaster          82.0          78\n",
       "23                               The Last Oricru          82.0          57\n",
       "24                               Forza Horizon 5          82.0          92"
      ]
     },
     "execution_count": 47,
     "metadata": {},
     "output_type": "execute_result"
    }
   ],
   "source": [
    "xone_exclusives[:25]"
   ]
  },
  {
   "cell_type": "markdown",
   "metadata": {
    "hidden": true
   },
   "source": [
    "__How many exlusive Xbox One games have user score equal or greater than 80 ?__"
   ]
  },
  {
   "cell_type": "code",
   "execution_count": 48,
   "metadata": {
    "hidden": true
   },
   "outputs": [
    {
     "data": {
      "text/plain": [
       "44"
      ]
     },
     "execution_count": 48,
     "metadata": {},
     "output_type": "execute_result"
    }
   ],
   "source": [
    "len(xone_exclusives.loc[xone_exclusives['n_user_score'] >= 80])"
   ]
  },
  {
   "cell_type": "markdown",
   "metadata": {
    "heading_collapsed": true,
    "hidden": true
   },
   "source": [
    "#### Switch"
   ]
  },
  {
   "cell_type": "markdown",
   "metadata": {
    "hidden": true
   },
   "source": [
    "__How many exclusive games Switch got?__"
   ]
  },
  {
   "cell_type": "code",
   "execution_count": 49,
   "metadata": {
    "hidden": true
   },
   "outputs": [
    {
     "data": {
      "text/plain": [
       "666"
      ]
     },
     "execution_count": 49,
     "metadata": {},
     "output_type": "execute_result"
    }
   ],
   "source": [
    "switch_exclusives = tmp.loc[tmp['title'].isin(list(switch_list.difference(ps4_list).difference(xone_list))), ('title', 'n_user_score', 'meta_score')].sort_values('n_user_score', ascending=False).reset_index(drop=True)\n",
    "len(switch_exclusives)"
   ]
  },
  {
   "cell_type": "markdown",
   "metadata": {
    "hidden": true
   },
   "source": [
    "__What are the top 25 exclusives Switch games?__"
   ]
  },
  {
   "cell_type": "code",
   "execution_count": 50,
   "metadata": {
    "hidden": true
   },
   "outputs": [
    {
     "data": {
      "text/html": [
       "<div>\n",
       "<style scoped>\n",
       "    .dataframe tbody tr th:only-of-type {\n",
       "        vertical-align: middle;\n",
       "    }\n",
       "\n",
       "    .dataframe tbody tr th {\n",
       "        vertical-align: top;\n",
       "    }\n",
       "\n",
       "    .dataframe thead th {\n",
       "        text-align: right;\n",
       "    }\n",
       "</style>\n",
       "<table border=\"1\" class=\"dataframe\">\n",
       "  <thead>\n",
       "    <tr style=\"text-align: right;\">\n",
       "      <th></th>\n",
       "      <th>title</th>\n",
       "      <th>n_user_score</th>\n",
       "      <th>meta_score</th>\n",
       "    </tr>\n",
       "  </thead>\n",
       "  <tbody>\n",
       "    <tr>\n",
       "      <th>0</th>\n",
       "      <td>Ultra Kaiju Monster Rancher</td>\n",
       "      <td>95.0</td>\n",
       "      <td>75</td>\n",
       "    </tr>\n",
       "    <tr>\n",
       "      <th>1</th>\n",
       "      <td>Touken Ranbu Warriors</td>\n",
       "      <td>92.0</td>\n",
       "      <td>68</td>\n",
       "    </tr>\n",
       "    <tr>\n",
       "      <th>2</th>\n",
       "      <td>Monster Rancher 1 &amp; 2 DX</td>\n",
       "      <td>90.0</td>\n",
       "      <td>70</td>\n",
       "    </tr>\n",
       "    <tr>\n",
       "      <th>3</th>\n",
       "      <td>Bayonetta 2</td>\n",
       "      <td>89.0</td>\n",
       "      <td>91</td>\n",
       "    </tr>\n",
       "    <tr>\n",
       "      <th>4</th>\n",
       "      <td>Fire Emblem Warriors: Three Hopes</td>\n",
       "      <td>89.0</td>\n",
       "      <td>81</td>\n",
       "    </tr>\n",
       "    <tr>\n",
       "      <th>5</th>\n",
       "      <td>Donkey Kong Country: Tropical Freeze</td>\n",
       "      <td>89.0</td>\n",
       "      <td>83</td>\n",
       "    </tr>\n",
       "    <tr>\n",
       "      <th>6</th>\n",
       "      <td>Astral Chain</td>\n",
       "      <td>89.0</td>\n",
       "      <td>87</td>\n",
       "    </tr>\n",
       "    <tr>\n",
       "      <th>7</th>\n",
       "      <td>Super Mario Odyssey</td>\n",
       "      <td>89.0</td>\n",
       "      <td>97</td>\n",
       "    </tr>\n",
       "    <tr>\n",
       "      <th>8</th>\n",
       "      <td>Kirby and the Forgotten Land</td>\n",
       "      <td>88.0</td>\n",
       "      <td>85</td>\n",
       "    </tr>\n",
       "    <tr>\n",
       "      <th>9</th>\n",
       "      <td>Xenoblade Chronicles: Definitive Edition</td>\n",
       "      <td>88.0</td>\n",
       "      <td>89</td>\n",
       "    </tr>\n",
       "    <tr>\n",
       "      <th>10</th>\n",
       "      <td>Fire Emblem: Three Houses</td>\n",
       "      <td>88.0</td>\n",
       "      <td>89</td>\n",
       "    </tr>\n",
       "    <tr>\n",
       "      <th>11</th>\n",
       "      <td>Metroid Prime Remastered</td>\n",
       "      <td>88.0</td>\n",
       "      <td>94</td>\n",
       "    </tr>\n",
       "    <tr>\n",
       "      <th>12</th>\n",
       "      <td>Picross S 4</td>\n",
       "      <td>87.0</td>\n",
       "      <td>77</td>\n",
       "    </tr>\n",
       "    <tr>\n",
       "      <th>13</th>\n",
       "      <td>Bayonetta + Bayonetta 2</td>\n",
       "      <td>87.0</td>\n",
       "      <td>90</td>\n",
       "    </tr>\n",
       "    <tr>\n",
       "      <th>14</th>\n",
       "      <td>Super Mario 3D World + Bowser's Fury</td>\n",
       "      <td>87.0</td>\n",
       "      <td>89</td>\n",
       "    </tr>\n",
       "    <tr>\n",
       "      <th>15</th>\n",
       "      <td>The Legend of Zelda: Breath of the Wild</td>\n",
       "      <td>87.0</td>\n",
       "      <td>97</td>\n",
       "    </tr>\n",
       "    <tr>\n",
       "      <th>16</th>\n",
       "      <td>Captain Toad: Treasure Tracker</td>\n",
       "      <td>86.0</td>\n",
       "      <td>81</td>\n",
       "    </tr>\n",
       "    <tr>\n",
       "      <th>17</th>\n",
       "      <td>Ring Fit Adventure</td>\n",
       "      <td>86.0</td>\n",
       "      <td>83</td>\n",
       "    </tr>\n",
       "    <tr>\n",
       "      <th>18</th>\n",
       "      <td>The House in Fata Morgana - Dreams of the Reve...</td>\n",
       "      <td>86.0</td>\n",
       "      <td>96</td>\n",
       "    </tr>\n",
       "    <tr>\n",
       "      <th>19</th>\n",
       "      <td>Donkey Kong Country: Tropical Freeze</td>\n",
       "      <td>86.0</td>\n",
       "      <td>86</td>\n",
       "    </tr>\n",
       "    <tr>\n",
       "      <th>20</th>\n",
       "      <td>Pikmin 3 Deluxe</td>\n",
       "      <td>86.0</td>\n",
       "      <td>85</td>\n",
       "    </tr>\n",
       "    <tr>\n",
       "      <th>21</th>\n",
       "      <td>Mario Kart 8 Deluxe</td>\n",
       "      <td>86.0</td>\n",
       "      <td>92</td>\n",
       "    </tr>\n",
       "    <tr>\n",
       "      <th>22</th>\n",
       "      <td>Bayonetta 2</td>\n",
       "      <td>86.0</td>\n",
       "      <td>92</td>\n",
       "    </tr>\n",
       "    <tr>\n",
       "      <th>23</th>\n",
       "      <td>Metroid Dread</td>\n",
       "      <td>86.0</td>\n",
       "      <td>88</td>\n",
       "    </tr>\n",
       "    <tr>\n",
       "      <th>24</th>\n",
       "      <td>Monster Train First Class</td>\n",
       "      <td>85.0</td>\n",
       "      <td>85</td>\n",
       "    </tr>\n",
       "  </tbody>\n",
       "</table>\n",
       "</div>"
      ],
      "text/plain": [
       "                                                title  n_user_score  \\\n",
       "0                         Ultra Kaiju Monster Rancher          95.0   \n",
       "1                               Touken Ranbu Warriors          92.0   \n",
       "2                            Monster Rancher 1 & 2 DX          90.0   \n",
       "3                                         Bayonetta 2          89.0   \n",
       "4                   Fire Emblem Warriors: Three Hopes          89.0   \n",
       "5                Donkey Kong Country: Tropical Freeze          89.0   \n",
       "6                                        Astral Chain          89.0   \n",
       "7                                 Super Mario Odyssey          89.0   \n",
       "8                        Kirby and the Forgotten Land          88.0   \n",
       "9            Xenoblade Chronicles: Definitive Edition          88.0   \n",
       "10                          Fire Emblem: Three Houses          88.0   \n",
       "11                           Metroid Prime Remastered          88.0   \n",
       "12                                        Picross S 4          87.0   \n",
       "13                            Bayonetta + Bayonetta 2          87.0   \n",
       "14               Super Mario 3D World + Bowser's Fury          87.0   \n",
       "15            The Legend of Zelda: Breath of the Wild          87.0   \n",
       "16                     Captain Toad: Treasure Tracker          86.0   \n",
       "17                                 Ring Fit Adventure          86.0   \n",
       "18  The House in Fata Morgana - Dreams of the Reve...          86.0   \n",
       "19               Donkey Kong Country: Tropical Freeze          86.0   \n",
       "20                                    Pikmin 3 Deluxe          86.0   \n",
       "21                                Mario Kart 8 Deluxe          86.0   \n",
       "22                                        Bayonetta 2          86.0   \n",
       "23                                      Metroid Dread          86.0   \n",
       "24                          Monster Train First Class          85.0   \n",
       "\n",
       "    meta_score  \n",
       "0           75  \n",
       "1           68  \n",
       "2           70  \n",
       "3           91  \n",
       "4           81  \n",
       "5           83  \n",
       "6           87  \n",
       "7           97  \n",
       "8           85  \n",
       "9           89  \n",
       "10          89  \n",
       "11          94  \n",
       "12          77  \n",
       "13          90  \n",
       "14          89  \n",
       "15          97  \n",
       "16          81  \n",
       "17          83  \n",
       "18          96  \n",
       "19          86  \n",
       "20          85  \n",
       "21          92  \n",
       "22          92  \n",
       "23          88  \n",
       "24          85  "
      ]
     },
     "execution_count": 50,
     "metadata": {},
     "output_type": "execute_result"
    }
   ],
   "source": [
    "switch_exclusives[:25]"
   ]
  },
  {
   "cell_type": "markdown",
   "metadata": {
    "hidden": true
   },
   "source": [
    "__How many exlusive Switch games have user score equal or greater than 80 ?__"
   ]
  },
  {
   "cell_type": "code",
   "execution_count": 51,
   "metadata": {
    "hidden": true
   },
   "outputs": [
    {
     "data": {
      "text/plain": [
       "146"
      ]
     },
     "execution_count": 51,
     "metadata": {},
     "output_type": "execute_result"
    }
   ],
   "source": [
    "len(switch_exclusives.loc[switch_exclusives['n_user_score'] >= 80])"
   ]
  },
  {
   "cell_type": "markdown",
   "metadata": {},
   "source": [
    "### Developers"
   ]
  },
  {
   "cell_type": "markdown",
   "metadata": {},
   "source": [
    "#### PlayStation 4"
   ]
  },
  {
   "cell_type": "markdown",
   "metadata": {},
   "source": [
    "__Who are the top 10 developers with more released titles?__"
   ]
  },
  {
   "cell_type": "code",
   "execution_count": 52,
   "metadata": {},
   "outputs": [
    {
     "data": {
      "text/plain": [
       "developer\n",
       "Telltale Games          53\n",
       "Capcom                  41\n",
       "Square Enix             31\n",
       "Omega Force             23\n",
       "Ubisoft Montreal        21\n",
       "EA Sports               20\n",
       "Zen Studios             20\n",
       "Bandai Namco Games      18\n",
       "Milestone S.r.l         16\n",
       "Nippon Ichi Software    16\n",
       "Name: title, dtype: int64"
      ]
     },
     "execution_count": 52,
     "metadata": {},
     "output_type": "execute_result"
    }
   ],
   "source": [
    "ps4.groupby('developer')['title'].count().sort_values(ascending=False)[:10]"
   ]
  },
  {
   "cell_type": "markdown",
   "metadata": {},
   "source": [
    "__Does quantity mean quality?__"
   ]
  },
  {
   "cell_type": "code",
   "execution_count": 53,
   "metadata": {},
   "outputs": [
    {
     "data": {
      "text/html": [
       "<div>\n",
       "<style scoped>\n",
       "    .dataframe tbody tr th:only-of-type {\n",
       "        vertical-align: middle;\n",
       "    }\n",
       "\n",
       "    .dataframe tbody tr th {\n",
       "        vertical-align: top;\n",
       "    }\n",
       "\n",
       "    .dataframe thead th {\n",
       "        text-align: right;\n",
       "    }\n",
       "</style>\n",
       "<table border=\"1\" class=\"dataframe\">\n",
       "  <thead>\n",
       "    <tr style=\"text-align: right;\">\n",
       "      <th></th>\n",
       "      <th>count</th>\n",
       "      <th>n_user_score_avg</th>\n",
       "      <th>meta_score_avg</th>\n",
       "    </tr>\n",
       "    <tr>\n",
       "      <th>developer</th>\n",
       "      <th></th>\n",
       "      <th></th>\n",
       "      <th></th>\n",
       "    </tr>\n",
       "  </thead>\n",
       "  <tbody>\n",
       "    <tr>\n",
       "      <th>Telltale Games</th>\n",
       "      <td>53</td>\n",
       "      <td>65.811321</td>\n",
       "      <td>73.150943</td>\n",
       "    </tr>\n",
       "    <tr>\n",
       "      <th>Capcom</th>\n",
       "      <td>41</td>\n",
       "      <td>70.121951</td>\n",
       "      <td>76.195122</td>\n",
       "    </tr>\n",
       "    <tr>\n",
       "      <th>Square Enix</th>\n",
       "      <td>31</td>\n",
       "      <td>76.580645</td>\n",
       "      <td>76.290323</td>\n",
       "    </tr>\n",
       "    <tr>\n",
       "      <th>Omega Force</th>\n",
       "      <td>23</td>\n",
       "      <td>74.000000</td>\n",
       "      <td>71.826087</td>\n",
       "    </tr>\n",
       "    <tr>\n",
       "      <th>Ubisoft Montreal</th>\n",
       "      <td>21</td>\n",
       "      <td>66.428571</td>\n",
       "      <td>71.761905</td>\n",
       "    </tr>\n",
       "    <tr>\n",
       "      <th>EA Sports</th>\n",
       "      <td>20</td>\n",
       "      <td>45.800000</td>\n",
       "      <td>73.550000</td>\n",
       "    </tr>\n",
       "    <tr>\n",
       "      <th>Zen Studios</th>\n",
       "      <td>20</td>\n",
       "      <td>54.200000</td>\n",
       "      <td>78.350000</td>\n",
       "    </tr>\n",
       "    <tr>\n",
       "      <th>Bandai Namco Games</th>\n",
       "      <td>18</td>\n",
       "      <td>58.611111</td>\n",
       "      <td>68.666667</td>\n",
       "    </tr>\n",
       "    <tr>\n",
       "      <th>Milestone S.r.l</th>\n",
       "      <td>16</td>\n",
       "      <td>60.312500</td>\n",
       "      <td>69.625000</td>\n",
       "    </tr>\n",
       "    <tr>\n",
       "      <th>Nippon Ichi Software</th>\n",
       "      <td>16</td>\n",
       "      <td>66.000000</td>\n",
       "      <td>70.625000</td>\n",
       "    </tr>\n",
       "  </tbody>\n",
       "</table>\n",
       "</div>"
      ],
      "text/plain": [
       "                      count  n_user_score_avg  meta_score_avg\n",
       "developer                                                    \n",
       "Telltale Games           53         65.811321       73.150943\n",
       "Capcom                   41         70.121951       76.195122\n",
       "Square Enix              31         76.580645       76.290323\n",
       "Omega Force              23         74.000000       71.826087\n",
       "Ubisoft Montreal         21         66.428571       71.761905\n",
       "EA Sports                20         45.800000       73.550000\n",
       "Zen Studios              20         54.200000       78.350000\n",
       "Bandai Namco Games       18         58.611111       68.666667\n",
       "Milestone S.r.l          16         60.312500       69.625000\n",
       "Nippon Ichi Software     16         66.000000       70.625000"
      ]
     },
     "execution_count": 53,
     "metadata": {},
     "output_type": "execute_result"
    }
   ],
   "source": [
    "dev = pd.concat([ps4.groupby('developer')['title'].count(), ps4.groupby('developer')['n_user_score'].mean(), ps4.groupby('developer')['meta_score'].mean()], axis=1)\n",
    "dev.columns = ['count', 'n_user_score_avg', 'meta_score_avg']\n",
    "dev.sort_values('count', ascending=False)[:10]"
   ]
  },
  {
   "cell_type": "markdown",
   "metadata": {},
   "source": [
    "It seems that not"
   ]
  },
  {
   "cell_type": "markdown",
   "metadata": {},
   "source": [
    "__Who are the best 10 developers according to user score (at least 4 released titles)?__"
   ]
  },
  {
   "cell_type": "code",
   "execution_count": 54,
   "metadata": {},
   "outputs": [
    {
     "data": {
      "text/html": [
       "<div>\n",
       "<style scoped>\n",
       "    .dataframe tbody tr th:only-of-type {\n",
       "        vertical-align: middle;\n",
       "    }\n",
       "\n",
       "    .dataframe tbody tr th {\n",
       "        vertical-align: top;\n",
       "    }\n",
       "\n",
       "    .dataframe thead th {\n",
       "        text-align: right;\n",
       "    }\n",
       "</style>\n",
       "<table border=\"1\" class=\"dataframe\">\n",
       "  <thead>\n",
       "    <tr style=\"text-align: right;\">\n",
       "      <th></th>\n",
       "      <th>count</th>\n",
       "      <th>n_user_score_avg</th>\n",
       "      <th>meta_score_avg</th>\n",
       "    </tr>\n",
       "    <tr>\n",
       "      <th>developer</th>\n",
       "      <th></th>\n",
       "      <th></th>\n",
       "      <th></th>\n",
       "    </tr>\n",
       "  </thead>\n",
       "  <tbody>\n",
       "    <tr>\n",
       "      <th>CD Projekt Red Studio</th>\n",
       "      <td>4</td>\n",
       "      <td>86.750000</td>\n",
       "      <td>88.250000</td>\n",
       "    </tr>\n",
       "    <tr>\n",
       "      <th>Tango Gameworks</th>\n",
       "      <td>5</td>\n",
       "      <td>83.000000</td>\n",
       "      <td>73.000000</td>\n",
       "    </tr>\n",
       "    <tr>\n",
       "      <th>From Software</th>\n",
       "      <td>9</td>\n",
       "      <td>83.000000</td>\n",
       "      <td>83.333333</td>\n",
       "    </tr>\n",
       "    <tr>\n",
       "      <th>Falcom</th>\n",
       "      <td>10</td>\n",
       "      <td>81.200000</td>\n",
       "      <td>79.300000</td>\n",
       "    </tr>\n",
       "    <tr>\n",
       "      <th>Arkane Studios</th>\n",
       "      <td>5</td>\n",
       "      <td>81.000000</td>\n",
       "      <td>82.400000</td>\n",
       "    </tr>\n",
       "    <tr>\n",
       "      <th>Ryu ga Gotoku Studios</th>\n",
       "      <td>10</td>\n",
       "      <td>79.800000</td>\n",
       "      <td>80.400000</td>\n",
       "    </tr>\n",
       "    <tr>\n",
       "      <th>Naughty Dog</th>\n",
       "      <td>4</td>\n",
       "      <td>79.500000</td>\n",
       "      <td>91.250000</td>\n",
       "    </tr>\n",
       "    <tr>\n",
       "      <th>id Software</th>\n",
       "      <td>6</td>\n",
       "      <td>77.833333</td>\n",
       "      <td>78.666667</td>\n",
       "    </tr>\n",
       "    <tr>\n",
       "      <th>Grasshopper Manufacture</th>\n",
       "      <td>4</td>\n",
       "      <td>77.250000</td>\n",
       "      <td>66.750000</td>\n",
       "    </tr>\n",
       "    <tr>\n",
       "      <th>PlatinumGames</th>\n",
       "      <td>10</td>\n",
       "      <td>76.600000</td>\n",
       "      <td>75.200000</td>\n",
       "    </tr>\n",
       "  </tbody>\n",
       "</table>\n",
       "</div>"
      ],
      "text/plain": [
       "                         count  n_user_score_avg  meta_score_avg\n",
       "developer                                                       \n",
       "CD Projekt Red Studio        4         86.750000       88.250000\n",
       "Tango Gameworks              5         83.000000       73.000000\n",
       "From Software                9         83.000000       83.333333\n",
       "Falcom                      10         81.200000       79.300000\n",
       "Arkane Studios               5         81.000000       82.400000\n",
       "Ryu ga Gotoku Studios       10         79.800000       80.400000\n",
       "Naughty Dog                  4         79.500000       91.250000\n",
       "id Software                  6         77.833333       78.666667\n",
       "Grasshopper Manufacture      4         77.250000       66.750000\n",
       "PlatinumGames               10         76.600000       75.200000"
      ]
     },
     "execution_count": 54,
     "metadata": {},
     "output_type": "execute_result"
    }
   ],
   "source": [
    "dev.loc[dev['count'] >= 4].sort_values('n_user_score_avg', ascending=False)[:10]"
   ]
  },
  {
   "cell_type": "markdown",
   "metadata": {},
   "source": [
    "__What are the titles that gave them such a good reputation ?__"
   ]
  },
  {
   "cell_type": "markdown",
   "metadata": {},
   "source": [
    "From Software"
   ]
  },
  {
   "cell_type": "code",
   "execution_count": 55,
   "metadata": {},
   "outputs": [
    {
     "data": {
      "text/plain": [
       "0                                 Bloodborne\n",
       "1                Bloodborne: The Old Hunters\n",
       "2    Dark Souls II: Scholar of the First Sin\n",
       "3                             Dark Souls III\n",
       "4          Dark Souls III: Ashes of Ariandel\n",
       "5            Dark Souls III: The Ringed City\n",
       "6                      Dark Souls Remastered\n",
       "7                                   Deracine\n",
       "8                  Sekiro: Shadows Die Twice\n",
       "Name: title, dtype: object"
      ]
     },
     "execution_count": 55,
     "metadata": {},
     "output_type": "execute_result"
    }
   ],
   "source": [
    "ps4.loc[ps4['developer'] == 'From Software', 'title'].reset_index(drop=True)"
   ]
  },
  {
   "cell_type": "markdown",
   "metadata": {},
   "source": [
    "DONTNOD Entertainment"
   ]
  },
  {
   "cell_type": "code",
   "execution_count": 56,
   "metadata": {},
   "outputs": [
    {
     "data": {
      "text/plain": [
       "0                               Life is Strange\n",
       "1                             Life is Strange 2\n",
       "2          Life is Strange 2: Episode 1 - Roads\n",
       "3          Life is Strange 2: Episode 2 - Rules\n",
       "4     Life is Strange 2: Episode 3 - Wastelands\n",
       "5          Life is Strange 2: Episode 4 - Faith\n",
       "6         Life is Strange 2: Episode 5 - Wolves\n",
       "7        Life is Strange: Episode 1 - Chrysalis\n",
       "8      Life is Strange: Episode 2 - Out of Time\n",
       "9     Life is Strange: Episode 3 - Chaos Theory\n",
       "10       Life is Strange: Episode 4 - Dark Room\n",
       "11       Life is Strange: Episode 5 - Polarized\n",
       "12     The Awesome Adventures of Captain Spirit\n",
       "13                                       Vampyr\n",
       "Name: title, dtype: object"
      ]
     },
     "execution_count": 56,
     "metadata": {},
     "output_type": "execute_result"
    }
   ],
   "source": [
    "ps4.loc[ps4['developer'] == 'DONTNOD Entertainment', 'title'].reset_index(drop=True)"
   ]
  },
  {
   "cell_type": "markdown",
   "metadata": {},
   "source": [
    "__Who are the top 10 developers whose titles are on average more overrated by metacritic (at least 4 released titles) ?__"
   ]
  },
  {
   "cell_type": "code",
   "execution_count": 57,
   "metadata": {},
   "outputs": [
    {
     "data": {
      "text/html": [
       "<div>\n",
       "<style scoped>\n",
       "    .dataframe tbody tr th:only-of-type {\n",
       "        vertical-align: middle;\n",
       "    }\n",
       "\n",
       "    .dataframe tbody tr th {\n",
       "        vertical-align: top;\n",
       "    }\n",
       "\n",
       "    .dataframe thead th {\n",
       "        text-align: right;\n",
       "    }\n",
       "</style>\n",
       "<table border=\"1\" class=\"dataframe\">\n",
       "  <thead>\n",
       "    <tr style=\"text-align: right;\">\n",
       "      <th></th>\n",
       "      <th>dif_avg</th>\n",
       "      <th>count</th>\n",
       "    </tr>\n",
       "    <tr>\n",
       "      <th>developer</th>\n",
       "      <th></th>\n",
       "      <th></th>\n",
       "    </tr>\n",
       "  </thead>\n",
       "  <tbody>\n",
       "    <tr>\n",
       "      <th>Electronic Arts</th>\n",
       "      <td>55.142857</td>\n",
       "      <td>7</td>\n",
       "    </tr>\n",
       "    <tr>\n",
       "      <th>Sledgehammer Games</th>\n",
       "      <td>39.800000</td>\n",
       "      <td>5</td>\n",
       "    </tr>\n",
       "    <tr>\n",
       "      <th>Visual Concepts</th>\n",
       "      <td>38.500000</td>\n",
       "      <td>10</td>\n",
       "    </tr>\n",
       "    <tr>\n",
       "      <th>Treyarch</th>\n",
       "      <td>33.714286</td>\n",
       "      <td>7</td>\n",
       "    </tr>\n",
       "    <tr>\n",
       "      <th>Infinity Ward</th>\n",
       "      <td>33.555556</td>\n",
       "      <td>9</td>\n",
       "    </tr>\n",
       "    <tr>\n",
       "      <th>Bungie</th>\n",
       "      <td>30.333333</td>\n",
       "      <td>9</td>\n",
       "    </tr>\n",
       "    <tr>\n",
       "      <th>EA Sports</th>\n",
       "      <td>27.750000</td>\n",
       "      <td>20</td>\n",
       "    </tr>\n",
       "    <tr>\n",
       "      <th>Massive Entertainment</th>\n",
       "      <td>25.250000</td>\n",
       "      <td>4</td>\n",
       "    </tr>\n",
       "    <tr>\n",
       "      <th>Zen Studios</th>\n",
       "      <td>24.150000</td>\n",
       "      <td>20</td>\n",
       "    </tr>\n",
       "    <tr>\n",
       "      <th>EA DICE</th>\n",
       "      <td>23.375000</td>\n",
       "      <td>8</td>\n",
       "    </tr>\n",
       "  </tbody>\n",
       "</table>\n",
       "</div>"
      ],
      "text/plain": [
       "                         dif_avg  count\n",
       "developer                              \n",
       "Electronic Arts        55.142857      7\n",
       "Sledgehammer Games     39.800000      5\n",
       "Visual Concepts        38.500000     10\n",
       "Treyarch               33.714286      7\n",
       "Infinity Ward          33.555556      9\n",
       "Bungie                 30.333333      9\n",
       "EA Sports              27.750000     20\n",
       "Massive Entertainment  25.250000      4\n",
       "Zen Studios            24.150000     20\n",
       "EA DICE                23.375000      8"
      ]
     },
     "execution_count": 57,
     "metadata": {},
     "output_type": "execute_result"
    }
   ],
   "source": [
    "dev = pd.concat([ps4.groupby('developer')['dif'].mean().sort_values(ascending=False), ps4.groupby('developer')['title'].count()], axis=1)\n",
    "dev.columns = ['dif_avg', 'count']\n",
    "dev.loc[dev['count'] >= 4].sort_values('dif_avg', ascending=False)[:10]"
   ]
  },
  {
   "cell_type": "markdown",
   "metadata": {},
   "source": [
    "__What are the top 10 EA Sports games according to metacritic?__"
   ]
  },
  {
   "cell_type": "code",
   "execution_count": 58,
   "metadata": {},
   "outputs": [
    {
     "data": {
      "image/png": "[encoded data removed]",
      "text/plain": [
       "<Figure size 1008x432 with 1 Axes>"
      ]
     },
     "metadata": {},
     "output_type": "display_data"
    }
   ],
   "source": [
    "ea = ps4.loc[ps4['developer'] == 'EA Sports', ['title', 'meta_score', 'n_user_score']].sort_values('meta_score', ascending=False)[:10]\n",
    "ea.set_index('title').plot.bar(figsize=(14, 6));"
   ]
  },
  {
   "cell_type": "markdown",
   "metadata": {},
   "source": [
    "__Who are the top 10 developers whose titles are on average more underrated by metacritic (at least 4 released titles)?__"
   ]
  },
  {
   "cell_type": "code",
   "execution_count": 59,
   "metadata": {},
   "outputs": [
    {
     "data": {
      "text/html": [
       "<div>\n",
       "<style scoped>\n",
       "    .dataframe tbody tr th:only-of-type {\n",
       "        vertical-align: middle;\n",
       "    }\n",
       "\n",
       "    .dataframe tbody tr th {\n",
       "        vertical-align: top;\n",
       "    }\n",
       "\n",
       "    .dataframe thead th {\n",
       "        text-align: right;\n",
       "    }\n",
       "</style>\n",
       "<table border=\"1\" class=\"dataframe\">\n",
       "  <thead>\n",
       "    <tr style=\"text-align: right;\">\n",
       "      <th></th>\n",
       "      <th>dif_avg</th>\n",
       "      <th>count</th>\n",
       "    </tr>\n",
       "    <tr>\n",
       "      <th>developer</th>\n",
       "      <th></th>\n",
       "      <th></th>\n",
       "    </tr>\n",
       "  </thead>\n",
       "  <tbody>\n",
       "    <tr>\n",
       "      <th>Grasshopper Manufacture</th>\n",
       "      <td>-10.500000</td>\n",
       "      <td>4</td>\n",
       "    </tr>\n",
       "    <tr>\n",
       "      <th>Tango Gameworks</th>\n",
       "      <td>-10.000000</td>\n",
       "      <td>5</td>\n",
       "    </tr>\n",
       "    <tr>\n",
       "      <th>Big Ant Studios</th>\n",
       "      <td>-8.500000</td>\n",
       "      <td>8</td>\n",
       "    </tr>\n",
       "    <tr>\n",
       "      <th>Dimps Corporation</th>\n",
       "      <td>-7.800000</td>\n",
       "      <td>5</td>\n",
       "    </tr>\n",
       "    <tr>\n",
       "      <th>CyberConnect2</th>\n",
       "      <td>-4.571429</td>\n",
       "      <td>7</td>\n",
       "    </tr>\n",
       "    <tr>\n",
       "      <th>Koei Tecmo Games</th>\n",
       "      <td>-4.538462</td>\n",
       "      <td>13</td>\n",
       "    </tr>\n",
       "    <tr>\n",
       "      <th>Acquire</th>\n",
       "      <td>-3.833333</td>\n",
       "      <td>6</td>\n",
       "    </tr>\n",
       "    <tr>\n",
       "      <th>Omega Force</th>\n",
       "      <td>-2.173913</td>\n",
       "      <td>23</td>\n",
       "    </tr>\n",
       "    <tr>\n",
       "      <th>Cyanide, Cyanide Studios</th>\n",
       "      <td>-2.000000</td>\n",
       "      <td>4</td>\n",
       "    </tr>\n",
       "    <tr>\n",
       "      <th>Falcom</th>\n",
       "      <td>-1.900000</td>\n",
       "      <td>10</td>\n",
       "    </tr>\n",
       "  </tbody>\n",
       "</table>\n",
       "</div>"
      ],
      "text/plain": [
       "                            dif_avg  count\n",
       "developer                                 \n",
       "Grasshopper Manufacture  -10.500000      4\n",
       "Tango Gameworks          -10.000000      5\n",
       "Big Ant Studios           -8.500000      8\n",
       "Dimps Corporation         -7.800000      5\n",
       "CyberConnect2             -4.571429      7\n",
       "Koei Tecmo Games          -4.538462     13\n",
       "Acquire                   -3.833333      6\n",
       "Omega Force               -2.173913     23\n",
       "Cyanide, Cyanide Studios  -2.000000      4\n",
       "Falcom                    -1.900000     10"
      ]
     },
     "execution_count": 59,
     "metadata": {},
     "output_type": "execute_result"
    }
   ],
   "source": [
    "dev.loc[dev['count'] >= 4].sort_values('dif_avg')[:10]"
   ]
  },
  {
   "cell_type": "code",
   "execution_count": 60,
   "metadata": {},
   "outputs": [
    {
     "data": {
      "text/plain": [
       "0                                           Let It Die\n",
       "1                       The 25th Ward: The Silver Case\n",
       "2                                      The Silver Case\n",
       "3    Travis Strikes Again: No More Heroes - Complet...\n",
       "Name: title, dtype: object"
      ]
     },
     "execution_count": 60,
     "metadata": {},
     "output_type": "execute_result"
    }
   ],
   "source": [
    "ps4.loc[ps4['developer'] == 'Grasshopper Manufacture', 'title'].reset_index(drop=True)"
   ]
  },
  {
   "cell_type": "code",
   "execution_count": 61,
   "metadata": {},
   "outputs": [
    {
     "data": {
      "text/plain": [
       "0         Aegis of Earth: Protonovus Assault\n",
       "1                               Akiba's Beat\n",
       "2        Akiba's Trip: Hellbound & Debriefed\n",
       "3           Akiba's Trip: Undead & Undressed\n",
       "4    Katana Kami: A Way of the Samurai Story\n",
       "5                      No Heroes Allowed! VR\n",
       "Name: title, dtype: object"
      ]
     },
     "execution_count": 61,
     "metadata": {},
     "output_type": "execute_result"
    }
   ],
   "source": [
    "ps4.loc[ps4['developer'] == 'Acquire', 'title'].reset_index(drop=True)"
   ]
  },
  {
   "cell_type": "markdown",
   "metadata": {},
   "source": [
    "### Ratings"
   ]
  },
  {
   "cell_type": "markdown",
   "metadata": {},
   "source": [
    "__How many titles per rating category?__"
   ]
  },
  {
   "cell_type": "code",
   "execution_count": 62,
   "metadata": {},
   "outputs": [
    {
     "data": {
      "image/png": "[encoded data removed]",
      "text/plain": [
       "<Figure size 864x432 with 1 Axes>"
      ]
     },
     "metadata": {},
     "output_type": "display_data"
    }
   ],
   "source": [
    "df['rating'].value_counts().plot.bar(figsize=(12, 6), rot=0);"
   ]
  },
  {
   "cell_type": "markdown",
   "metadata": {},
   "source": [
    "E: Everyone\n",
    "<br/>E+10: Everyone +10\n",
    "<br/>T: Teen +13\n",
    "<br/>M: Mature +17"
   ]
  },
  {
   "cell_type": "markdown",
   "metadata": {},
   "source": [
    "__Which console is more \"family\" oriented?__"
   ]
  },
  {
   "cell_type": "code",
   "execution_count": 63,
   "metadata": {
    "collapsed": true
   },
   "outputs": [],
   "source": [
    "qty = df.loc[(df['rating'].isnull() == False) & (df['rating'] != 'RP')].groupby('platform')['title'].count()\n",
    "#((df.loc[df['rating'] != 'RP'].groupby(['platform', 'rating'])['title'].count().unstack().transpose() / qty) * 100).plot.bar(figsize=(12, 6), rot=0);\n",
    "rat = (df.loc[df['rating'] != 'RP'].groupby(['platform', 'rating'])['title'].count().unstack().transpose() / qty) * 100\n",
    "rat = rat[['PlayStation 4', 'Xbox One', 'Switch']]"
   ]
  },
  {
   "cell_type": "code",
   "execution_count": 106,
   "metadata": {},
   "outputs": [
    {
     "data": {
      "image/png": "[encoded data removed]",
      "text/plain": [
       "<matplotlib.figure.Figure at 0x7f881f30cac8>"
      ]
     },
     "metadata": {},
     "output_type": "display_data"
    }
   ],
   "source": [
    "fig = plt.figure(figsize = (10,6))\n",
    "ax = fig.add_subplot(1, 1, 1)\n",
    "rat.iloc[0].plot.bar(ax=ax, color='beige', edgecolor='white', label=rat.index[0]);\n",
    "rat.iloc[1].plot.bar(ax=ax, bottom=rat.iloc[0], color='navajowhite', edgecolor='white', label=rat.index[1]);\n",
    "rat.iloc[3].plot.bar(ax=ax, bottom=rat.iloc[:2].sum().values, color='lightsalmon', edgecolor='white', label=rat.index[3]);\n",
    "rat.iloc[2].plot.bar(ax=ax, bottom=(rat.iloc[:2].sum() + rat.iloc[3]).values, color='firebrick', edgecolor='white', label=rat.index[2], rot=0);\n",
    "ax.legend(loc='upper left', bbox_to_anchor=(1, 1), ncol=1);"
   ]
  },
  {
   "cell_type": "markdown",
   "metadata": {},
   "source": [
    "Switch has in proportion more games suited for everyone"
   ]
  },
  {
   "cell_type": "markdown",
   "metadata": {},
   "source": [
    "__Which category has the best games ?__"
   ]
  },
  {
   "cell_type": "code",
   "execution_count": 64,
   "metadata": {},
   "outputs": [
    {
     "data": {
      "image/png": "[encoded data removed]",
      "text/plain": [
       "<Figure size 864x432 with 1 Axes>"
      ]
     },
     "metadata": {},
     "output_type": "display_data"
    }
   ],
   "source": [
    "tmp.loc[(tmp['rating'].isnull() == False) & (tmp['rating'] != 'RP')].groupby('rating')['n_user_score'].mean().sort_values(ascending=False).plot.bar(figsize=(12, 6), rot=0);"
   ]
  },
  {
   "cell_type": "markdown",
   "metadata": {},
   "source": [
    "Mature category seems to has an advantage"
   ]
  },
  {
   "cell_type": "code",
   "execution_count": null,
   "metadata": {
    "collapsed": true
   },
   "outputs": [],
   "source": []
  }
 ],
 "metadata": {
  "kernelspec": {
   "display_name": "base",
   "language": "python",
   "name": "python3"
  },
  "language_info": {
   "codemirror_mode": {
    "name": "ipython",
    "version": 3
   },
   "file_extension": ".py",
   "mimetype": "text/x-python",
   "name": "python",
   "nbconvert_exporter": "python",
   "pygments_lexer": "ipython3",
   "version": "3.9.7"
  },
  "vscode": {
   "interpreter": {
    "hash": "3067ead486e059ec00ffe7555bdb889e6e264a24dc711bf108106cc7baee8d5d"
   }
  }
 },
 "nbformat": 4,
 "nbformat_minor": 2
}
