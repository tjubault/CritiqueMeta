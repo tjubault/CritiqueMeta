{
 "cells": [
  {
   "cell_type": "code",
   "execution_count": 1,
   "metadata": {
    "collapsed": true
   },
   "outputs": [],
   "source": [
    "%matplotlib inline\n",
    "import numpy as np, pandas as pd\n",
    "import matplotlib.pyplot as plt, seaborn as sns"
   ]
  },
  {
   "cell_type": "code",
   "execution_count": 2,
   "metadata": {
    "collapsed": true
   },
   "outputs": [],
   "source": [
    "df = pd.read_csv('data/games.csv', lineterminator='\\n')"
   ]
  },
  {
   "cell_type": "code",
   "execution_count": 3,
   "metadata": {},
   "outputs": [
    {
     "data": {
      "text/plain": [
       "(5158, 18)"
      ]
     },
     "execution_count": 3,
     "metadata": {},
     "output_type": "execute_result"
    }
   ],
   "source": [
    "df.shape"
   ]
  },
  {
   "cell_type": "code",
   "execution_count": 4,
   "metadata": {},
   "outputs": [
    {
     "data": {
      "text/html": [
       "<div>\n",
       "<style>\n",
       "    .dataframe thead tr:only-child th {\n",
       "        text-align: right;\n",
       "    }\n",
       "\n",
       "    .dataframe thead th {\n",
       "        text-align: left;\n",
       "    }\n",
       "\n",
       "    .dataframe tbody tr th {\n",
       "        vertical-align: top;\n",
       "    }\n",
       "</style>\n",
       "<table border=\"1\" class=\"dataframe\">\n",
       "  <thead>\n",
       "    <tr style=\"text-align: right;\">\n",
       "      <th></th>\n",
       "      <th>0</th>\n",
       "      <th>1</th>\n",
       "      <th>2</th>\n",
       "      <th>3</th>\n",
       "      <th>4</th>\n",
       "    </tr>\n",
       "  </thead>\n",
       "  <tbody>\n",
       "    <tr>\n",
       "      <th>title</th>\n",
       "      <td>10 Second Ninja X</td>\n",
       "      <td>1000 Top Rated</td>\n",
       "      <td>1001 Spikes</td>\n",
       "      <td>100ft Robot Golf</td>\n",
       "      <td>101 Ways to Die</td>\n",
       "    </tr>\n",
       "    <tr>\n",
       "      <th>platform</th>\n",
       "      <td>PlayStation 4</td>\n",
       "      <td>PlayStation 4</td>\n",
       "      <td>PlayStation 4</td>\n",
       "      <td>PlayStation 4</td>\n",
       "      <td>PlayStation 4</td>\n",
       "    </tr>\n",
       "    <tr>\n",
       "      <th>developer</th>\n",
       "      <td>GameDesignDan</td>\n",
       "      <td>Top Rated</td>\n",
       "      <td>Nicalis</td>\n",
       "      <td>No Goblin</td>\n",
       "      <td>4 Door Lemon</td>\n",
       "    </tr>\n",
       "    <tr>\n",
       "      <th>genre</th>\n",
       "      <td>['Action', 'Platformer', '2D']</td>\n",
       "      <td>['Miscellaneous', 'Party / Minigame']</td>\n",
       "      <td>['Action', 'Platformer', 'Platformer', '2D', '...</td>\n",
       "      <td>['Sports', 'Individual', 'Golf', 'Arcade']</td>\n",
       "      <td>['Action', 'Platformer', '2D']</td>\n",
       "    </tr>\n",
       "    <tr>\n",
       "      <th>rating</th>\n",
       "      <td>T</td>\n",
       "      <td>NaN</td>\n",
       "      <td>T</td>\n",
       "      <td>E10+</td>\n",
       "      <td>T</td>\n",
       "    </tr>\n",
       "    <tr>\n",
       "      <th>release_date</th>\n",
       "      <td>2016-07-19</td>\n",
       "      <td>2017-06-27</td>\n",
       "      <td>2014-06-03</td>\n",
       "      <td>2017-09-27</td>\n",
       "      <td>2016-03-22</td>\n",
       "    </tr>\n",
       "    <tr>\n",
       "      <th>summary</th>\n",
       "      <td>If you want a cheesy story to go along with a ...</td>\n",
       "      <td>This game is a puzzle game, but it's more like...</td>\n",
       "      <td>If you miss the crippling difficulty of the NE...</td>\n",
       "      <td>100ft Robot Golf is a real-time golf game thro...</td>\n",
       "      <td>A game that makes me laugh and want to play mo...</td>\n",
       "    </tr>\n",
       "    <tr>\n",
       "      <th>meta_score</th>\n",
       "      <td>76</td>\n",
       "      <td>0</td>\n",
       "      <td>78</td>\n",
       "      <td>56</td>\n",
       "      <td>60</td>\n",
       "    </tr>\n",
       "    <tr>\n",
       "      <th>meta_overview</th>\n",
       "      <td>Generally favorable reviews</td>\n",
       "      <td>No score yet</td>\n",
       "      <td>Generally favorable reviews</td>\n",
       "      <td>Mixed or average reviews</td>\n",
       "      <td>Mixed or average reviews</td>\n",
       "    </tr>\n",
       "    <tr>\n",
       "      <th>meta_pos</th>\n",
       "      <td>11</td>\n",
       "      <td>0</td>\n",
       "      <td>6</td>\n",
       "      <td>3</td>\n",
       "      <td>1</td>\n",
       "    </tr>\n",
       "    <tr>\n",
       "      <th>meta_mixed</th>\n",
       "      <td>5</td>\n",
       "      <td>0</td>\n",
       "      <td>2</td>\n",
       "      <td>12</td>\n",
       "      <td>5</td>\n",
       "    </tr>\n",
       "    <tr>\n",
       "      <th>meta_neg</th>\n",
       "      <td>0</td>\n",
       "      <td>0</td>\n",
       "      <td>0</td>\n",
       "      <td>3</td>\n",
       "      <td>0</td>\n",
       "    </tr>\n",
       "    <tr>\n",
       "      <th>user_score</th>\n",
       "      <td>5.5</td>\n",
       "      <td>2</td>\n",
       "      <td>6.6</td>\n",
       "      <td>5.9</td>\n",
       "      <td>5</td>\n",
       "    </tr>\n",
       "    <tr>\n",
       "      <th>user_overview</th>\n",
       "      <td>Mixed or average reviews</td>\n",
       "      <td>Generally unfavorable reviews</td>\n",
       "      <td>Mixed or average reviews</td>\n",
       "      <td>Mixed or average reviews</td>\n",
       "      <td>Mixed or average reviews</td>\n",
       "    </tr>\n",
       "    <tr>\n",
       "      <th>user_pos</th>\n",
       "      <td>8</td>\n",
       "      <td>0</td>\n",
       "      <td>21</td>\n",
       "      <td>9</td>\n",
       "      <td>2</td>\n",
       "    </tr>\n",
       "    <tr>\n",
       "      <th>user_mixed</th>\n",
       "      <td>3</td>\n",
       "      <td>1</td>\n",
       "      <td>7</td>\n",
       "      <td>2</td>\n",
       "      <td>0</td>\n",
       "    </tr>\n",
       "    <tr>\n",
       "      <th>user_neg</th>\n",
       "      <td>6</td>\n",
       "      <td>3</td>\n",
       "      <td>8</td>\n",
       "      <td>6</td>\n",
       "      <td>2</td>\n",
       "    </tr>\n",
       "    <tr>\n",
       "      <th>n_user_score</th>\n",
       "      <td>55</td>\n",
       "      <td>20</td>\n",
       "      <td>66</td>\n",
       "      <td>59</td>\n",
       "      <td>50</td>\n",
       "    </tr>\n",
       "  </tbody>\n",
       "</table>\n",
       "</div>"
      ],
      "text/plain": [
       "                                                               0  \\\n",
       "title                                          10 Second Ninja X   \n",
       "platform                                           PlayStation 4   \n",
       "developer                                          GameDesignDan   \n",
       "genre                             ['Action', 'Platformer', '2D']   \n",
       "rating                                                         T   \n",
       "release_date                                          2016-07-19   \n",
       "summary        If you want a cheesy story to go along with a ...   \n",
       "meta_score                                                    76   \n",
       "meta_overview                        Generally favorable reviews   \n",
       "meta_pos                                                      11   \n",
       "meta_mixed                                                     5   \n",
       "meta_neg                                                       0   \n",
       "user_score                                                   5.5   \n",
       "user_overview                           Mixed or average reviews   \n",
       "user_pos                                                       8   \n",
       "user_mixed                                                     3   \n",
       "user_neg                                                       6   \n",
       "n_user_score                                                  55   \n",
       "\n",
       "                                                               1  \\\n",
       "title                                             1000 Top Rated   \n",
       "platform                                           PlayStation 4   \n",
       "developer                                              Top Rated   \n",
       "genre                      ['Miscellaneous', 'Party / Minigame']   \n",
       "rating                                                       NaN   \n",
       "release_date                                          2017-06-27   \n",
       "summary        This game is a puzzle game, but it's more like...   \n",
       "meta_score                                                     0   \n",
       "meta_overview                                       No score yet   \n",
       "meta_pos                                                       0   \n",
       "meta_mixed                                                     0   \n",
       "meta_neg                                                       0   \n",
       "user_score                                                     2   \n",
       "user_overview                      Generally unfavorable reviews   \n",
       "user_pos                                                       0   \n",
       "user_mixed                                                     1   \n",
       "user_neg                                                       3   \n",
       "n_user_score                                                  20   \n",
       "\n",
       "                                                               2  \\\n",
       "title                                                1001 Spikes   \n",
       "platform                                           PlayStation 4   \n",
       "developer                                                Nicalis   \n",
       "genre          ['Action', 'Platformer', 'Platformer', '2D', '...   \n",
       "rating                                                         T   \n",
       "release_date                                          2014-06-03   \n",
       "summary        If you miss the crippling difficulty of the NE...   \n",
       "meta_score                                                    78   \n",
       "meta_overview                        Generally favorable reviews   \n",
       "meta_pos                                                       6   \n",
       "meta_mixed                                                     2   \n",
       "meta_neg                                                       0   \n",
       "user_score                                                   6.6   \n",
       "user_overview                           Mixed or average reviews   \n",
       "user_pos                                                      21   \n",
       "user_mixed                                                     7   \n",
       "user_neg                                                       8   \n",
       "n_user_score                                                  66   \n",
       "\n",
       "                                                               3  \\\n",
       "title                                           100ft Robot Golf   \n",
       "platform                                           PlayStation 4   \n",
       "developer                                              No Goblin   \n",
       "genre                 ['Sports', 'Individual', 'Golf', 'Arcade']   \n",
       "rating                                                      E10+   \n",
       "release_date                                          2017-09-27   \n",
       "summary        100ft Robot Golf is a real-time golf game thro...   \n",
       "meta_score                                                    56   \n",
       "meta_overview                           Mixed or average reviews   \n",
       "meta_pos                                                       3   \n",
       "meta_mixed                                                    12   \n",
       "meta_neg                                                       3   \n",
       "user_score                                                   5.9   \n",
       "user_overview                           Mixed or average reviews   \n",
       "user_pos                                                       9   \n",
       "user_mixed                                                     2   \n",
       "user_neg                                                       6   \n",
       "n_user_score                                                  59   \n",
       "\n",
       "                                                               4  \n",
       "title                                            101 Ways to Die  \n",
       "platform                                           PlayStation 4  \n",
       "developer                                           4 Door Lemon  \n",
       "genre                             ['Action', 'Platformer', '2D']  \n",
       "rating                                                         T  \n",
       "release_date                                          2016-03-22  \n",
       "summary        A game that makes me laugh and want to play mo...  \n",
       "meta_score                                                    60  \n",
       "meta_overview                           Mixed or average reviews  \n",
       "meta_pos                                                       1  \n",
       "meta_mixed                                                     5  \n",
       "meta_neg                                                       0  \n",
       "user_score                                                     5  \n",
       "user_overview                           Mixed or average reviews  \n",
       "user_pos                                                       2  \n",
       "user_mixed                                                     0  \n",
       "user_neg                                                       2  \n",
       "n_user_score                                                  50  "
      ]
     },
     "execution_count": 4,
     "metadata": {},
     "output_type": "execute_result"
    }
   ],
   "source": [
    "df.head().transpose()"
   ]
  },
  {
   "cell_type": "code",
   "execution_count": 5,
   "metadata": {
    "collapsed": true
   },
   "outputs": [],
   "source": [
    "plt.rc('xtick', labelsize=14)\n",
    "plt.rc('ytick', labelsize=14)\n",
    "sns.set_style(style='whitegrid')"
   ]
  },
  {
   "cell_type": "markdown",
   "metadata": {},
   "source": [
    "### General"
   ]
  },
  {
   "cell_type": "markdown",
   "metadata": {},
   "source": [
    "__Which console has more games titles ?__"
   ]
  },
  {
   "cell_type": "code",
   "execution_count": 6,
   "metadata": {},
   "outputs": [
    {
     "data": {
      "image/png": "[encoded data removed]",
      "text/plain": [
       "<matplotlib.figure.Figure at 0x7f58c4eb3240>"
      ]
     },
     "metadata": {},
     "output_type": "display_data"
    }
   ],
   "source": [
    "df.groupby('platform')['title'].count().sort_values(ascending=False).plot.bar(figsize=(10, 6), rot=0);"
   ]
  },
  {
   "cell_type": "markdown",
   "metadata": {},
   "source": [
    "Given release date let's add two columns with year and month information"
   ]
  },
  {
   "cell_type": "code",
   "execution_count": 6,
   "metadata": {
    "collapsed": true
   },
   "outputs": [],
   "source": [
    "df['release_date'] = pd.to_datetime(df['release_date'])\n",
    "df['month'] = df['release_date'].dt.month\n",
    "df['year'] = df['release_date'].dt.year"
   ]
  },
  {
   "cell_type": "markdown",
   "metadata": {},
   "source": [
    "EA Sports appears also as 'EA Sports, EA Vancouver' and 'EA Vancouver'. Let's unify the names"
   ]
  },
  {
   "cell_type": "code",
   "execution_count": 7,
   "metadata": {
    "collapsed": true
   },
   "outputs": [],
   "source": [
    "df.loc[df['developer'] == 'EA Sports, EA Vancouver', 'developer'] = 'EA Sports'\n",
    "df.loc[df['developer'] == 'EA Vancouver', 'developer'] = 'EA Sports'"
   ]
  },
  {
   "cell_type": "markdown",
   "metadata": {},
   "source": [
    "In order to perform analysis related to scores, we need to use those games with reviews"
   ]
  },
  {
   "cell_type": "code",
   "execution_count": 8,
   "metadata": {
    "collapsed": true
   },
   "outputs": [],
   "source": [
    "tmp = df.loc[(df['meta_overview'] != 'No score yet') & (df['user_overview'] != 'No user score yet')].copy()"
   ]
  },
  {
   "cell_type": "markdown",
   "metadata": {},
   "source": [
    "__Which console has best average scores ?__"
   ]
  },
  {
   "cell_type": "code",
   "execution_count": 10,
   "metadata": {},
   "outputs": [
    {
     "data": {
      "image/png": "[encoded data removed]",
      "text/plain": [
       "<matplotlib.figure.Figure at 0x7f58c4f62630>"
      ]
     },
     "metadata": {},
     "output_type": "display_data"
    }
   ],
   "source": [
    "tmp.groupby('platform')['meta_score', 'n_user_score'].mean().sort_values('meta_score', ascending=False).plot.bar(figsize=(10, 6), rot=0);"
   ]
  },
  {
   "cell_type": "markdown",
   "metadata": {},
   "source": [
    "Let's compare metacritics scores vs user scores. (metacritics scores are made by specialized critics sites while user scores by people registered on metacritic.com)"
   ]
  },
  {
   "cell_type": "code",
   "execution_count": 11,
   "metadata": {},
   "outputs": [
    {
     "data": {
      "image/png": "[encoded data removed]",
      "text/plain": [
       "<matplotlib.figure.Figure at 0x7f58c5a64ef0>"
      ]
     },
     "metadata": {},
     "output_type": "display_data"
    }
   ],
   "source": [
    "tmp[['meta_score']].plot.hist(bins=25, figsize=(12, 6));"
   ]
  },
  {
   "cell_type": "code",
   "execution_count": 12,
   "metadata": {},
   "outputs": [
    {
     "data": {
      "image/png": "[encoded data removed]",
      "text/plain": [
       "<matplotlib.figure.Figure at 0x7f58c503f908>"
      ]
     },
     "metadata": {},
     "output_type": "display_data"
    }
   ],
   "source": [
    "tmp[['n_user_score']].plot.hist(bins=25, figsize=(12, 6));"
   ]
  },
  {
   "cell_type": "markdown",
   "metadata": {},
   "source": [
    "Meta scores tend to be higher than user scores"
   ]
  },
  {
   "cell_type": "code",
   "execution_count": 13,
   "metadata": {},
   "outputs": [
    {
     "data": {
      "image/png": "[encoded data removed]",
      "text/plain": [
       "<matplotlib.figure.Figure at 0x7f58c1e020f0>"
      ]
     },
     "metadata": {},
     "output_type": "display_data"
    }
   ],
   "source": [
    "fig, ax = plt.subplots(figsize=(12, 8))\n",
    "ax.plot([0, 100], [0, 100])\n",
    "tmp.plot.scatter(x='n_user_score', y='meta_score', ax=ax, alpha=0.25);"
   ]
  },
  {
   "cell_type": "code",
   "execution_count": 14,
   "metadata": {},
   "outputs": [
    {
     "data": {
      "image/png": "[encoded data removed]",
      "text/plain": [
       "<matplotlib.figure.Figure at 0x7f58c5071b38>"
      ]
     },
     "metadata": {},
     "output_type": "display_data"
    }
   ],
   "source": [
    "mo = tmp.groupby('meta_overview')['title'].count()\n",
    "mo.name = 'meta_overview'\n",
    "uo = tmp.groupby('user_overview')['title'].count()\n",
    "uo.name = 'user_overview'\n",
    "pd.concat([mo, uo], axis=1).sort_values('meta_overview', ascending=False).plot.bar(figsize=(12, 6));"
   ]
  },
  {
   "cell_type": "markdown",
   "metadata": {},
   "source": [
    "We confirm that there are more 'Generally favorable reviews' in meta scores and more 'Generally unfavorable reviews' in user scores. <br>Users tend to be more critic in their reviews than specialized sites (paid reviews ?)"
   ]
  },
  {
   "cell_type": "markdown",
   "metadata": {},
   "source": [
    "__How many new titles were released since 2014 ?__"
   ]
  },
  {
   "cell_type": "markdown",
   "metadata": {},
   "source": [
    "Here we compare just PlayStation 4 and Xbox One because both platforms were announced the same year (2013). On the other hand Nintendo Switch in 2016"
   ]
  },
  {
   "cell_type": "code",
   "execution_count": 15,
   "metadata": {},
   "outputs": [
    {
     "data": {
      "image/png": "[encoded data removed]",
      "text/plain": [
       "<matplotlib.figure.Figure at 0x7f58c5aae710>"
      ]
     },
     "metadata": {},
     "output_type": "display_data"
    }
   ],
   "source": [
    "df.loc[(df['year'] > 2013) & (df['year'] < 2018) & (df['platform'] != 'Switch')].groupby(['year', 'platform'])['title'].count().unstack().plot.bar(figsize=(10, 6));"
   ]
  },
  {
   "cell_type": "markdown",
   "metadata": {},
   "source": [
    "__When are new titles released ?__"
   ]
  },
  {
   "cell_type": "code",
   "execution_count": 16,
   "metadata": {},
   "outputs": [
    {
     "data": {
      "image/png": "[encoded data removed]",
      "text/plain": [
       "<matplotlib.figure.Figure at 0x7f58c506ada0>"
      ]
     },
     "metadata": {},
     "output_type": "display_data"
    }
   ],
   "source": [
    "df.groupby(['year', 'month'])['title'].count().groupby('month').mean().plot(figsize=(12, 6));"
   ]
  },
  {
   "cell_type": "markdown",
   "metadata": {},
   "source": [
    "There's a peak between August and November (anticipating christmas sales?)"
   ]
  },
  {
   "cell_type": "markdown",
   "metadata": {},
   "source": [
    "__How did average scores evolve since 2014 ?__"
   ]
  },
  {
   "cell_type": "code",
   "execution_count": 17,
   "metadata": {},
   "outputs": [
    {
     "data": {
      "image/png": "[encoded data removed]",
      "text/plain": [
       "<matplotlib.figure.Figure at 0x7f58c03c6470>"
      ]
     },
     "metadata": {},
     "output_type": "display_data"
    }
   ],
   "source": [
    "fig = plt.figure(figsize = (15,6))\n",
    "ax = fig.add_subplot(1, 1, 1)\n",
    "tmp.loc[(tmp['year'] > 2013) & (tmp['year'] < 2018), ('meta_score', 'year')].groupby('year').mean().plot(ax = ax, xticks=np.arange(2014, 2018, 1))\n",
    "tmp.loc[(tmp['year'] > 2013) & (tmp['year'] < 2018), ('n_user_score', 'year')].groupby('year').mean().plot(ax = ax, xticks=np.arange(2014, 2018, 1));"
   ]
  },
  {
   "cell_type": "markdown",
   "metadata": {},
   "source": [
    "No big changes"
   ]
  },
  {
   "cell_type": "markdown",
   "metadata": {
    "heading_collapsed": true
   },
   "source": [
    "### Best games"
   ]
  },
  {
   "cell_type": "markdown",
   "metadata": {
    "hidden": true
   },
   "source": [
    "__How many titles per console have metacritic score greater than 85?__"
   ]
  },
  {
   "cell_type": "code",
   "execution_count": 18,
   "metadata": {
    "hidden": true
   },
   "outputs": [
    {
     "data": {
      "text/plain": [
       "platform\n",
       "PlayStation 4    112\n",
       "Xbox One          85\n",
       "Switch            22\n",
       "Name: title, dtype: int64"
      ]
     },
     "execution_count": 18,
     "metadata": {},
     "output_type": "execute_result"
    }
   ],
   "source": [
    "tmp.loc[tmp['meta_score'] >= 85].groupby('platform')['title'].count().sort_values(ascending=False)"
   ]
  },
  {
   "cell_type": "markdown",
   "metadata": {
    "hidden": true
   },
   "source": [
    "__How many titles per console have user score greater than 85?__"
   ]
  },
  {
   "cell_type": "code",
   "execution_count": 19,
   "metadata": {
    "hidden": true
   },
   "outputs": [
    {
     "data": {
      "text/plain": [
       "platform\n",
       "PlayStation 4    29\n",
       "Xbox One         24\n",
       "Switch           18\n",
       "Name: title, dtype: int64"
      ]
     },
     "execution_count": 19,
     "metadata": {},
     "output_type": "execute_result"
    }
   ],
   "source": [
    "tmp.loc[tmp['n_user_score'] >= 85].groupby('platform')['title'].count().sort_values(ascending=False)"
   ]
  },
  {
   "cell_type": "markdown",
   "metadata": {
    "hidden": true
   },
   "source": [
    "Let's add a column with the difference between meta and user score"
   ]
  },
  {
   "cell_type": "code",
   "execution_count": 20,
   "metadata": {
    "collapsed": true,
    "hidden": true
   },
   "outputs": [],
   "source": [
    "tmp['dif'] = tmp['meta_score'] - tmp['n_user_score']"
   ]
  },
  {
   "cell_type": "code",
   "execution_count": 21,
   "metadata": {
    "collapsed": true,
    "hidden": true
   },
   "outputs": [],
   "source": [
    "ps4 = tmp.loc[tmp['platform'] == 'PlayStation 4']\n",
    "xone = tmp.loc[tmp['platform'] == 'Xbox One']\n",
    "switch = tmp.loc[tmp['platform'] == 'Switch']"
   ]
  },
  {
   "cell_type": "markdown",
   "metadata": {
    "heading_collapsed": true,
    "hidden": true
   },
   "source": [
    "#### PlayStation 4"
   ]
  },
  {
   "cell_type": "markdown",
   "metadata": {
    "hidden": true
   },
   "source": [
    "__What are the best 20 titles according to metacritic score?__"
   ]
  },
  {
   "cell_type": "code",
   "execution_count": 22,
   "metadata": {
    "hidden": true
   },
   "outputs": [
    {
     "data": {
      "text/html": [
       "<div>\n",
       "<style>\n",
       "    .dataframe thead tr:only-child th {\n",
       "        text-align: right;\n",
       "    }\n",
       "\n",
       "    .dataframe thead th {\n",
       "        text-align: left;\n",
       "    }\n",
       "\n",
       "    .dataframe tbody tr th {\n",
       "        vertical-align: top;\n",
       "    }\n",
       "</style>\n",
       "<table border=\"1\" class=\"dataframe\">\n",
       "  <thead>\n",
       "    <tr style=\"text-align: right;\">\n",
       "      <th></th>\n",
       "      <th>title</th>\n",
       "      <th>meta_score</th>\n",
       "      <th>n_user_score</th>\n",
       "      <th>dif</th>\n",
       "    </tr>\n",
       "  </thead>\n",
       "  <tbody>\n",
       "    <tr>\n",
       "      <th>0</th>\n",
       "      <td>Grand Theft Auto V</td>\n",
       "      <td>97</td>\n",
       "      <td>83.0</td>\n",
       "      <td>14.0</td>\n",
       "    </tr>\n",
       "    <tr>\n",
       "      <th>1</th>\n",
       "      <td>The Last of Us Remastered</td>\n",
       "      <td>95</td>\n",
       "      <td>91.0</td>\n",
       "      <td>4.0</td>\n",
       "    </tr>\n",
       "    <tr>\n",
       "      <th>2</th>\n",
       "      <td>XCOM 2: War of the Chosen</td>\n",
       "      <td>94</td>\n",
       "      <td>61.0</td>\n",
       "      <td>33.0</td>\n",
       "    </tr>\n",
       "    <tr>\n",
       "      <th>3</th>\n",
       "      <td>Persona 5</td>\n",
       "      <td>93</td>\n",
       "      <td>91.0</td>\n",
       "      <td>2.0</td>\n",
       "    </tr>\n",
       "    <tr>\n",
       "      <th>4</th>\n",
       "      <td>Metal Gear Solid V: The Phantom Pain</td>\n",
       "      <td>93</td>\n",
       "      <td>82.0</td>\n",
       "      <td>11.0</td>\n",
       "    </tr>\n",
       "    <tr>\n",
       "      <th>5</th>\n",
       "      <td>Uncharted 4: A Thief's End</td>\n",
       "      <td>93</td>\n",
       "      <td>83.0</td>\n",
       "      <td>10.0</td>\n",
       "    </tr>\n",
       "    <tr>\n",
       "      <th>6</th>\n",
       "      <td>Bloodborne</td>\n",
       "      <td>92</td>\n",
       "      <td>89.0</td>\n",
       "      <td>3.0</td>\n",
       "    </tr>\n",
       "    <tr>\n",
       "      <th>7</th>\n",
       "      <td>Undertale</td>\n",
       "      <td>92</td>\n",
       "      <td>64.0</td>\n",
       "      <td>28.0</td>\n",
       "    </tr>\n",
       "    <tr>\n",
       "      <th>8</th>\n",
       "      <td>The Witcher 3: Wild Hunt</td>\n",
       "      <td>92</td>\n",
       "      <td>92.0</td>\n",
       "      <td>0.0</td>\n",
       "    </tr>\n",
       "    <tr>\n",
       "      <th>9</th>\n",
       "      <td>Shadow of the Colossus</td>\n",
       "      <td>92</td>\n",
       "      <td>90.0</td>\n",
       "      <td>2.0</td>\n",
       "    </tr>\n",
       "    <tr>\n",
       "      <th>10</th>\n",
       "      <td>Journey</td>\n",
       "      <td>92</td>\n",
       "      <td>84.0</td>\n",
       "      <td>8.0</td>\n",
       "    </tr>\n",
       "    <tr>\n",
       "      <th>11</th>\n",
       "      <td>flower</td>\n",
       "      <td>91</td>\n",
       "      <td>73.0</td>\n",
       "      <td>18.0</td>\n",
       "    </tr>\n",
       "    <tr>\n",
       "      <th>12</th>\n",
       "      <td>The Witcher 3: Wild Hunt - Blood and Wine</td>\n",
       "      <td>91</td>\n",
       "      <td>88.0</td>\n",
       "      <td>3.0</td>\n",
       "    </tr>\n",
       "    <tr>\n",
       "      <th>13</th>\n",
       "      <td>INSIDE</td>\n",
       "      <td>91</td>\n",
       "      <td>83.0</td>\n",
       "      <td>8.0</td>\n",
       "    </tr>\n",
       "    <tr>\n",
       "      <th>14</th>\n",
       "      <td>Monster Hunter: World</td>\n",
       "      <td>91</td>\n",
       "      <td>80.0</td>\n",
       "      <td>11.0</td>\n",
       "    </tr>\n",
       "    <tr>\n",
       "      <th>15</th>\n",
       "      <td>Shovel Knight</td>\n",
       "      <td>90</td>\n",
       "      <td>77.0</td>\n",
       "      <td>13.0</td>\n",
       "    </tr>\n",
       "    <tr>\n",
       "      <th>16</th>\n",
       "      <td>Tales From The Borderlands: Episode 5 - The Va...</td>\n",
       "      <td>90</td>\n",
       "      <td>82.0</td>\n",
       "      <td>8.0</td>\n",
       "    </tr>\n",
       "    <tr>\n",
       "      <th>17</th>\n",
       "      <td>Diablo III: Ultimate Evil Edition</td>\n",
       "      <td>90</td>\n",
       "      <td>80.0</td>\n",
       "      <td>10.0</td>\n",
       "    </tr>\n",
       "    <tr>\n",
       "      <th>18</th>\n",
       "      <td>Fez</td>\n",
       "      <td>90</td>\n",
       "      <td>63.0</td>\n",
       "      <td>27.0</td>\n",
       "    </tr>\n",
       "    <tr>\n",
       "      <th>19</th>\n",
       "      <td>Overwatch</td>\n",
       "      <td>90</td>\n",
       "      <td>63.0</td>\n",
       "      <td>27.0</td>\n",
       "    </tr>\n",
       "  </tbody>\n",
       "</table>\n",
       "</div>"
      ],
      "text/plain": [
       "                                                title  meta_score  \\\n",
       "0                                  Grand Theft Auto V          97   \n",
       "1                           The Last of Us Remastered          95   \n",
       "2                           XCOM 2: War of the Chosen          94   \n",
       "3                                           Persona 5          93   \n",
       "4                Metal Gear Solid V: The Phantom Pain          93   \n",
       "5                          Uncharted 4: A Thief's End          93   \n",
       "6                                          Bloodborne          92   \n",
       "7                                           Undertale          92   \n",
       "8                            The Witcher 3: Wild Hunt          92   \n",
       "9                              Shadow of the Colossus          92   \n",
       "10                                            Journey          92   \n",
       "11                                             flower          91   \n",
       "12          The Witcher 3: Wild Hunt - Blood and Wine          91   \n",
       "13                                             INSIDE          91   \n",
       "14                              Monster Hunter: World          91   \n",
       "15                                      Shovel Knight          90   \n",
       "16  Tales From The Borderlands: Episode 5 - The Va...          90   \n",
       "17                  Diablo III: Ultimate Evil Edition          90   \n",
       "18                                                Fez          90   \n",
       "19                                          Overwatch          90   \n",
       "\n",
       "    n_user_score   dif  \n",
       "0           83.0  14.0  \n",
       "1           91.0   4.0  \n",
       "2           61.0  33.0  \n",
       "3           91.0   2.0  \n",
       "4           82.0  11.0  \n",
       "5           83.0  10.0  \n",
       "6           89.0   3.0  \n",
       "7           64.0  28.0  \n",
       "8           92.0   0.0  \n",
       "9           90.0   2.0  \n",
       "10          84.0   8.0  \n",
       "11          73.0  18.0  \n",
       "12          88.0   3.0  \n",
       "13          83.0   8.0  \n",
       "14          80.0  11.0  \n",
       "15          77.0  13.0  \n",
       "16          82.0   8.0  \n",
       "17          80.0  10.0  \n",
       "18          63.0  27.0  \n",
       "19          63.0  27.0  "
      ]
     },
     "execution_count": 22,
     "metadata": {},
     "output_type": "execute_result"
    }
   ],
   "source": [
    "ps4.sort_values('meta_score', ascending=False).reset_index(drop=True)[['title', 'meta_score', 'n_user_score', 'dif']][:20]"
   ]
  },
  {
   "cell_type": "markdown",
   "metadata": {
    "hidden": true
   },
   "source": [
    "For a lot of those titles there's a big difference between what meta critics and users think"
   ]
  },
  {
   "cell_type": "markdown",
   "metadata": {
    "hidden": true
   },
   "source": [
    "__What are the best 20 titles according to user score?__"
   ]
  },
  {
   "cell_type": "code",
   "execution_count": 23,
   "metadata": {
    "hidden": true
   },
   "outputs": [
    {
     "data": {
      "text/html": [
       "<div>\n",
       "<style>\n",
       "    .dataframe thead tr:only-child th {\n",
       "        text-align: right;\n",
       "    }\n",
       "\n",
       "    .dataframe thead th {\n",
       "        text-align: left;\n",
       "    }\n",
       "\n",
       "    .dataframe tbody tr th {\n",
       "        vertical-align: top;\n",
       "    }\n",
       "</style>\n",
       "<table border=\"1\" class=\"dataframe\">\n",
       "  <thead>\n",
       "    <tr style=\"text-align: right;\">\n",
       "      <th></th>\n",
       "      <th>title</th>\n",
       "      <th>n_user_score</th>\n",
       "      <th>meta_score</th>\n",
       "      <th>dif</th>\n",
       "    </tr>\n",
       "  </thead>\n",
       "  <tbody>\n",
       "    <tr>\n",
       "      <th>0</th>\n",
       "      <td>Bloodborne: The Old Hunters</td>\n",
       "      <td>93.0</td>\n",
       "      <td>87</td>\n",
       "      <td>-6.0</td>\n",
       "    </tr>\n",
       "    <tr>\n",
       "      <th>1</th>\n",
       "      <td>The Witcher 3: Wild Hunt</td>\n",
       "      <td>92.0</td>\n",
       "      <td>92</td>\n",
       "      <td>0.0</td>\n",
       "    </tr>\n",
       "    <tr>\n",
       "      <th>2</th>\n",
       "      <td>The Last of Us Remastered</td>\n",
       "      <td>91.0</td>\n",
       "      <td>95</td>\n",
       "      <td>4.0</td>\n",
       "    </tr>\n",
       "    <tr>\n",
       "      <th>3</th>\n",
       "      <td>Persona 5</td>\n",
       "      <td>91.0</td>\n",
       "      <td>93</td>\n",
       "      <td>2.0</td>\n",
       "    </tr>\n",
       "    <tr>\n",
       "      <th>4</th>\n",
       "      <td>Shadow of the Colossus</td>\n",
       "      <td>90.0</td>\n",
       "      <td>92</td>\n",
       "      <td>2.0</td>\n",
       "    </tr>\n",
       "    <tr>\n",
       "      <th>5</th>\n",
       "      <td>Bloodborne</td>\n",
       "      <td>89.0</td>\n",
       "      <td>92</td>\n",
       "      <td>3.0</td>\n",
       "    </tr>\n",
       "    <tr>\n",
       "      <th>6</th>\n",
       "      <td>Dark Souls III</td>\n",
       "      <td>89.0</td>\n",
       "      <td>89</td>\n",
       "      <td>0.0</td>\n",
       "    </tr>\n",
       "    <tr>\n",
       "      <th>7</th>\n",
       "      <td>AO Tennis</td>\n",
       "      <td>89.0</td>\n",
       "      <td>44</td>\n",
       "      <td>-45.0</td>\n",
       "    </tr>\n",
       "    <tr>\n",
       "      <th>8</th>\n",
       "      <td>The Witcher 3: Wild Hunt - Blood and Wine</td>\n",
       "      <td>88.0</td>\n",
       "      <td>91</td>\n",
       "      <td>3.0</td>\n",
       "    </tr>\n",
       "    <tr>\n",
       "      <th>9</th>\n",
       "      <td>NieR: Automata</td>\n",
       "      <td>88.0</td>\n",
       "      <td>88</td>\n",
       "      <td>0.0</td>\n",
       "    </tr>\n",
       "    <tr>\n",
       "      <th>10</th>\n",
       "      <td>Okami HD</td>\n",
       "      <td>88.0</td>\n",
       "      <td>88</td>\n",
       "      <td>0.0</td>\n",
       "    </tr>\n",
       "    <tr>\n",
       "      <th>11</th>\n",
       "      <td>Yakuza 0</td>\n",
       "      <td>88.0</td>\n",
       "      <td>85</td>\n",
       "      <td>-3.0</td>\n",
       "    </tr>\n",
       "    <tr>\n",
       "      <th>12</th>\n",
       "      <td>The Witcher 3: Wild Hunt - Hearts of Stone</td>\n",
       "      <td>87.0</td>\n",
       "      <td>90</td>\n",
       "      <td>3.0</td>\n",
       "    </tr>\n",
       "    <tr>\n",
       "      <th>13</th>\n",
       "      <td>Crash Bandicoot N. Sane Trilogy</td>\n",
       "      <td>87.0</td>\n",
       "      <td>80</td>\n",
       "      <td>-7.0</td>\n",
       "    </tr>\n",
       "    <tr>\n",
       "      <th>14</th>\n",
       "      <td>Sonic Mania</td>\n",
       "      <td>87.0</td>\n",
       "      <td>86</td>\n",
       "      <td>-1.0</td>\n",
       "    </tr>\n",
       "    <tr>\n",
       "      <th>15</th>\n",
       "      <td>Wipeout: Omega Collection</td>\n",
       "      <td>87.0</td>\n",
       "      <td>85</td>\n",
       "      <td>-2.0</td>\n",
       "    </tr>\n",
       "    <tr>\n",
       "      <th>16</th>\n",
       "      <td>The Evil Within 2</td>\n",
       "      <td>87.0</td>\n",
       "      <td>76</td>\n",
       "      <td>-11.0</td>\n",
       "    </tr>\n",
       "    <tr>\n",
       "      <th>17</th>\n",
       "      <td>Life is Strange</td>\n",
       "      <td>86.0</td>\n",
       "      <td>85</td>\n",
       "      <td>-1.0</td>\n",
       "    </tr>\n",
       "    <tr>\n",
       "      <th>18</th>\n",
       "      <td>Yakuza Kiwami</td>\n",
       "      <td>86.0</td>\n",
       "      <td>80</td>\n",
       "      <td>-6.0</td>\n",
       "    </tr>\n",
       "    <tr>\n",
       "      <th>19</th>\n",
       "      <td>Ratchet &amp; Clank</td>\n",
       "      <td>86.0</td>\n",
       "      <td>85</td>\n",
       "      <td>-1.0</td>\n",
       "    </tr>\n",
       "  </tbody>\n",
       "</table>\n",
       "</div>"
      ],
      "text/plain": [
       "                                         title  n_user_score  meta_score   dif\n",
       "0                  Bloodborne: The Old Hunters          93.0          87  -6.0\n",
       "1                     The Witcher 3: Wild Hunt          92.0          92   0.0\n",
       "2                    The Last of Us Remastered          91.0          95   4.0\n",
       "3                                    Persona 5          91.0          93   2.0\n",
       "4                       Shadow of the Colossus          90.0          92   2.0\n",
       "5                                   Bloodborne          89.0          92   3.0\n",
       "6                               Dark Souls III          89.0          89   0.0\n",
       "7                                    AO Tennis          89.0          44 -45.0\n",
       "8    The Witcher 3: Wild Hunt - Blood and Wine          88.0          91   3.0\n",
       "9                               NieR: Automata          88.0          88   0.0\n",
       "10                                    Okami HD          88.0          88   0.0\n",
       "11                                    Yakuza 0          88.0          85  -3.0\n",
       "12  The Witcher 3: Wild Hunt - Hearts of Stone          87.0          90   3.0\n",
       "13             Crash Bandicoot N. Sane Trilogy          87.0          80  -7.0\n",
       "14                                 Sonic Mania          87.0          86  -1.0\n",
       "15                   Wipeout: Omega Collection          87.0          85  -2.0\n",
       "16                           The Evil Within 2          87.0          76 -11.0\n",
       "17                             Life is Strange          86.0          85  -1.0\n",
       "18                               Yakuza Kiwami          86.0          80  -6.0\n",
       "19                             Ratchet & Clank          86.0          85  -1.0"
      ]
     },
     "execution_count": 23,
     "metadata": {},
     "output_type": "execute_result"
    }
   ],
   "source": [
    "ps4.sort_values('n_user_score', ascending=False).reset_index(drop=True)[['title', 'n_user_score', 'meta_score', 'dif']][:20]"
   ]
  },
  {
   "cell_type": "markdown",
   "metadata": {
    "hidden": true
   },
   "source": [
    "With exception of AO Tennis, meta critics and users scores seem to be similar"
   ]
  },
  {
   "cell_type": "markdown",
   "metadata": {
    "hidden": true
   },
   "source": [
    "__What are the top 10 titles most overrated by metacritic? (user point of view)__"
   ]
  },
  {
   "cell_type": "code",
   "execution_count": 24,
   "metadata": {
    "hidden": true
   },
   "outputs": [
    {
     "data": {
      "text/html": [
       "<div>\n",
       "<style>\n",
       "    .dataframe thead tr:only-child th {\n",
       "        text-align: right;\n",
       "    }\n",
       "\n",
       "    .dataframe thead th {\n",
       "        text-align: left;\n",
       "    }\n",
       "\n",
       "    .dataframe tbody tr th {\n",
       "        vertical-align: top;\n",
       "    }\n",
       "</style>\n",
       "<table border=\"1\" class=\"dataframe\">\n",
       "  <thead>\n",
       "    <tr style=\"text-align: right;\">\n",
       "      <th></th>\n",
       "      <th>title</th>\n",
       "      <th>meta_score</th>\n",
       "      <th>n_user_score</th>\n",
       "      <th>dif</th>\n",
       "    </tr>\n",
       "  </thead>\n",
       "  <tbody>\n",
       "    <tr>\n",
       "      <th>0</th>\n",
       "      <td>NBA 2K18</td>\n",
       "      <td>80</td>\n",
       "      <td>16.0</td>\n",
       "      <td>64.0</td>\n",
       "    </tr>\n",
       "    <tr>\n",
       "      <th>1</th>\n",
       "      <td>Star Wars Battlefront II</td>\n",
       "      <td>68</td>\n",
       "      <td>10.0</td>\n",
       "      <td>58.0</td>\n",
       "    </tr>\n",
       "    <tr>\n",
       "      <th>2</th>\n",
       "      <td>Call of Duty: Infinite Warfare - Sabotage</td>\n",
       "      <td>76</td>\n",
       "      <td>18.0</td>\n",
       "      <td>58.0</td>\n",
       "    </tr>\n",
       "    <tr>\n",
       "      <th>3</th>\n",
       "      <td>Pinball FX 2: Star Wars Pinball - Rogue One</td>\n",
       "      <td>74</td>\n",
       "      <td>22.0</td>\n",
       "      <td>52.0</td>\n",
       "    </tr>\n",
       "    <tr>\n",
       "      <th>4</th>\n",
       "      <td>Call of Duty: Infinite Warfare - Continuum</td>\n",
       "      <td>75</td>\n",
       "      <td>25.0</td>\n",
       "      <td>50.0</td>\n",
       "    </tr>\n",
       "    <tr>\n",
       "      <th>5</th>\n",
       "      <td>Super Rude Bear Resurrection</td>\n",
       "      <td>78</td>\n",
       "      <td>28.0</td>\n",
       "      <td>50.0</td>\n",
       "    </tr>\n",
       "    <tr>\n",
       "      <th>6</th>\n",
       "      <td>FIFA 18</td>\n",
       "      <td>84</td>\n",
       "      <td>34.0</td>\n",
       "      <td>50.0</td>\n",
       "    </tr>\n",
       "    <tr>\n",
       "      <th>7</th>\n",
       "      <td>Call of Duty: WWII - The Resistance</td>\n",
       "      <td>73</td>\n",
       "      <td>24.0</td>\n",
       "      <td>49.0</td>\n",
       "    </tr>\n",
       "    <tr>\n",
       "      <th>8</th>\n",
       "      <td>Call of Duty: Black Ops III - Salvation</td>\n",
       "      <td>74</td>\n",
       "      <td>27.0</td>\n",
       "      <td>47.0</td>\n",
       "    </tr>\n",
       "    <tr>\n",
       "      <th>9</th>\n",
       "      <td>Chime Sharp</td>\n",
       "      <td>76</td>\n",
       "      <td>29.0</td>\n",
       "      <td>47.0</td>\n",
       "    </tr>\n",
       "  </tbody>\n",
       "</table>\n",
       "</div>"
      ],
      "text/plain": [
       "                                         title  meta_score  n_user_score   dif\n",
       "0                                     NBA 2K18          80          16.0  64.0\n",
       "1                     Star Wars Battlefront II          68          10.0  58.0\n",
       "2    Call of Duty: Infinite Warfare - Sabotage          76          18.0  58.0\n",
       "3  Pinball FX 2: Star Wars Pinball - Rogue One          74          22.0  52.0\n",
       "4   Call of Duty: Infinite Warfare - Continuum          75          25.0  50.0\n",
       "5                 Super Rude Bear Resurrection          78          28.0  50.0\n",
       "6                                      FIFA 18          84          34.0  50.0\n",
       "7          Call of Duty: WWII - The Resistance          73          24.0  49.0\n",
       "8      Call of Duty: Black Ops III - Salvation          74          27.0  47.0\n",
       "9                                  Chime Sharp          76          29.0  47.0"
      ]
     },
     "execution_count": 24,
     "metadata": {},
     "output_type": "execute_result"
    }
   ],
   "source": [
    "ps4.sort_values('dif', ascending=False)[:10][['title', 'meta_score', 'n_user_score', 'dif']].reset_index(drop=True)"
   ]
  },
  {
   "cell_type": "markdown",
   "metadata": {
    "hidden": true
   },
   "source": [
    "__What are the top 10 titles most underrated by metacritic? (user point of view)__"
   ]
  },
  {
   "cell_type": "code",
   "execution_count": 25,
   "metadata": {
    "hidden": true
   },
   "outputs": [
    {
     "data": {
      "text/html": [
       "<div>\n",
       "<style>\n",
       "    .dataframe thead tr:only-child th {\n",
       "        text-align: right;\n",
       "    }\n",
       "\n",
       "    .dataframe thead th {\n",
       "        text-align: left;\n",
       "    }\n",
       "\n",
       "    .dataframe tbody tr th {\n",
       "        vertical-align: top;\n",
       "    }\n",
       "</style>\n",
       "<table border=\"1\" class=\"dataframe\">\n",
       "  <thead>\n",
       "    <tr style=\"text-align: right;\">\n",
       "      <th></th>\n",
       "      <th>title</th>\n",
       "      <th>meta_score</th>\n",
       "      <th>n_user_score</th>\n",
       "      <th>dif</th>\n",
       "    </tr>\n",
       "  </thead>\n",
       "  <tbody>\n",
       "    <tr>\n",
       "      <th>0</th>\n",
       "      <td>AO Tennis</td>\n",
       "      <td>44</td>\n",
       "      <td>89.0</td>\n",
       "      <td>-45.0</td>\n",
       "    </tr>\n",
       "    <tr>\n",
       "      <th>1</th>\n",
       "      <td>Dead or Alive Xtreme 3: Fortune</td>\n",
       "      <td>43</td>\n",
       "      <td>76.0</td>\n",
       "      <td>-33.0</td>\n",
       "    </tr>\n",
       "    <tr>\n",
       "      <th>2</th>\n",
       "      <td>Calvino Noir</td>\n",
       "      <td>44</td>\n",
       "      <td>71.0</td>\n",
       "      <td>-27.0</td>\n",
       "    </tr>\n",
       "    <tr>\n",
       "      <th>3</th>\n",
       "      <td>Shadwen</td>\n",
       "      <td>51</td>\n",
       "      <td>75.0</td>\n",
       "      <td>-24.0</td>\n",
       "    </tr>\n",
       "    <tr>\n",
       "      <th>4</th>\n",
       "      <td>Anima: Gate of Memories</td>\n",
       "      <td>52</td>\n",
       "      <td>75.0</td>\n",
       "      <td>-23.0</td>\n",
       "    </tr>\n",
       "    <tr>\n",
       "      <th>5</th>\n",
       "      <td>Armikrog</td>\n",
       "      <td>50</td>\n",
       "      <td>73.0</td>\n",
       "      <td>-23.0</td>\n",
       "    </tr>\n",
       "    <tr>\n",
       "      <th>6</th>\n",
       "      <td>Mark McMorris Infinite Air</td>\n",
       "      <td>50</td>\n",
       "      <td>73.0</td>\n",
       "      <td>-23.0</td>\n",
       "    </tr>\n",
       "    <tr>\n",
       "      <th>7</th>\n",
       "      <td>Kill Strain</td>\n",
       "      <td>53</td>\n",
       "      <td>75.0</td>\n",
       "      <td>-22.0</td>\n",
       "    </tr>\n",
       "    <tr>\n",
       "      <th>8</th>\n",
       "      <td>Red Goddess: Inner World</td>\n",
       "      <td>49</td>\n",
       "      <td>71.0</td>\n",
       "      <td>-22.0</td>\n",
       "    </tr>\n",
       "    <tr>\n",
       "      <th>9</th>\n",
       "      <td>Dying: Reborn</td>\n",
       "      <td>38</td>\n",
       "      <td>59.0</td>\n",
       "      <td>-21.0</td>\n",
       "    </tr>\n",
       "  </tbody>\n",
       "</table>\n",
       "</div>"
      ],
      "text/plain": [
       "                             title  meta_score  n_user_score   dif\n",
       "0                        AO Tennis          44          89.0 -45.0\n",
       "1  Dead or Alive Xtreme 3: Fortune          43          76.0 -33.0\n",
       "2                     Calvino Noir          44          71.0 -27.0\n",
       "3                          Shadwen          51          75.0 -24.0\n",
       "4          Anima: Gate of Memories          52          75.0 -23.0\n",
       "5                         Armikrog          50          73.0 -23.0\n",
       "6       Mark McMorris Infinite Air          50          73.0 -23.0\n",
       "7                      Kill Strain          53          75.0 -22.0\n",
       "8         Red Goddess: Inner World          49          71.0 -22.0\n",
       "9                    Dying: Reborn          38          59.0 -21.0"
      ]
     },
     "execution_count": 25,
     "metadata": {},
     "output_type": "execute_result"
    }
   ],
   "source": [
    "ps4.sort_values('dif')[:10][['title', 'meta_score', 'n_user_score', 'dif']].reset_index(drop=True)"
   ]
  },
  {
   "cell_type": "markdown",
   "metadata": {
    "hidden": true
   },
   "source": [
    "Let's see more information about AO Tennis"
   ]
  },
  {
   "cell_type": "code",
   "execution_count": 26,
   "metadata": {
    "hidden": true
   },
   "outputs": [
    {
     "data": {
      "text/html": [
       "<div>\n",
       "<style>\n",
       "    .dataframe thead tr:only-child th {\n",
       "        text-align: right;\n",
       "    }\n",
       "\n",
       "    .dataframe thead th {\n",
       "        text-align: left;\n",
       "    }\n",
       "\n",
       "    .dataframe tbody tr th {\n",
       "        vertical-align: top;\n",
       "    }\n",
       "</style>\n",
       "<table border=\"1\" class=\"dataframe\">\n",
       "  <thead>\n",
       "    <tr style=\"text-align: right;\">\n",
       "      <th></th>\n",
       "      <th>159</th>\n",
       "    </tr>\n",
       "  </thead>\n",
       "  <tbody>\n",
       "    <tr>\n",
       "      <th>title</th>\n",
       "      <td>AO Tennis</td>\n",
       "    </tr>\n",
       "    <tr>\n",
       "      <th>platform</th>\n",
       "      <td>PlayStation 4</td>\n",
       "    </tr>\n",
       "    <tr>\n",
       "      <th>developer</th>\n",
       "      <td>Big Ant Studios</td>\n",
       "    </tr>\n",
       "    <tr>\n",
       "      <th>genre</th>\n",
       "      <td>['Sports', 'Individual', 'Tennis']</td>\n",
       "    </tr>\n",
       "    <tr>\n",
       "      <th>rating</th>\n",
       "      <td>NaN</td>\n",
       "    </tr>\n",
       "    <tr>\n",
       "      <th>release_date</th>\n",
       "      <td>2018-01-16 00:00:00</td>\n",
       "    </tr>\n",
       "    <tr>\n",
       "      <th>summary</th>\n",
       "      <td>AO Tennis is the most advanced tennis game eve...</td>\n",
       "    </tr>\n",
       "    <tr>\n",
       "      <th>meta_score</th>\n",
       "      <td>44</td>\n",
       "    </tr>\n",
       "    <tr>\n",
       "      <th>meta_overview</th>\n",
       "      <td>Generally unfavorable reviews</td>\n",
       "    </tr>\n",
       "    <tr>\n",
       "      <th>meta_pos</th>\n",
       "      <td>0</td>\n",
       "    </tr>\n",
       "    <tr>\n",
       "      <th>meta_mixed</th>\n",
       "      <td>2</td>\n",
       "    </tr>\n",
       "    <tr>\n",
       "      <th>meta_neg</th>\n",
       "      <td>2</td>\n",
       "    </tr>\n",
       "    <tr>\n",
       "      <th>user_score</th>\n",
       "      <td>8.9</td>\n",
       "    </tr>\n",
       "    <tr>\n",
       "      <th>user_overview</th>\n",
       "      <td>Generally favorable reviews</td>\n",
       "    </tr>\n",
       "    <tr>\n",
       "      <th>user_pos</th>\n",
       "      <td>22</td>\n",
       "    </tr>\n",
       "    <tr>\n",
       "      <th>user_mixed</th>\n",
       "      <td>0</td>\n",
       "    </tr>\n",
       "    <tr>\n",
       "      <th>user_neg</th>\n",
       "      <td>3</td>\n",
       "    </tr>\n",
       "    <tr>\n",
       "      <th>n_user_score</th>\n",
       "      <td>89</td>\n",
       "    </tr>\n",
       "    <tr>\n",
       "      <th>month</th>\n",
       "      <td>1</td>\n",
       "    </tr>\n",
       "    <tr>\n",
       "      <th>year</th>\n",
       "      <td>2018</td>\n",
       "    </tr>\n",
       "    <tr>\n",
       "      <th>dif</th>\n",
       "      <td>-45</td>\n",
       "    </tr>\n",
       "  </tbody>\n",
       "</table>\n",
       "</div>"
      ],
      "text/plain": [
       "                                                             159\n",
       "title                                                  AO Tennis\n",
       "platform                                           PlayStation 4\n",
       "developer                                        Big Ant Studios\n",
       "genre                         ['Sports', 'Individual', 'Tennis']\n",
       "rating                                                       NaN\n",
       "release_date                                 2018-01-16 00:00:00\n",
       "summary        AO Tennis is the most advanced tennis game eve...\n",
       "meta_score                                                    44\n",
       "meta_overview                      Generally unfavorable reviews\n",
       "meta_pos                                                       0\n",
       "meta_mixed                                                     2\n",
       "meta_neg                                                       2\n",
       "user_score                                                   8.9\n",
       "user_overview                        Generally favorable reviews\n",
       "user_pos                                                      22\n",
       "user_mixed                                                     0\n",
       "user_neg                                                       3\n",
       "n_user_score                                                  89\n",
       "month                                                          1\n",
       "year                                                        2018\n",
       "dif                                                          -45"
      ]
     },
     "execution_count": 26,
     "metadata": {},
     "output_type": "execute_result"
    }
   ],
   "source": [
    "ps4.loc[ps4['title'] == 'AO Tennis'].transpose()"
   ]
  },
  {
   "cell_type": "markdown",
   "metadata": {
    "hidden": true
   },
   "source": [
    "It's a new game with few critics reviews"
   ]
  },
  {
   "cell_type": "markdown",
   "metadata": {
    "heading_collapsed": true
   },
   "source": [
    "### Exclusive games"
   ]
  },
  {
   "cell_type": "code",
   "execution_count": 57,
   "metadata": {
    "collapsed": true,
    "hidden": true
   },
   "outputs": [],
   "source": [
    "ps4_list = set(df.loc[df['platform'] == 'PlayStation 4', 'title'])\n",
    "xone_list = set(df.loc[df['platform'] == 'Xbox One', 'title'])\n",
    "switch_list = set(df.loc[df['platform'] == 'Switch', 'title'])"
   ]
  },
  {
   "cell_type": "markdown",
   "metadata": {
    "hidden": true
   },
   "source": [
    "#### PlayStation 4"
   ]
  },
  {
   "cell_type": "markdown",
   "metadata": {
    "hidden": true
   },
   "source": [
    "__How many exclusive games PlayStation 4 got?__"
   ]
  },
  {
   "cell_type": "code",
   "execution_count": 86,
   "metadata": {
    "hidden": true
   },
   "outputs": [
    {
     "data": {
      "text/plain": [
       "506"
      ]
     },
     "execution_count": 86,
     "metadata": {},
     "output_type": "execute_result"
    }
   ],
   "source": [
    "ps4_exclusives = tmp.loc[tmp['title'].isin(list(ps4_list.difference(xone_list).difference(switch_list))), ('title', 'n_user_score', 'meta_score')].sort_values('n_user_score', ascending=False).reset_index(drop=True)\n",
    "len(ps4_exclusives)"
   ]
  },
  {
   "cell_type": "markdown",
   "metadata": {
    "hidden": true
   },
   "source": [
    "__What are the top 25 exclusives PlayStation 4 games?__"
   ]
  },
  {
   "cell_type": "code",
   "execution_count": 87,
   "metadata": {
    "hidden": true
   },
   "outputs": [
    {
     "data": {
      "text/html": [
       "<div>\n",
       "<style>\n",
       "    .dataframe thead tr:only-child th {\n",
       "        text-align: right;\n",
       "    }\n",
       "\n",
       "    .dataframe thead th {\n",
       "        text-align: left;\n",
       "    }\n",
       "\n",
       "    .dataframe tbody tr th {\n",
       "        vertical-align: top;\n",
       "    }\n",
       "</style>\n",
       "<table border=\"1\" class=\"dataframe\">\n",
       "  <thead>\n",
       "    <tr style=\"text-align: right;\">\n",
       "      <th></th>\n",
       "      <th>title</th>\n",
       "      <th>n_user_score</th>\n",
       "      <th>meta_score</th>\n",
       "    </tr>\n",
       "  </thead>\n",
       "  <tbody>\n",
       "    <tr>\n",
       "      <th>0</th>\n",
       "      <td>Bloodborne: The Old Hunters</td>\n",
       "      <td>93.0</td>\n",
       "      <td>87</td>\n",
       "    </tr>\n",
       "    <tr>\n",
       "      <th>1</th>\n",
       "      <td>The Last of Us Remastered</td>\n",
       "      <td>91.0</td>\n",
       "      <td>95</td>\n",
       "    </tr>\n",
       "    <tr>\n",
       "      <th>2</th>\n",
       "      <td>Persona 5</td>\n",
       "      <td>91.0</td>\n",
       "      <td>93</td>\n",
       "    </tr>\n",
       "    <tr>\n",
       "      <th>3</th>\n",
       "      <td>Shadow of the Colossus</td>\n",
       "      <td>90.0</td>\n",
       "      <td>92</td>\n",
       "    </tr>\n",
       "    <tr>\n",
       "      <th>4</th>\n",
       "      <td>Bloodborne</td>\n",
       "      <td>89.0</td>\n",
       "      <td>92</td>\n",
       "    </tr>\n",
       "    <tr>\n",
       "      <th>5</th>\n",
       "      <td>NieR: Automata</td>\n",
       "      <td>88.0</td>\n",
       "      <td>88</td>\n",
       "    </tr>\n",
       "    <tr>\n",
       "      <th>6</th>\n",
       "      <td>Yakuza 0</td>\n",
       "      <td>88.0</td>\n",
       "      <td>85</td>\n",
       "    </tr>\n",
       "    <tr>\n",
       "      <th>7</th>\n",
       "      <td>Wipeout: Omega Collection</td>\n",
       "      <td>87.0</td>\n",
       "      <td>85</td>\n",
       "    </tr>\n",
       "    <tr>\n",
       "      <th>8</th>\n",
       "      <td>Crash Bandicoot N. Sane Trilogy</td>\n",
       "      <td>87.0</td>\n",
       "      <td>80</td>\n",
       "    </tr>\n",
       "    <tr>\n",
       "      <th>9</th>\n",
       "      <td>Ratchet &amp; Clank</td>\n",
       "      <td>86.0</td>\n",
       "      <td>85</td>\n",
       "    </tr>\n",
       "    <tr>\n",
       "      <th>10</th>\n",
       "      <td>Yakuza Kiwami</td>\n",
       "      <td>86.0</td>\n",
       "      <td>80</td>\n",
       "    </tr>\n",
       "    <tr>\n",
       "      <th>11</th>\n",
       "      <td>Uncharted: The Nathan Drake Collection</td>\n",
       "      <td>86.0</td>\n",
       "      <td>86</td>\n",
       "    </tr>\n",
       "    <tr>\n",
       "      <th>12</th>\n",
       "      <td>Disgaea 5: Alliance of Vengeance</td>\n",
       "      <td>85.0</td>\n",
       "      <td>80</td>\n",
       "    </tr>\n",
       "    <tr>\n",
       "      <th>13</th>\n",
       "      <td>Kingdom Hearts HD I.5 + II.5 Remix</td>\n",
       "      <td>85.0</td>\n",
       "      <td>84</td>\n",
       "    </tr>\n",
       "    <tr>\n",
       "      <th>14</th>\n",
       "      <td>Fallen Legion: Sins of an Empire</td>\n",
       "      <td>85.0</td>\n",
       "      <td>64</td>\n",
       "    </tr>\n",
       "    <tr>\n",
       "      <th>15</th>\n",
       "      <td>Nioh</td>\n",
       "      <td>85.0</td>\n",
       "      <td>88</td>\n",
       "    </tr>\n",
       "    <tr>\n",
       "      <th>16</th>\n",
       "      <td>The King of Fighters XIV</td>\n",
       "      <td>84.0</td>\n",
       "      <td>79</td>\n",
       "    </tr>\n",
       "    <tr>\n",
       "      <th>17</th>\n",
       "      <td>Gravity Rush 2</td>\n",
       "      <td>84.0</td>\n",
       "      <td>80</td>\n",
       "    </tr>\n",
       "    <tr>\n",
       "      <th>18</th>\n",
       "      <td>The Talos Principle</td>\n",
       "      <td>84.0</td>\n",
       "      <td>88</td>\n",
       "    </tr>\n",
       "    <tr>\n",
       "      <th>19</th>\n",
       "      <td>Journey</td>\n",
       "      <td>84.0</td>\n",
       "      <td>92</td>\n",
       "    </tr>\n",
       "    <tr>\n",
       "      <th>20</th>\n",
       "      <td>Horizon Zero Dawn: The Frozen Wilds</td>\n",
       "      <td>84.0</td>\n",
       "      <td>83</td>\n",
       "    </tr>\n",
       "    <tr>\n",
       "      <th>21</th>\n",
       "      <td>Until Dawn</td>\n",
       "      <td>83.0</td>\n",
       "      <td>79</td>\n",
       "    </tr>\n",
       "    <tr>\n",
       "      <th>22</th>\n",
       "      <td>Guilty Gear Xrd -REVELATOR-</td>\n",
       "      <td>83.0</td>\n",
       "      <td>86</td>\n",
       "    </tr>\n",
       "    <tr>\n",
       "      <th>23</th>\n",
       "      <td>Final Fantasy X / X-2 HD Remaster</td>\n",
       "      <td>83.0</td>\n",
       "      <td>84</td>\n",
       "    </tr>\n",
       "    <tr>\n",
       "      <th>24</th>\n",
       "      <td>Odin Sphere Leifthrasir</td>\n",
       "      <td>83.0</td>\n",
       "      <td>87</td>\n",
       "    </tr>\n",
       "  </tbody>\n",
       "</table>\n",
       "</div>"
      ],
      "text/plain": [
       "                                     title  n_user_score  meta_score\n",
       "0              Bloodborne: The Old Hunters          93.0          87\n",
       "1                The Last of Us Remastered          91.0          95\n",
       "2                                Persona 5          91.0          93\n",
       "3                   Shadow of the Colossus          90.0          92\n",
       "4                               Bloodborne          89.0          92\n",
       "5                           NieR: Automata          88.0          88\n",
       "6                                 Yakuza 0          88.0          85\n",
       "7                Wipeout: Omega Collection          87.0          85\n",
       "8          Crash Bandicoot N. Sane Trilogy          87.0          80\n",
       "9                          Ratchet & Clank          86.0          85\n",
       "10                           Yakuza Kiwami          86.0          80\n",
       "11  Uncharted: The Nathan Drake Collection          86.0          86\n",
       "12        Disgaea 5: Alliance of Vengeance          85.0          80\n",
       "13      Kingdom Hearts HD I.5 + II.5 Remix          85.0          84\n",
       "14        Fallen Legion: Sins of an Empire          85.0          64\n",
       "15                                    Nioh          85.0          88\n",
       "16                The King of Fighters XIV          84.0          79\n",
       "17                          Gravity Rush 2          84.0          80\n",
       "18                     The Talos Principle          84.0          88\n",
       "19                                 Journey          84.0          92\n",
       "20     Horizon Zero Dawn: The Frozen Wilds          84.0          83\n",
       "21                              Until Dawn          83.0          79\n",
       "22             Guilty Gear Xrd -REVELATOR-          83.0          86\n",
       "23       Final Fantasy X / X-2 HD Remaster          83.0          84\n",
       "24                 Odin Sphere Leifthrasir          83.0          87"
      ]
     },
     "execution_count": 87,
     "metadata": {},
     "output_type": "execute_result"
    }
   ],
   "source": [
    "ps4_exclusives[:25]"
   ]
  },
  {
   "cell_type": "markdown",
   "metadata": {
    "hidden": true
   },
   "source": [
    "__How many exlusive PlayStation 4 games have user score equal or greater than 80 ?__"
   ]
  },
  {
   "cell_type": "code",
   "execution_count": 88,
   "metadata": {
    "hidden": true
   },
   "outputs": [
    {
     "data": {
      "text/plain": [
       "58"
      ]
     },
     "execution_count": 88,
     "metadata": {},
     "output_type": "execute_result"
    }
   ],
   "source": [
    "len(ps4_exclusives.loc[ps4_exclusives['n_user_score'] >= 80])"
   ]
  },
  {
   "cell_type": "markdown",
   "metadata": {
    "heading_collapsed": true,
    "hidden": true
   },
   "source": [
    "#### Xbox One"
   ]
  },
  {
   "cell_type": "markdown",
   "metadata": {
    "hidden": true
   },
   "source": [
    "__How many exclusive games Xbox One got?__"
   ]
  },
  {
   "cell_type": "code",
   "execution_count": 89,
   "metadata": {
    "hidden": true
   },
   "outputs": [
    {
     "data": {
      "text/plain": [
       "128"
      ]
     },
     "execution_count": 89,
     "metadata": {},
     "output_type": "execute_result"
    }
   ],
   "source": [
    "xone_exclusives = tmp.loc[tmp['title'].isin(list(xone_list.difference(ps4_list).difference(switch))), ('title', 'n_user_score', 'meta_score')].sort_values('n_user_score', ascending=False).reset_index(drop=True)\n",
    "len(xone_exclusives)"
   ]
  },
  {
   "cell_type": "markdown",
   "metadata": {
    "hidden": true
   },
   "source": [
    "__What are the top 25 exclusives Xbox One games?__"
   ]
  },
  {
   "cell_type": "code",
   "execution_count": 90,
   "metadata": {
    "hidden": true
   },
   "outputs": [
    {
     "data": {
      "text/html": [
       "<div>\n",
       "<style>\n",
       "    .dataframe thead tr:only-child th {\n",
       "        text-align: right;\n",
       "    }\n",
       "\n",
       "    .dataframe thead th {\n",
       "        text-align: left;\n",
       "    }\n",
       "\n",
       "    .dataframe tbody tr th {\n",
       "        vertical-align: top;\n",
       "    }\n",
       "</style>\n",
       "<table border=\"1\" class=\"dataframe\">\n",
       "  <thead>\n",
       "    <tr style=\"text-align: right;\">\n",
       "      <th></th>\n",
       "      <th>title</th>\n",
       "      <th>n_user_score</th>\n",
       "      <th>meta_score</th>\n",
       "    </tr>\n",
       "  </thead>\n",
       "  <tbody>\n",
       "    <tr>\n",
       "      <th>0</th>\n",
       "      <td>Hyperdrive Massacre</td>\n",
       "      <td>86.0</td>\n",
       "      <td>73</td>\n",
       "    </tr>\n",
       "    <tr>\n",
       "      <th>1</th>\n",
       "      <td>Ori and the Blind Forest</td>\n",
       "      <td>85.0</td>\n",
       "      <td>88</td>\n",
       "    </tr>\n",
       "    <tr>\n",
       "      <th>2</th>\n",
       "      <td>Cuphead</td>\n",
       "      <td>84.0</td>\n",
       "      <td>86</td>\n",
       "    </tr>\n",
       "    <tr>\n",
       "      <th>3</th>\n",
       "      <td>Lego Marvel Super Heroes 2</td>\n",
       "      <td>83.0</td>\n",
       "      <td>75</td>\n",
       "    </tr>\n",
       "    <tr>\n",
       "      <th>4</th>\n",
       "      <td>Forza Horizon 2</td>\n",
       "      <td>83.0</td>\n",
       "      <td>86</td>\n",
       "    </tr>\n",
       "    <tr>\n",
       "      <th>5</th>\n",
       "      <td>Silence: The Whispered World 2</td>\n",
       "      <td>82.0</td>\n",
       "      <td>66</td>\n",
       "    </tr>\n",
       "    <tr>\n",
       "      <th>6</th>\n",
       "      <td>Action News Heroes</td>\n",
       "      <td>81.0</td>\n",
       "      <td>49</td>\n",
       "    </tr>\n",
       "    <tr>\n",
       "      <th>7</th>\n",
       "      <td>LEVEL 22, Gary's Misadventures</td>\n",
       "      <td>81.0</td>\n",
       "      <td>68</td>\n",
       "    </tr>\n",
       "    <tr>\n",
       "      <th>8</th>\n",
       "      <td>Raiden V</td>\n",
       "      <td>81.0</td>\n",
       "      <td>75</td>\n",
       "    </tr>\n",
       "    <tr>\n",
       "      <th>9</th>\n",
       "      <td>Shape Up</td>\n",
       "      <td>80.0</td>\n",
       "      <td>58</td>\n",
       "    </tr>\n",
       "    <tr>\n",
       "      <th>10</th>\n",
       "      <td>Forza Horizon 3</td>\n",
       "      <td>80.0</td>\n",
       "      <td>91</td>\n",
       "    </tr>\n",
       "    <tr>\n",
       "      <th>11</th>\n",
       "      <td>Forza Horizon 2 Presents Fast &amp; Furious</td>\n",
       "      <td>80.0</td>\n",
       "      <td>61</td>\n",
       "    </tr>\n",
       "    <tr>\n",
       "      <th>12</th>\n",
       "      <td>Rare Replay</td>\n",
       "      <td>80.0</td>\n",
       "      <td>84</td>\n",
       "    </tr>\n",
       "    <tr>\n",
       "      <th>13</th>\n",
       "      <td>Gas Guzzlers Extreme</td>\n",
       "      <td>80.0</td>\n",
       "      <td>62</td>\n",
       "    </tr>\n",
       "    <tr>\n",
       "      <th>14</th>\n",
       "      <td>Rise of the Tomb Raider</td>\n",
       "      <td>79.0</td>\n",
       "      <td>86</td>\n",
       "    </tr>\n",
       "    <tr>\n",
       "      <th>15</th>\n",
       "      <td>Starpoint Gemini 2</td>\n",
       "      <td>78.0</td>\n",
       "      <td>71</td>\n",
       "    </tr>\n",
       "    <tr>\n",
       "      <th>16</th>\n",
       "      <td>Fruit Ninja Kinect 2</td>\n",
       "      <td>78.0</td>\n",
       "      <td>69</td>\n",
       "    </tr>\n",
       "    <tr>\n",
       "      <th>17</th>\n",
       "      <td>Sunset Overdrive</td>\n",
       "      <td>78.0</td>\n",
       "      <td>81</td>\n",
       "    </tr>\n",
       "    <tr>\n",
       "      <th>18</th>\n",
       "      <td>Cobalt</td>\n",
       "      <td>77.0</td>\n",
       "      <td>66</td>\n",
       "    </tr>\n",
       "    <tr>\n",
       "      <th>19</th>\n",
       "      <td>Forza Motorsport 6</td>\n",
       "      <td>77.0</td>\n",
       "      <td>87</td>\n",
       "    </tr>\n",
       "    <tr>\n",
       "      <th>20</th>\n",
       "      <td>Gigantic</td>\n",
       "      <td>77.0</td>\n",
       "      <td>74</td>\n",
       "    </tr>\n",
       "    <tr>\n",
       "      <th>21</th>\n",
       "      <td>Forza Horizon 3: Blizzard Mountain</td>\n",
       "      <td>77.0</td>\n",
       "      <td>87</td>\n",
       "    </tr>\n",
       "    <tr>\n",
       "      <th>22</th>\n",
       "      <td>In Between</td>\n",
       "      <td>77.0</td>\n",
       "      <td>68</td>\n",
       "    </tr>\n",
       "    <tr>\n",
       "      <th>23</th>\n",
       "      <td>ACA NeoGeo: Metal Slug 3</td>\n",
       "      <td>76.0</td>\n",
       "      <td>76</td>\n",
       "    </tr>\n",
       "    <tr>\n",
       "      <th>24</th>\n",
       "      <td>Stranger of Sword City</td>\n",
       "      <td>76.0</td>\n",
       "      <td>70</td>\n",
       "    </tr>\n",
       "  </tbody>\n",
       "</table>\n",
       "</div>"
      ],
      "text/plain": [
       "                                      title  n_user_score  meta_score\n",
       "0                       Hyperdrive Massacre          86.0          73\n",
       "1                  Ori and the Blind Forest          85.0          88\n",
       "2                                   Cuphead          84.0          86\n",
       "3                Lego Marvel Super Heroes 2          83.0          75\n",
       "4                           Forza Horizon 2          83.0          86\n",
       "5            Silence: The Whispered World 2          82.0          66\n",
       "6                        Action News Heroes          81.0          49\n",
       "7            LEVEL 22, Gary's Misadventures          81.0          68\n",
       "8                                  Raiden V          81.0          75\n",
       "9                                  Shape Up          80.0          58\n",
       "10                          Forza Horizon 3          80.0          91\n",
       "11  Forza Horizon 2 Presents Fast & Furious          80.0          61\n",
       "12                              Rare Replay          80.0          84\n",
       "13                     Gas Guzzlers Extreme          80.0          62\n",
       "14                  Rise of the Tomb Raider          79.0          86\n",
       "15                       Starpoint Gemini 2          78.0          71\n",
       "16                     Fruit Ninja Kinect 2          78.0          69\n",
       "17                         Sunset Overdrive          78.0          81\n",
       "18                                   Cobalt          77.0          66\n",
       "19                       Forza Motorsport 6          77.0          87\n",
       "20                                 Gigantic          77.0          74\n",
       "21       Forza Horizon 3: Blizzard Mountain          77.0          87\n",
       "22                               In Between          77.0          68\n",
       "23                 ACA NeoGeo: Metal Slug 3          76.0          76\n",
       "24                   Stranger of Sword City          76.0          70"
      ]
     },
     "execution_count": 90,
     "metadata": {},
     "output_type": "execute_result"
    }
   ],
   "source": [
    "xone_exclusives[:25]"
   ]
  },
  {
   "cell_type": "markdown",
   "metadata": {
    "hidden": true
   },
   "source": [
    "__How many exlusive Xbox One games have user score equal or greater than 80 ?__"
   ]
  },
  {
   "cell_type": "code",
   "execution_count": 91,
   "metadata": {
    "hidden": true
   },
   "outputs": [
    {
     "data": {
      "text/plain": [
       "14"
      ]
     },
     "execution_count": 91,
     "metadata": {},
     "output_type": "execute_result"
    }
   ],
   "source": [
    "len(xone_exclusives.loc[xone_exclusives['n_user_score'] >= 80])"
   ]
  },
  {
   "cell_type": "markdown",
   "metadata": {
    "heading_collapsed": true,
    "hidden": true
   },
   "source": [
    "#### Switch"
   ]
  },
  {
   "cell_type": "markdown",
   "metadata": {
    "hidden": true
   },
   "source": [
    "__How many exclusive games Switch got?__"
   ]
  },
  {
   "cell_type": "code",
   "execution_count": 92,
   "metadata": {
    "hidden": true
   },
   "outputs": [
    {
     "data": {
      "text/plain": [
       "89"
      ]
     },
     "execution_count": 92,
     "metadata": {},
     "output_type": "execute_result"
    }
   ],
   "source": [
    "switch_exclusives = tmp.loc[tmp['title'].isin(list(switch_list.difference(ps4_list).difference(xone_list))), ('title', 'n_user_score', 'meta_score')].sort_values('n_user_score', ascending=False).reset_index(drop=True)\n",
    "len(switch_exclusives)"
   ]
  },
  {
   "cell_type": "markdown",
   "metadata": {
    "hidden": true
   },
   "source": [
    "__What are the top 25 exclusives Switch games?__"
   ]
  },
  {
   "cell_type": "code",
   "execution_count": 93,
   "metadata": {
    "hidden": true
   },
   "outputs": [
    {
     "data": {
      "text/html": [
       "<div>\n",
       "<style>\n",
       "    .dataframe thead tr:only-child th {\n",
       "        text-align: right;\n",
       "    }\n",
       "\n",
       "    .dataframe thead th {\n",
       "        text-align: left;\n",
       "    }\n",
       "\n",
       "    .dataframe tbody tr th {\n",
       "        vertical-align: top;\n",
       "    }\n",
       "</style>\n",
       "<table border=\"1\" class=\"dataframe\">\n",
       "  <thead>\n",
       "    <tr style=\"text-align: right;\">\n",
       "      <th></th>\n",
       "      <th>title</th>\n",
       "      <th>n_user_score</th>\n",
       "      <th>meta_score</th>\n",
       "    </tr>\n",
       "  </thead>\n",
       "  <tbody>\n",
       "    <tr>\n",
       "      <th>0</th>\n",
       "      <td>Super Mario Odyssey</td>\n",
       "      <td>89.0</td>\n",
       "      <td>97</td>\n",
       "    </tr>\n",
       "    <tr>\n",
       "      <th>1</th>\n",
       "      <td>Gorogoa</td>\n",
       "      <td>88.0</td>\n",
       "      <td>82</td>\n",
       "    </tr>\n",
       "    <tr>\n",
       "      <th>2</th>\n",
       "      <td>SteamWorld Heist: Ultimate Edition</td>\n",
       "      <td>88.0</td>\n",
       "      <td>90</td>\n",
       "    </tr>\n",
       "    <tr>\n",
       "      <th>3</th>\n",
       "      <td>Disgaea 5 Complete</td>\n",
       "      <td>87.0</td>\n",
       "      <td>81</td>\n",
       "    </tr>\n",
       "    <tr>\n",
       "      <th>4</th>\n",
       "      <td>Golf Story</td>\n",
       "      <td>86.0</td>\n",
       "      <td>78</td>\n",
       "    </tr>\n",
       "    <tr>\n",
       "      <th>5</th>\n",
       "      <td>Mario + Rabbids: Kingdom Battle</td>\n",
       "      <td>86.0</td>\n",
       "      <td>85</td>\n",
       "    </tr>\n",
       "    <tr>\n",
       "      <th>6</th>\n",
       "      <td>The Legend of Zelda: Breath of the Wild</td>\n",
       "      <td>85.0</td>\n",
       "      <td>97</td>\n",
       "    </tr>\n",
       "    <tr>\n",
       "      <th>7</th>\n",
       "      <td>Mario Kart 8 Deluxe</td>\n",
       "      <td>85.0</td>\n",
       "      <td>92</td>\n",
       "    </tr>\n",
       "    <tr>\n",
       "      <th>8</th>\n",
       "      <td>Splatoon 2</td>\n",
       "      <td>84.0</td>\n",
       "      <td>83</td>\n",
       "    </tr>\n",
       "    <tr>\n",
       "      <th>9</th>\n",
       "      <td>Snipperclips Plus: Cut It Out, Together!</td>\n",
       "      <td>84.0</td>\n",
       "      <td>84</td>\n",
       "    </tr>\n",
       "    <tr>\n",
       "      <th>10</th>\n",
       "      <td>Earth Atlantis</td>\n",
       "      <td>83.0</td>\n",
       "      <td>72</td>\n",
       "    </tr>\n",
       "    <tr>\n",
       "      <th>11</th>\n",
       "      <td>Battle Chef Brigade</td>\n",
       "      <td>83.0</td>\n",
       "      <td>81</td>\n",
       "    </tr>\n",
       "    <tr>\n",
       "      <th>12</th>\n",
       "      <td>The Legend of Zelda: Breath of the Wild - The ...</td>\n",
       "      <td>83.0</td>\n",
       "      <td>80</td>\n",
       "    </tr>\n",
       "    <tr>\n",
       "      <th>13</th>\n",
       "      <td>Xenoblade Chronicles 2</td>\n",
       "      <td>83.0</td>\n",
       "      <td>83</td>\n",
       "    </tr>\n",
       "    <tr>\n",
       "      <th>14</th>\n",
       "      <td>Farming Simulator: Nintendo Switch Edition</td>\n",
       "      <td>82.0</td>\n",
       "      <td>73</td>\n",
       "    </tr>\n",
       "    <tr>\n",
       "      <th>15</th>\n",
       "      <td>Snipperclips - Cut it out, together!</td>\n",
       "      <td>82.0</td>\n",
       "      <td>80</td>\n",
       "    </tr>\n",
       "    <tr>\n",
       "      <th>16</th>\n",
       "      <td>Slime-san</td>\n",
       "      <td>82.0</td>\n",
       "      <td>82</td>\n",
       "    </tr>\n",
       "    <tr>\n",
       "      <th>17</th>\n",
       "      <td>Implosion - Never Lose Hope</td>\n",
       "      <td>82.0</td>\n",
       "      <td>74</td>\n",
       "    </tr>\n",
       "    <tr>\n",
       "      <th>18</th>\n",
       "      <td>RIVE: Ultimate Edition</td>\n",
       "      <td>82.0</td>\n",
       "      <td>82</td>\n",
       "    </tr>\n",
       "    <tr>\n",
       "      <th>19</th>\n",
       "      <td>Blossom Tales: The Sleeping King</td>\n",
       "      <td>82.0</td>\n",
       "      <td>80</td>\n",
       "    </tr>\n",
       "    <tr>\n",
       "      <th>20</th>\n",
       "      <td>Fire Emblem Warriors</td>\n",
       "      <td>81.0</td>\n",
       "      <td>74</td>\n",
       "    </tr>\n",
       "    <tr>\n",
       "      <th>21</th>\n",
       "      <td>Super Beat Sports</td>\n",
       "      <td>81.0</td>\n",
       "      <td>68</td>\n",
       "    </tr>\n",
       "    <tr>\n",
       "      <th>22</th>\n",
       "      <td>The Binding of Isaac: Afterbirth +</td>\n",
       "      <td>81.0</td>\n",
       "      <td>85</td>\n",
       "    </tr>\n",
       "    <tr>\n",
       "      <th>23</th>\n",
       "      <td>The Elder Scrolls V: Skyrim</td>\n",
       "      <td>81.0</td>\n",
       "      <td>84</td>\n",
       "    </tr>\n",
       "    <tr>\n",
       "      <th>24</th>\n",
       "      <td>Resident Evil: Revelations Collection</td>\n",
       "      <td>80.0</td>\n",
       "      <td>78</td>\n",
       "    </tr>\n",
       "  </tbody>\n",
       "</table>\n",
       "</div>"
      ],
      "text/plain": [
       "                                                title  n_user_score  \\\n",
       "0                                 Super Mario Odyssey          89.0   \n",
       "1                                             Gorogoa          88.0   \n",
       "2                  SteamWorld Heist: Ultimate Edition          88.0   \n",
       "3                                  Disgaea 5 Complete          87.0   \n",
       "4                                          Golf Story          86.0   \n",
       "5                     Mario + Rabbids: Kingdom Battle          86.0   \n",
       "6             The Legend of Zelda: Breath of the Wild          85.0   \n",
       "7                                 Mario Kart 8 Deluxe          85.0   \n",
       "8                                          Splatoon 2          84.0   \n",
       "9            Snipperclips Plus: Cut It Out, Together!          84.0   \n",
       "10                                     Earth Atlantis          83.0   \n",
       "11                                Battle Chef Brigade          83.0   \n",
       "12  The Legend of Zelda: Breath of the Wild - The ...          83.0   \n",
       "13                             Xenoblade Chronicles 2          83.0   \n",
       "14         Farming Simulator: Nintendo Switch Edition          82.0   \n",
       "15               Snipperclips - Cut it out, together!          82.0   \n",
       "16                                          Slime-san          82.0   \n",
       "17                        Implosion - Never Lose Hope          82.0   \n",
       "18                             RIVE: Ultimate Edition          82.0   \n",
       "19                   Blossom Tales: The Sleeping King          82.0   \n",
       "20                               Fire Emblem Warriors          81.0   \n",
       "21                                  Super Beat Sports          81.0   \n",
       "22                 The Binding of Isaac: Afterbirth +          81.0   \n",
       "23                        The Elder Scrolls V: Skyrim          81.0   \n",
       "24              Resident Evil: Revelations Collection          80.0   \n",
       "\n",
       "    meta_score  \n",
       "0           97  \n",
       "1           82  \n",
       "2           90  \n",
       "3           81  \n",
       "4           78  \n",
       "5           85  \n",
       "6           97  \n",
       "7           92  \n",
       "8           83  \n",
       "9           84  \n",
       "10          72  \n",
       "11          81  \n",
       "12          80  \n",
       "13          83  \n",
       "14          73  \n",
       "15          80  \n",
       "16          82  \n",
       "17          74  \n",
       "18          82  \n",
       "19          80  \n",
       "20          74  \n",
       "21          68  \n",
       "22          85  \n",
       "23          84  \n",
       "24          78  "
      ]
     },
     "execution_count": 93,
     "metadata": {},
     "output_type": "execute_result"
    }
   ],
   "source": [
    "switch_exclusives[:25]"
   ]
  },
  {
   "cell_type": "markdown",
   "metadata": {
    "hidden": true
   },
   "source": [
    "__How many exlusive Switch games have user score equal or greater than 80 ?__"
   ]
  },
  {
   "cell_type": "code",
   "execution_count": 94,
   "metadata": {
    "hidden": true
   },
   "outputs": [
    {
     "data": {
      "text/plain": [
       "28"
      ]
     },
     "execution_count": 94,
     "metadata": {},
     "output_type": "execute_result"
    }
   ],
   "source": [
    "len(switch_exclusives.loc[switch_exclusives['n_user_score'] >= 80])"
   ]
  },
  {
   "cell_type": "markdown",
   "metadata": {},
   "source": [
    "### Developers"
   ]
  },
  {
   "cell_type": "markdown",
   "metadata": {},
   "source": [
    "#### PlayStation 4"
   ]
  },
  {
   "cell_type": "markdown",
   "metadata": {},
   "source": [
    "__Who are the top 10 developers with more released titles?__"
   ]
  },
  {
   "cell_type": "code",
   "execution_count": 177,
   "metadata": {},
   "outputs": [
    {
     "data": {
      "text/plain": [
       "developer\n",
       "Telltale Games      48\n",
       "Capcom              28\n",
       "EA Sports           17\n",
       "Omega Force         16\n",
       "Square Enix         16\n",
       "Zen Studios         16\n",
       "Ubisoft Montreal    14\n",
       "TT Games            11\n",
       "Io Interactive       8\n",
       "Arc System Works     8\n",
       "Name: title, dtype: int64"
      ]
     },
     "execution_count": 177,
     "metadata": {},
     "output_type": "execute_result"
    }
   ],
   "source": [
    "ps4.groupby('developer')['title'].count().sort_values(ascending=False)[:10]"
   ]
  },
  {
   "cell_type": "markdown",
   "metadata": {},
   "source": [
    "__Does quantity mean quality?__"
   ]
  },
  {
   "cell_type": "code",
   "execution_count": 167,
   "metadata": {},
   "outputs": [
    {
     "data": {
      "text/html": [
       "<div>\n",
       "<style>\n",
       "    .dataframe thead tr:only-child th {\n",
       "        text-align: right;\n",
       "    }\n",
       "\n",
       "    .dataframe thead th {\n",
       "        text-align: left;\n",
       "    }\n",
       "\n",
       "    .dataframe tbody tr th {\n",
       "        vertical-align: top;\n",
       "    }\n",
       "</style>\n",
       "<table border=\"1\" class=\"dataframe\">\n",
       "  <thead>\n",
       "    <tr style=\"text-align: right;\">\n",
       "      <th></th>\n",
       "      <th>count</th>\n",
       "      <th>n_user_score_avg</th>\n",
       "      <th>meta_score_avg</th>\n",
       "    </tr>\n",
       "    <tr>\n",
       "      <th>developer</th>\n",
       "      <th></th>\n",
       "      <th></th>\n",
       "      <th></th>\n",
       "    </tr>\n",
       "  </thead>\n",
       "  <tbody>\n",
       "    <tr>\n",
       "      <th>Telltale Games</th>\n",
       "      <td>48</td>\n",
       "      <td>62.645833</td>\n",
       "      <td>72.895833</td>\n",
       "    </tr>\n",
       "    <tr>\n",
       "      <th>Capcom</th>\n",
       "      <td>28</td>\n",
       "      <td>69.357143</td>\n",
       "      <td>74.785714</td>\n",
       "    </tr>\n",
       "    <tr>\n",
       "      <th>EA Sports</th>\n",
       "      <td>17</td>\n",
       "      <td>49.058824</td>\n",
       "      <td>73.352941</td>\n",
       "    </tr>\n",
       "    <tr>\n",
       "      <th>Zen Studios</th>\n",
       "      <td>16</td>\n",
       "      <td>56.000000</td>\n",
       "      <td>79.125000</td>\n",
       "    </tr>\n",
       "    <tr>\n",
       "      <th>Omega Force</th>\n",
       "      <td>16</td>\n",
       "      <td>70.937500</td>\n",
       "      <td>71.062500</td>\n",
       "    </tr>\n",
       "    <tr>\n",
       "      <th>Square Enix</th>\n",
       "      <td>16</td>\n",
       "      <td>68.687500</td>\n",
       "      <td>75.937500</td>\n",
       "    </tr>\n",
       "    <tr>\n",
       "      <th>Ubisoft Montreal</th>\n",
       "      <td>14</td>\n",
       "      <td>70.642857</td>\n",
       "      <td>74.785714</td>\n",
       "    </tr>\n",
       "    <tr>\n",
       "      <th>TT Games</th>\n",
       "      <td>11</td>\n",
       "      <td>71.818182</td>\n",
       "      <td>72.818182</td>\n",
       "    </tr>\n",
       "    <tr>\n",
       "      <th>Arc System Works</th>\n",
       "      <td>8</td>\n",
       "      <td>76.500000</td>\n",
       "      <td>77.625000</td>\n",
       "    </tr>\n",
       "    <tr>\n",
       "      <th>Io Interactive</th>\n",
       "      <td>8</td>\n",
       "      <td>69.750000</td>\n",
       "      <td>77.625000</td>\n",
       "    </tr>\n",
       "  </tbody>\n",
       "</table>\n",
       "</div>"
      ],
      "text/plain": [
       "                  count  n_user_score_avg  meta_score_avg\n",
       "developer                                                \n",
       "Telltale Games       48         62.645833       72.895833\n",
       "Capcom               28         69.357143       74.785714\n",
       "EA Sports            17         49.058824       73.352941\n",
       "Zen Studios          16         56.000000       79.125000\n",
       "Omega Force          16         70.937500       71.062500\n",
       "Square Enix          16         68.687500       75.937500\n",
       "Ubisoft Montreal     14         70.642857       74.785714\n",
       "TT Games             11         71.818182       72.818182\n",
       "Arc System Works      8         76.500000       77.625000\n",
       "Io Interactive        8         69.750000       77.625000"
      ]
     },
     "execution_count": 167,
     "metadata": {},
     "output_type": "execute_result"
    }
   ],
   "source": [
    "dev = pd.concat([ps4.groupby('developer')['title'].count(), ps4.groupby('developer')['n_user_score'].mean(), ps4.groupby('developer')['meta_score'].mean()], axis=1)\n",
    "dev.columns = ['count', 'n_user_score_avg', 'meta_score_avg']\n",
    "dev.sort_values('count', ascending=False)[:10]"
   ]
  },
  {
   "cell_type": "markdown",
   "metadata": {},
   "source": [
    "It seems that not"
   ]
  },
  {
   "cell_type": "markdown",
   "metadata": {},
   "source": [
    "__Who are the best 10 developers according to user score (at least 4 released titles)?__"
   ]
  },
  {
   "cell_type": "code",
   "execution_count": 159,
   "metadata": {},
   "outputs": [
    {
     "data": {
      "text/html": [
       "<div>\n",
       "<style>\n",
       "    .dataframe thead tr:only-child th {\n",
       "        text-align: right;\n",
       "    }\n",
       "\n",
       "    .dataframe thead th {\n",
       "        text-align: left;\n",
       "    }\n",
       "\n",
       "    .dataframe tbody tr th {\n",
       "        vertical-align: top;\n",
       "    }\n",
       "</style>\n",
       "<table border=\"1\" class=\"dataframe\">\n",
       "  <thead>\n",
       "    <tr style=\"text-align: right;\">\n",
       "      <th></th>\n",
       "      <th>count</th>\n",
       "      <th>n_user_score_avg</th>\n",
       "      <th>meta_score_avg</th>\n",
       "    </tr>\n",
       "    <tr>\n",
       "      <th>developer</th>\n",
       "      <th></th>\n",
       "      <th></th>\n",
       "      <th></th>\n",
       "    </tr>\n",
       "  </thead>\n",
       "  <tbody>\n",
       "    <tr>\n",
       "      <th>From Software</th>\n",
       "      <td>6</td>\n",
       "      <td>83.833333</td>\n",
       "      <td>84.666667</td>\n",
       "    </tr>\n",
       "    <tr>\n",
       "      <th>DONTNOD Entertainment</th>\n",
       "      <td>6</td>\n",
       "      <td>83.500000</td>\n",
       "      <td>80.166667</td>\n",
       "    </tr>\n",
       "    <tr>\n",
       "      <th>Deck Nine Games</th>\n",
       "      <td>4</td>\n",
       "      <td>79.000000</td>\n",
       "      <td>76.250000</td>\n",
       "    </tr>\n",
       "    <tr>\n",
       "      <th>Spike Chunsoft</th>\n",
       "      <td>6</td>\n",
       "      <td>78.333333</td>\n",
       "      <td>77.000000</td>\n",
       "    </tr>\n",
       "    <tr>\n",
       "      <th>Sega</th>\n",
       "      <td>4</td>\n",
       "      <td>77.250000</td>\n",
       "      <td>82.500000</td>\n",
       "    </tr>\n",
       "    <tr>\n",
       "      <th>Arc System Works</th>\n",
       "      <td>8</td>\n",
       "      <td>76.500000</td>\n",
       "      <td>77.625000</td>\n",
       "    </tr>\n",
       "    <tr>\n",
       "      <th>CyberConnect2</th>\n",
       "      <td>5</td>\n",
       "      <td>76.400000</td>\n",
       "      <td>71.200000</td>\n",
       "    </tr>\n",
       "    <tr>\n",
       "      <th>Housemarque</th>\n",
       "      <td>4</td>\n",
       "      <td>76.250000</td>\n",
       "      <td>84.500000</td>\n",
       "    </tr>\n",
       "    <tr>\n",
       "      <th>Techland</th>\n",
       "      <td>4</td>\n",
       "      <td>76.250000</td>\n",
       "      <td>75.250000</td>\n",
       "    </tr>\n",
       "    <tr>\n",
       "      <th>Guerrilla</th>\n",
       "      <td>4</td>\n",
       "      <td>76.250000</td>\n",
       "      <td>79.250000</td>\n",
       "    </tr>\n",
       "  </tbody>\n",
       "</table>\n",
       "</div>"
      ],
      "text/plain": [
       "                       count  n_user_score_avg  meta_score_avg\n",
       "developer                                                     \n",
       "From Software              6         83.833333       84.666667\n",
       "DONTNOD Entertainment      6         83.500000       80.166667\n",
       "Deck Nine Games            4         79.000000       76.250000\n",
       "Spike Chunsoft             6         78.333333       77.000000\n",
       "Sega                       4         77.250000       82.500000\n",
       "Arc System Works           8         76.500000       77.625000\n",
       "CyberConnect2              5         76.400000       71.200000\n",
       "Housemarque                4         76.250000       84.500000\n",
       "Techland                   4         76.250000       75.250000\n",
       "Guerrilla                  4         76.250000       79.250000"
      ]
     },
     "execution_count": 159,
     "metadata": {},
     "output_type": "execute_result"
    }
   ],
   "source": [
    "dev.loc[dev['count'] >= 4].sort_values('n_user_score_avg', ascending=False)[:10]"
   ]
  },
  {
   "cell_type": "markdown",
   "metadata": {},
   "source": [
    "__What are the titles that gave them such a good reputation ?__"
   ]
  },
  {
   "cell_type": "markdown",
   "metadata": {},
   "source": [
    "From Software"
   ]
  },
  {
   "cell_type": "code",
   "execution_count": 160,
   "metadata": {},
   "outputs": [
    {
     "data": {
      "text/plain": [
       "0                                 Bloodborne\n",
       "1                Bloodborne: The Old Hunters\n",
       "2    Dark Souls II: Scholar of the First Sin\n",
       "3                             Dark Souls III\n",
       "4          Dark Souls III: Ashes of Ariandel\n",
       "5            Dark Souls III: The Ringed City\n",
       "Name: title, dtype: object"
      ]
     },
     "execution_count": 160,
     "metadata": {},
     "output_type": "execute_result"
    }
   ],
   "source": [
    "ps4.loc[ps4['developer'] == 'From Software', 'title'].reset_index(drop=True)"
   ]
  },
  {
   "cell_type": "markdown",
   "metadata": {},
   "source": [
    "DONTNOD Entertainment"
   ]
  },
  {
   "cell_type": "code",
   "execution_count": 161,
   "metadata": {},
   "outputs": [
    {
     "data": {
      "text/plain": [
       "0                              Life is Strange\n",
       "1       Life is Strange: Episode 1 - Chrysalis\n",
       "2     Life is Strange: Episode 2 - Out of Time\n",
       "3    Life is Strange: Episode 3 - Chaos Theory\n",
       "4       Life is Strange: Episode 4 - Dark Room\n",
       "5       Life is Strange: Episode 5 - Polarized\n",
       "Name: title, dtype: object"
      ]
     },
     "execution_count": 161,
     "metadata": {},
     "output_type": "execute_result"
    }
   ],
   "source": [
    "ps4.loc[ps4['developer'] == 'DONTNOD Entertainment', 'title'].reset_index(drop=True)"
   ]
  },
  {
   "cell_type": "markdown",
   "metadata": {},
   "source": [
    "__Who are the top 10 developers whose titles are on average more overrated by metacritic (at least 4 released titles) ?__"
   ]
  },
  {
   "cell_type": "code",
   "execution_count": 174,
   "metadata": {},
   "outputs": [
    {
     "data": {
      "text/html": [
       "<div>\n",
       "<style>\n",
       "    .dataframe thead tr:only-child th {\n",
       "        text-align: right;\n",
       "    }\n",
       "\n",
       "    .dataframe thead th {\n",
       "        text-align: left;\n",
       "    }\n",
       "\n",
       "    .dataframe tbody tr th {\n",
       "        vertical-align: top;\n",
       "    }\n",
       "</style>\n",
       "<table border=\"1\" class=\"dataframe\">\n",
       "  <thead>\n",
       "    <tr style=\"text-align: right;\">\n",
       "      <th></th>\n",
       "      <th>dif_avg</th>\n",
       "      <th>count</th>\n",
       "    </tr>\n",
       "  </thead>\n",
       "  <tbody>\n",
       "    <tr>\n",
       "      <th>Infinity Ward</th>\n",
       "      <td>40.800000</td>\n",
       "      <td>5</td>\n",
       "    </tr>\n",
       "    <tr>\n",
       "      <th>Treyarch</th>\n",
       "      <td>31.600000</td>\n",
       "      <td>5</td>\n",
       "    </tr>\n",
       "    <tr>\n",
       "      <th>Bungie</th>\n",
       "      <td>31.333333</td>\n",
       "      <td>6</td>\n",
       "    </tr>\n",
       "    <tr>\n",
       "      <th>Visual Concepts</th>\n",
       "      <td>28.400000</td>\n",
       "      <td>5</td>\n",
       "    </tr>\n",
       "    <tr>\n",
       "      <th>EA Sports</th>\n",
       "      <td>24.294118</td>\n",
       "      <td>17</td>\n",
       "    </tr>\n",
       "    <tr>\n",
       "      <th>Zen Studios</th>\n",
       "      <td>23.125000</td>\n",
       "      <td>16</td>\n",
       "    </tr>\n",
       "    <tr>\n",
       "      <th>EA DICE</th>\n",
       "      <td>21.571429</td>\n",
       "      <td>7</td>\n",
       "    </tr>\n",
       "    <tr>\n",
       "      <th>The Odd Gentlemen</th>\n",
       "      <td>14.000000</td>\n",
       "      <td>5</td>\n",
       "    </tr>\n",
       "    <tr>\n",
       "      <th>Bethesda Game Studios</th>\n",
       "      <td>13.285714</td>\n",
       "      <td>7</td>\n",
       "    </tr>\n",
       "    <tr>\n",
       "      <th>Monolith Productions</th>\n",
       "      <td>13.250000</td>\n",
       "      <td>4</td>\n",
       "    </tr>\n",
       "  </tbody>\n",
       "</table>\n",
       "</div>"
      ],
      "text/plain": [
       "                         dif_avg  count\n",
       "Infinity Ward          40.800000      5\n",
       "Treyarch               31.600000      5\n",
       "Bungie                 31.333333      6\n",
       "Visual Concepts        28.400000      5\n",
       "EA Sports              24.294118     17\n",
       "Zen Studios            23.125000     16\n",
       "EA DICE                21.571429      7\n",
       "The Odd Gentlemen      14.000000      5\n",
       "Bethesda Game Studios  13.285714      7\n",
       "Monolith Productions   13.250000      4"
      ]
     },
     "execution_count": 174,
     "metadata": {},
     "output_type": "execute_result"
    }
   ],
   "source": [
    "dev = pd.concat([ps4.groupby('developer')['dif'].mean().sort_values(ascending=False), ps4.groupby('developer')['title'].count()], axis=1)\n",
    "dev.columns = ['dif_avg', 'count']\n",
    "dev.loc[dev['count'] >= 4].sort_values('dif_avg', ascending=False)[:10]"
   ]
  },
  {
   "cell_type": "markdown",
   "metadata": {},
   "source": [
    "__What are the top 10 EA Sports games according to metacritic?__"
   ]
  },
  {
   "cell_type": "code",
   "execution_count": 165,
   "metadata": {},
   "outputs": [
    {
     "data": {
      "image/png": "[encoded data removed]",
      "text/plain": [
       "<matplotlib.figure.Figure at 0x7f9552ee7ef0>"
      ]
     },
     "metadata": {},
     "output_type": "display_data"
    }
   ],
   "source": [
    "ea = ps4.loc[ps4['developer'] == 'EA Sports', ['title', 'meta_score', 'n_user_score']].sort_values('meta_score', ascending=False)[:10]\n",
    "ea.set_index('title').plot.bar(figsize=(14, 6));"
   ]
  },
  {
   "cell_type": "markdown",
   "metadata": {},
   "source": [
    "__Who are the top 10 developers whose titles are on average more underrated by metacritic (at least 4 released titles)?__"
   ]
  },
  {
   "cell_type": "code",
   "execution_count": 175,
   "metadata": {},
   "outputs": [
    {
     "data": {
      "text/html": [
       "<div>\n",
       "<style>\n",
       "    .dataframe thead tr:only-child th {\n",
       "        text-align: right;\n",
       "    }\n",
       "\n",
       "    .dataframe thead th {\n",
       "        text-align: left;\n",
       "    }\n",
       "\n",
       "    .dataframe tbody tr th {\n",
       "        vertical-align: top;\n",
       "    }\n",
       "</style>\n",
       "<table border=\"1\" class=\"dataframe\">\n",
       "  <thead>\n",
       "    <tr style=\"text-align: right;\">\n",
       "      <th></th>\n",
       "      <th>dif_avg</th>\n",
       "      <th>count</th>\n",
       "    </tr>\n",
       "  </thead>\n",
       "  <tbody>\n",
       "    <tr>\n",
       "      <th>HB Studios Multimedia</th>\n",
       "      <td>-8.000000</td>\n",
       "      <td>4</td>\n",
       "    </tr>\n",
       "    <tr>\n",
       "      <th>Acquire</th>\n",
       "      <td>-7.750000</td>\n",
       "      <td>4</td>\n",
       "    </tr>\n",
       "    <tr>\n",
       "      <th>SuperMassive Games</th>\n",
       "      <td>-5.800000</td>\n",
       "      <td>5</td>\n",
       "    </tr>\n",
       "    <tr>\n",
       "      <th>Compile Heart</th>\n",
       "      <td>-5.250000</td>\n",
       "      <td>4</td>\n",
       "    </tr>\n",
       "    <tr>\n",
       "      <th>CyberConnect2</th>\n",
       "      <td>-5.200000</td>\n",
       "      <td>5</td>\n",
       "    </tr>\n",
       "    <tr>\n",
       "      <th>Gust</th>\n",
       "      <td>-5.000000</td>\n",
       "      <td>4</td>\n",
       "    </tr>\n",
       "    <tr>\n",
       "      <th>PlatinumGames</th>\n",
       "      <td>-3.600000</td>\n",
       "      <td>5</td>\n",
       "    </tr>\n",
       "    <tr>\n",
       "      <th>DONTNOD Entertainment</th>\n",
       "      <td>-3.333333</td>\n",
       "      <td>6</td>\n",
       "    </tr>\n",
       "    <tr>\n",
       "      <th>Media Vision</th>\n",
       "      <td>-2.750000</td>\n",
       "      <td>4</td>\n",
       "    </tr>\n",
       "    <tr>\n",
       "      <th>Deck Nine Games</th>\n",
       "      <td>-2.750000</td>\n",
       "      <td>4</td>\n",
       "    </tr>\n",
       "  </tbody>\n",
       "</table>\n",
       "</div>"
      ],
      "text/plain": [
       "                        dif_avg  count\n",
       "HB Studios Multimedia -8.000000      4\n",
       "Acquire               -7.750000      4\n",
       "SuperMassive Games    -5.800000      5\n",
       "Compile Heart         -5.250000      4\n",
       "CyberConnect2         -5.200000      5\n",
       "Gust                  -5.000000      4\n",
       "PlatinumGames         -3.600000      5\n",
       "DONTNOD Entertainment -3.333333      6\n",
       "Media Vision          -2.750000      4\n",
       "Deck Nine Games       -2.750000      4"
      ]
     },
     "execution_count": 175,
     "metadata": {},
     "output_type": "execute_result"
    }
   ],
   "source": [
    "dev.loc[dev['count'] >= 4].sort_values('dif_avg')[:10]"
   ]
  },
  {
   "cell_type": "code",
   "execution_count": 176,
   "metadata": {},
   "outputs": [
    {
     "data": {
      "text/plain": [
       "0    Mark McMorris Infinite Air\n",
       "1                      Rugby 15\n",
       "2          Rugby World Cup 2015\n",
       "3                 The Golf Club\n",
       "Name: title, dtype: object"
      ]
     },
     "execution_count": 176,
     "metadata": {},
     "output_type": "execute_result"
    }
   ],
   "source": [
    "ps4.loc[ps4['developer'] == 'HB Studios Multimedia', 'title'].reset_index(drop=True)"
   ]
  },
  {
   "cell_type": "code",
   "execution_count": 177,
   "metadata": {},
   "outputs": [
    {
     "data": {
      "text/plain": [
       "0    Aegis of Earth: Protonovus Assault\n",
       "1                          Akiba's Beat\n",
       "2      Akiba's Trip: Undead & Undressed\n",
       "3                 No Heroes Allowed! VR\n",
       "Name: title, dtype: object"
      ]
     },
     "execution_count": 177,
     "metadata": {},
     "output_type": "execute_result"
    }
   ],
   "source": [
    "ps4.loc[ps4['developer'] == 'Acquire', 'title'].reset_index(drop=True)"
   ]
  },
  {
   "cell_type": "markdown",
   "metadata": {},
   "source": [
    "### Ratings"
   ]
  },
  {
   "cell_type": "markdown",
   "metadata": {},
   "source": [
    "__How many titles per rating category?__"
   ]
  },
  {
   "cell_type": "code",
   "execution_count": 144,
   "metadata": {},
   "outputs": [
    {
     "data": {
      "image/png": "[encoded data removed]",
      "text/plain": [
       "<matplotlib.figure.Figure at 0x7f95534cdbe0>"
      ]
     },
     "metadata": {},
     "output_type": "display_data"
    }
   ],
   "source": [
    "df['rating'].value_counts().plot.bar(figsize=(12, 6), rot=0);"
   ]
  },
  {
   "cell_type": "markdown",
   "metadata": {},
   "source": [
    "E: Everyone\n",
    "<br/>E+10: Everyone +10\n",
    "<br/>T: Teen +13\n",
    "<br/>M: Mature +17"
   ]
  },
  {
   "cell_type": "markdown",
   "metadata": {},
   "source": [
    "__Which console is more \"family\" oriented?__"
   ]
  },
  {
   "cell_type": "code",
   "execution_count": 77,
   "metadata": {
    "collapsed": true
   },
   "outputs": [],
   "source": [
    "qty = df.loc[(df['rating'].isnull() == False) & (df['rating'] != 'RP')].groupby('platform')['title'].count()\n",
    "#((df.loc[df['rating'] != 'RP'].groupby(['platform', 'rating'])['title'].count().unstack().transpose() / qty) * 100).plot.bar(figsize=(12, 6), rot=0);\n",
    "rat = (df.loc[df['rating'] != 'RP'].groupby(['platform', 'rating'])['title'].count().unstack().transpose() / qty) * 100\n",
    "rat = rat[['PlayStation 4', 'Xbox One', 'Switch']]"
   ]
  },
  {
   "cell_type": "code",
   "execution_count": 106,
   "metadata": {},
   "outputs": [
    {
     "data": {
      "image/png": "[encoded data removed]",
      "text/plain": [
       "<matplotlib.figure.Figure at 0x7f881f30cac8>"
      ]
     },
     "metadata": {},
     "output_type": "display_data"
    }
   ],
   "source": [
    "fig = plt.figure(figsize = (10,6))\n",
    "ax = fig.add_subplot(1, 1, 1)\n",
    "rat.iloc[0].plot.bar(ax=ax, color='beige', edgecolor='white', label=rat.index[0]);\n",
    "rat.iloc[1].plot.bar(ax=ax, bottom=rat.iloc[0], color='navajowhite', edgecolor='white', label=rat.index[1]);\n",
    "rat.iloc[3].plot.bar(ax=ax, bottom=rat.iloc[:2].sum().values, color='lightsalmon', edgecolor='white', label=rat.index[3]);\n",
    "rat.iloc[2].plot.bar(ax=ax, bottom=(rat.iloc[:2].sum() + rat.iloc[3]).values, color='firebrick', edgecolor='white', label=rat.index[2], rot=0);\n",
    "ax.legend(loc='upper left', bbox_to_anchor=(1, 1), ncol=1);"
   ]
  },
  {
   "cell_type": "markdown",
   "metadata": {},
   "source": [
    "Switch has in proportion more games suited for everyone"
   ]
  },
  {
   "cell_type": "markdown",
   "metadata": {},
   "source": [
    "__Which category has the best games ?__"
   ]
  },
  {
   "cell_type": "code",
   "execution_count": 147,
   "metadata": {},
   "outputs": [
    {
     "data": {
      "image/png": "[encoded data removed]",
      "text/plain": [
       "<matplotlib.figure.Figure at 0x7f9553515c50>"
      ]
     },
     "metadata": {},
     "output_type": "display_data"
    }
   ],
   "source": [
    "tmp.loc[(tmp['rating'].isnull() == False) & (tmp['rating'] != 'RP')].groupby('rating')['n_user_score'].mean().sort_values(ascending=False).plot.bar(figsize=(12, 6), rot=0);"
   ]
  },
  {
   "cell_type": "markdown",
   "metadata": {},
   "source": [
    "Mature category seems to has an advantage"
   ]
  },
  {
   "cell_type": "code",
   "execution_count": null,
   "metadata": {
    "collapsed": true
   },
   "outputs": [],
   "source": []
  }
 ],
 "metadata": {
  "kernelspec": {
   "display_name": "Python 3",
   "language": "python",
   "name": "python3"
  },
  "language_info": {
   "codemirror_mode": {
    "name": "ipython",
    "version": 3
   },
   "file_extension": ".py",
   "mimetype": "text/x-python",
   "name": "python",
   "nbconvert_exporter": "python",
   "pygments_lexer": "ipython3",
   "version": "3.6.2"
  }
 },
 "nbformat": 4,
 "nbformat_minor": 2
}
